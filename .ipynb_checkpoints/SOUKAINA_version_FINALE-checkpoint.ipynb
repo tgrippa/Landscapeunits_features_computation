{
 "cells": [
  {
   "cell_type": "markdown",
   "metadata": {
    "collapsed": true
   },
   "source": [
    "## <b> Passage du Land cover au land use en utilisant des métriques paysagères</b>"
   ]
  },
  {
   "cell_type": "markdown",
   "metadata": {},
   "source": [
    "Ce code est implémenté sous python 2.7 , en utilisant GRASS 7.2"
   ]
  },
  {
   "cell_type": "markdown",
   "metadata": {},
   "source": [
    "<b> Définition de l'environnement de travail pour Grass </b>"
   ]
  },
  {
   "cell_type": "code",
   "execution_count": 12,
   "metadata": {},
   "outputs": [
    {
     "name": "stdout",
     "output_type": "stream",
     "text": [
      "Import des librairies\n",
      "Import des librairies achevé !\n"
     ]
    }
   ],
   "source": [
    "# Import de librairies\n",
    "print('Import des librairies')\n",
    "import os\n",
    "import sys\n",
    "import shutil\n",
    "import csv\n",
    "import string\n",
    "import itertools\n",
    "import random\n",
    "print('Import des librairies achevé !')"
   ]
  },
  {
   "cell_type": "markdown",
   "metadata": {},
   "source": [
    "Définition des variables d'environnement de grass "
   ]
  },
  {
   "cell_type": "code",
   "execution_count": 13,
   "metadata": {
    "collapsed": true
   },
   "outputs": [],
   "source": [
    "# Définition des variables d'environnement de GRASS\n",
    "gisbase = os.environ['GISBASE'] = 'C:/Program Files/GRASS GIS 7.2.svn'\n",
    "os.environ['PATH'] = 'C:\\\\Program Files\\\\GRASS GIS 7.2.svn\\\\lib;C:\\\\Program Files\\\\GRASS GIS 7.2.svn\\\\bin;C:\\\\Program Files\\\\GRASS GIS 7.2.svn\\\\extrabin' + os.pathsep + os.environ['PATH']\n",
    "os.environ['PATH'] = 'C:\\\\Program Files\\\\GRASS GIS 7.2.svn\\\\etc;C:\\\\Program Files\\\\GRASS GIS 7.2.svn\\\\etc\\\\python;C:\\\\Python27' + os.pathsep + os.environ['PATH']\n",
    "os.environ['PATH'] = 'C:\\\\Program Files\\\\GRASS GIS 7.2.svn\\\\Python27;C:\\\\Users\\\\Stagiaire\\\\AppData\\\\Roaming\\\\GRASS7\\\\addons\\\\scripts' + os.pathsep + os.environ['PATH']\n",
    "os.environ['PATH'] = 'C:\\\\Program Files\\\\Anaconda2\\\\lib\\\\site-packages' + os.pathsep + os.environ['PATH']\n",
    "os.environ['PYTHONLIB'] = 'C:\\Python27'\n",
    "os.environ['PYTHONPATH'] = 'C:/Program Files/GRASS GIS 7.2.svn/etc/python'\n",
    "os.environ['GIS_LOCK'] = '$$'"
   ]
  },
  {
   "cell_type": "markdown",
   "metadata": {},
   "source": [
    " Définition de l'environnement GRASS-PYTHON "
   ]
  },
  {
   "cell_type": "code",
   "execution_count": 14,
   "metadata": {},
   "outputs": [],
   "source": [
    "# Définition de l'environnement GRASS-PYTHON\n",
    "sys.path.append(os.path.join(os.environ['GISBASE'],'etc','python'))"
   ]
  },
  {
   "cell_type": "code",
   "execution_count": 15,
   "metadata": {
    "collapsed": true
   },
   "outputs": [],
   "source": [
    "# répertoire contenant le mapset\n",
    "gisdb = \"F:\\\\stagiaire\""
   ]
  },
  {
   "cell_type": "markdown",
   "metadata": {},
   "source": [
    "## Spécification d'une location existante et d'un mapset"
   ]
  },
  {
   "cell_type": "markdown",
   "metadata": {},
   "source": [
    "La projection de la location  devra être celle d'une couche utilisée par la suite (celle des ilots urbains ou autre...)\n",
    "Il faudra donc cocheer : \"Read projection and datum terms from a georeferenced data file\" lors de sa creation:\n"
   ]
  },
  {
   "cell_type": "markdown",
   "metadata": {},
   "source": [
    "![illustration  : ](images\\createLocation.png )"
   ]
  },
  {
   "cell_type": "code",
   "execution_count": 16,
   "metadata": {},
   "outputs": [],
   "source": [
    "# specify (existing) location and mapset\n",
    "location = \"Glocation\"\n",
    "mapset = \"PERMANENT\"\n"
   ]
  },
  {
   "cell_type": "code",
   "execution_count": 17,
   "metadata": {},
   "outputs": [],
   "source": [
    "# import GRASS Python bindings\n",
    "import grass.script as grass\n",
    "import grass.script.setup as gsetup\n",
    "import pandas as pd"
   ]
  },
  {
   "cell_type": "markdown",
   "metadata": {},
   "source": [
    "## Lancement de la session"
   ]
  },
  {
   "cell_type": "code",
   "execution_count": 18,
   "metadata": {},
   "outputs": [
    {
     "data": {
      "text/plain": [
       "'c:\\\\users\\\\stagia~1\\\\appdata\\\\local\\\\temp\\\\tmpot5h40'"
      ]
     },
     "execution_count": 18,
     "metadata": {},
     "output_type": "execute_result"
    }
   ],
   "source": [
    "# launch session\n",
    "gsetup.init(gisbase,gisdb, location, mapset)"
   ]
  },
  {
   "cell_type": "markdown",
   "metadata": {},
   "source": [
    "## Import des librairies"
   ]
  },
  {
   "cell_type": "code",
   "execution_count": 19,
   "metadata": {},
   "outputs": [
    {
     "name": "stdout",
     "output_type": "stream",
     "text": [
      "Import des librairies\n",
      "L import des librairies est achevé !\n"
     ]
    }
   ],
   "source": [
    "print('Import des librairies')\n",
    "import grass.script as grass\n",
    "import time\n",
    "import pandas as pd\n",
    "import glob\n",
    "print('L import des librairies est achevé !')"
   ]
  },
  {
   "cell_type": "code",
   "execution_count": 20,
   "metadata": {},
   "outputs": [
    {
     "name": "stdout",
     "output_type": "stream",
     "text": [
      "1470932917.53\n"
     ]
    }
   ],
   "source": [
    "begintime=time.time()\n",
    "print(begintime)"
   ]
  },
  {
   "cell_type": "markdown",
   "metadata": {},
   "source": [
    "## Definition des fonctions"
   ]
  },
  {
   "cell_type": "markdown",
   "metadata": {},
   "source": [
    "<span style=\"color:red\">calculTemps</span> calcule le temps de traitement et prend comme paramètre l'heure de début de traitement et une chaine de caractère qui correspond à une phrase à afficher expliquant le traitement effectué"
   ]
  },
  {
   "cell_type": "code",
   "execution_count": 21,
   "metadata": {
    "collapsed": true
   },
   "outputs": [],
   "source": [
    "def calculTemps(tempbegintime, chaine):\n",
    "    tempendtime=time.time()\n",
    "    hours=int((tempendtime-tempbegintime)/3600)\n",
    "    minutes=int(((tempendtime-tempbegintime)-(hours*3600))/60)\n",
    "    seconds=round(((tempendtime-tempbegintime)-(minutes*60))%60,1)\n",
    "    return chaine+str(hours)+\" heures, \"+str(minutes)+\" minutes et \"+str(seconds)+\" secondes\""
   ]
  },
  {
   "cell_type": "markdown",
   "metadata": {},
   "source": [
    "<span style=\"color:red\">importVectorGrass</span> importe un vecteur dans Grass et prend comme paramètre le lien vers le fichier shapefile et le nom du fichier de sortie. Si un fichier portant le même nom existe déjà sur GRASS, il sera écrasé."
   ]
  },
  {
   "cell_type": "code",
   "execution_count": 22,
   "metadata": {},
   "outputs": [],
   "source": [
    "def importVectorGrass(lienDuVecteur, nomFichierDeSortie):\n",
    "    grass.run_command('v.in.ogr', overwrite=True, input=lienDuVecteur, output=nomFichierDeSortie)"
   ]
  },
  {
   "cell_type": "markdown",
   "metadata": {},
   "source": [
    "<span style=\"color:red\">extractIlots</span> extrait une zone d'étude à partir d'un polygone délimitant la zone, et d'une couche vectorielle qui contient la zone à extraire.  Etant donné que Grass crée la table attributaire de la nouvelle couche vectorielle en joignant les colonnes des deux couches en entrée et en ajoutant un suffixe au nom de chaque colonne, et les colonnes ne sont pas toutes utiles, certaines sont supprimées et les autres sont renommées afin d'en supprimer le suffixe ajouté par Grass"
   ]
  },
  {
   "cell_type": "code",
   "execution_count": 23,
   "metadata": {
    "collapsed": true
   },
   "outputs": [],
   "source": [
    "def extractIlots(LienVersPolygoneZE, NomCoucheIlotsUrbains):\n",
    "    ## Import du polygone servant à extraire la zone d'étude \n",
    "    importVectorGrass(LienVersPolygoneZE, \"ZE\")\n",
    "    \n",
    "    #extraction\n",
    "    grass.run_command('v.overlay', ainput='ZE' ,  binput=NomCoucheIlotsUrbains, output='ZE_ILOTS_URBAINS', operator='and' ,overwrite= True, snap=-1)\n",
    "    \n",
    "    ##suppression des colonnes inutiles et renommage des autres\n",
    "    grass.run_command('v.db.dropcolumn', map='ZE_ILOTS_URBAINS@PERMANENT',columns='b_cat')\n",
    "    colonne_ilots=grass.parse_command('db.columns',table='ZE_ILOTS_URBAINS_1')\n",
    "    liste_colonnes_ilots=[]\n",
    "    for elem in colonne_ilots:\n",
    "        liste_colonnes_ilots.append(str(elem))\n",
    "    for nom in liste_colonnes_ilots:\n",
    "        if nom[0] is'a' and nom[1] is'_':\n",
    "            grass.run_command('v.db.dropcolumn', map='ZE_ILOTS_URBAINS@PERMANENT',columns=nom)\n",
    "        elif nom[0] is'b' and nom[1] is'_':\n",
    "            grass.run_command('v.db.renamecolumn', map='ZE_ILOTS_URBAINS@PERMANENT',column=nom+','+nom[2:len(nom)] )"
   ]
  },
  {
   "cell_type": "markdown",
   "metadata": {},
   "source": [
    "<span style=\"color:red\">nettoieDonnees</span> ajoute une colonne \"aire\" à la table attributaire de la couche des ilots urbains. et la remplit avec la surface de chaque ilot.Ensuite, tous les ilots pour lesquels Grass n'arrive à calculer l'aire ( artefacts) ou ceux ayant une aire inférieure à 1 m²  sont supprimés. <span style=\"color:red\">ATTENTION :</span> L'aire calculée dépend de la projection utilisée. Il faut alors que le système de coordonnées soit projeté et que l'unité utilisée soit le mètre."
   ]
  },
  {
   "cell_type": "code",
   "execution_count": 24,
   "metadata": {
    "collapsed": true
   },
   "outputs": [],
   "source": [
    "def nettoieDonnees (NomCouche ):\n",
    "    grass.run_command('v.db.addcolumn',map= NomCouche, columns = 'aire double precision' )\n",
    "    grass.run_command('v.to.db', map=NomCouche+ '@PERMANENT', option='area', columns='aire')\n",
    "    #suppression les ilots dont l'aire est inférieure à 1 car ils ne sont pas assez grands\n",
    "    grass.run_command('db.execute', sql=\"DELETE FROM %s where %s\" % (NomCouche+'_1', \"aire<1\") )\n",
    "    # Suppression des artefacts \n",
    "    grass.run_command('db.execute', sql='DELETE FROM'+ NomCouche +'_1  where  aire is Null ')\n",
    "    "
   ]
  },
  {
   "cell_type": "markdown",
   "metadata": {},
   "source": [
    "<span style=\"color:red\">importRasterGrass</span> importe un raster dans Grass et prend comme paramètre le lien vers le fichier  et le nom du fichier de sortie. Si un fichier portant le même nom existe déjà sur GRASS, il sera écrasé."
   ]
  },
  {
   "cell_type": "code",
   "execution_count": 25,
   "metadata": {
    "collapsed": true
   },
   "outputs": [],
   "source": [
    "def importRasterGrass(lienDuRaster, nomFichierDeSortie):\n",
    "    grass.run_command('r.in.gdal',  input=lienDuRaster, output=nomFichierDeSortie, overwrite=True, flags=\"o\")"
   ]
  },
  {
   "cell_type": "markdown",
   "metadata": {},
   "source": [
    "<span style=\"color:red\">importRasterGrass</span> extrait la zone d'étude à partir de la couche de land cover à partir du polygone pécedemment importé dans Grass('ZE'). Rennomme les colonnes attributaires de la couche extraite et en supprime quelques unes"
   ]
  },
  {
   "cell_type": "code",
   "execution_count": 26,
   "metadata": {
    "collapsed": true
   },
   "outputs": [],
   "source": [
    "def extractLandCover():\n",
    "    grass.run_command('v.overlay', ainput='LAND_COVER' ,  binput='ZE', output='ZE_LAND_COVER', operator='and', overwrite= True)\n",
    "    #Renommage des colonnes et suppression des colonnes inutiles\n",
    "    grass.run_command('v.db.dropcolumn', map='ZE_LAND_COVER@PERMANENT',columns='a_cat')\n",
    "\n",
    "    colonne_cover=grass.parse_command('db.columns',table='ZE_LAND_COVER_1')\n",
    "    liste_colonnes_cover=[]\n",
    "    for elem in colonne_cover:\n",
    "        liste_colonnes_cover.append(str(elem))\n",
    "    for nom in liste_colonnes_cover:\n",
    "        if nom[0] is'a' and nom[1] is'_':\n",
    "            grass.run_command('v.db.renamecolumn', map='ZE_LAND_COVER@PERMANENT',column=nom+','+nom[2:len(nom)] )\n",
    "        elif nom[0] is'b' and nom[1] is'_':\n",
    "            grass.run_command('v.db.dropcolumn', map='ZE_LAND_COVER@PERMANENT',columns=nom)\n",
    "\n",
    "\n",
    "    "
   ]
  },
  {
   "cell_type": "markdown",
   "metadata": {},
   "source": [
    "<span style=\"color:red\"> listeClasseLC </span> retourne la liste des classes de land cover  à partir de la colonne répertoriant toutes les classes de land cover dans la couche vectorielle du land cover"
   ]
  },
  {
   "cell_type": "code",
   "execution_count": 27,
   "metadata": {
    "collapsed": true
   },
   "outputs": [],
   "source": [
    "def listeClasseLC(nomCoucheEtudeLC, colonneLc):\n",
    "    list_class=[]\n",
    "\n",
    "    classes= grass.parse_command('v.db.select', map=nomCoucheEtudeLC, columns=colonneLc, flags='c')\n",
    "\n",
    "    for elem in classes:\n",
    "        ##print type(elem)\n",
    "        list_class.append(str(elem))\n",
    "    \n",
    "    ##print type(list_class[0])\n",
    "\n",
    "    return list_class"
   ]
  },
  {
   "cell_type": "markdown",
   "metadata": {},
   "source": [
    "<span style=\"color:red\">extractRaster</span> fournit en sortie un raster 1-null pour chaque classe de land cover (soit 10 rasters pour notre cas d’étude). Etant donné une classe de land cover ‘LC’, les pixels du raster 1-null extrait, pour la classe ‘LC’ valent 1 s’ils se superposent à cette même classe dans la couche de Land cover, et valent null sinon. Pour ce faire, la fonction définit une région dont l'étendue correspond à la zone d'étude et dont la résolution correspont à 25  cm. (Sans cela, le raster résultat contient des pixels de 300 m ). Ensuite, La liste des classes est parcourue pour extraire les polygones correspondant à la classe courante (Cette opération engendre automatiquement la modification des noms des colonnes dans la couche résultante. Cest pour cette raison qu'un changement de nom des colonnes a été effectué après l'extraction ). La couche résultante est alors transformée en rasteur dont la valeur des pixels sur les zones correspondant à la classe courante valent 1 et null sinon."
   ]
  },
  {
   "cell_type": "code",
   "execution_count": 28,
   "metadata": {},
   "outputs": [],
   "source": [
    "def extractRaster(list_class):\n",
    "    \n",
    "    # définit une région dont l'étendue correspont à la zone d'étude et dont la résolution correspont à 25 cm\n",
    "    grass.run_command('g.region',vector=vecteurRegion,res=resolution)\n",
    "\n",
    "    for classe in list_class :\n",
    "        condition=\"lc_code='\"+ classe+\"'\"\n",
    "        outputvect=\"LC_\"+ classe\n",
    "        outputrast=outputvect+\"_raster\"\n",
    "        grass.run_command('v.extract', overwrite=True,  input=nomCoucheEtudeLC,type=\"area\",where=condition, output=outputvect )\n",
    "        grass.run_command('v.db.update',map=outputvect , column='code_int',value=1)\n",
    "        \n",
    "        #conversion du fichier au format raster\n",
    "        grass.run_command('v.to.rast' , overwrite=True, input=outputvect, output=outputrast, use='attr',column='code_int', quiet=True) \n",
    "       "
   ]
  },
  {
   "cell_type": "markdown",
   "metadata": {},
   "source": [
    "<span style=\"color:red\">calculMetriques</span> calcule toutes les métriques de GRASS dont les noms sont contenus dans une liste passée en paramètre , et stocke les métriques dans un fichier csv. Chaque fichier contient une métrique calculée pour chaque ilot  de la zone étudiée, et sur un raster 1-null représentant une classe de la liste listClass passée en paramètre\n",
    "L'utilisateur devra créer manuellement sur GRASS les fichiers de configuration passés en paramètre à r.li.*. Et ce, pour chaque classe de land cover.Il devra IMPERATIVEMENT les nommer cf_nomDeLaClasse.Si la zone d'étude est changée, il faudra en recréer de nouveaux. Ces fichiers de configuration sont crées à l'aide de la commande [g.gui.rlisetup](https://grass.osgeo.org/grass72/manuals/g.gui.rlisetup.html) (sous Grass 7.2).\n",
    "Les métriques sont calculées ci-dssous pour chaque raster 1-null. Le résultat de ce calcul correspond à un fichier csv qui est mis par dafaut dans le répertoire suivant: C:\\Users\\Stagiaire\\AppData\\Roaming\\GRASS7\\r.li\\output. Pour des raisons pratiques, le fichier csv généré est ensuite copié dans un dossier nommé \"output\". Ce dernier se trouve dans le dossier \"classification_metriques\" du répertoire du grassData. Finalement, le fichier est remis en forme , en supprimant les \"|\" et les \"RESULT\" \n"
   ]
  },
  {
   "cell_type": "code",
   "execution_count": 29,
   "metadata": {},
   "outputs": [],
   "source": [
    "def calculMetriques(listClass,listeMetriques):\n",
    "    ''' dossierDestination= dossier dans lequel l'utilisateur veut copier les fichiers csv correspondant aux métriques calculées. si le dossier n'existe pas, il est crée        \n",
    "        listClass= liste des classes de land cover\n",
    "        listeMetriques= liste des metriques de grass\n",
    "        '''\n",
    "    \n",
    "    nomSession= os.environ[\"USERNAME\"]\n",
    "    \n",
    "    #Si le dossier de destination n'existe pas,il le crée\n",
    "    if not os.path.exists(gisdb+'\\\\classification_metriques'):\n",
    "        os.makedirs(gisdb+'\\\\classification_metriques')\n",
    "    if not os.path.exists(gisdb+'\\\\classification_metriques\\\\output'):\n",
    "        os.makedirs(gisdb+'\\\\classification_metriques\\\\output')\n",
    "\n",
    "    index = { '|' : ' ','RESULT':'','\\n':''}\n",
    "    \n",
    "    #parcourt les classes\n",
    "    for classe in listClass:\n",
    "        #parcourt les métriques\n",
    "        for metrique in listeMetriques:\n",
    "            #définition du nom du fichier de sortie\n",
    "            output=metrique+'_'+str(classe)+'.csv'\n",
    "            grass.run_command('r.li.'+ metrique, input='LC_'+str(classe)+'_raster@PERMANENT' ,config=\"C:\\\\Users\\\\\"+nomSession+\"\\\\AppData\\\\Roaming\\\\GRASS7\\\\r.li\\\\conf_\"+str(classe), output=output  ,overwrite=True)\n",
    "            #copie du fichier crée par la commande GRASS dans le dossier de destination\n",
    "            shutil.copy2('C:\\\\Users\\\\'+nomSession+'\\\\AppData\\\\Roaming\\\\GRASS7\\\\r.li\\\\output\\\\'+output , gisdb+'\\\\classification_metriques\\\\output'+'\\\\'+output)\n",
    "            fichier=open(gisdb+'\\\\classification_metriques\\\\output'+'\\\\'+output, \"r\")\n",
    "            contenu=fichier.read()\n",
    "            #Supprime les \"|\" et les \"RESULT\"\n",
    "            for cle in index:    \n",
    "                contenu=contenu.replace(cle, index[cle])\n",
    "            fichier.close()\n",
    "            \n",
    "            #Met tous les mots du contenu nettoyé dans une liste\n",
    "            elements = string.split(contenu)\n",
    "            \n",
    "            #écrase l'ancien fichier et y organise les informations \n",
    "            fichier=open(gisdb+'\\\\classification_metriques\\\\output'+'\\\\'+output, 'w')\n",
    "            with fichier  as csvfile:\n",
    "                spamwriter = csv.writer(csvfile, delimiter=';')\n",
    "                fieldnames = ['cat', classe+'_'+metrique]\n",
    "                writer = csv.DictWriter(csvfile, fieldnames=fieldnames)\n",
    "                writer.writeheader()\n",
    "                j=0\n",
    "                while((2*j+1) < len(elements)):\n",
    "                    writer.writerow({'cat':float(elements[2*j]), classe+'_'+metrique:elements[2*j+1]})\n",
    "                    j=j+1\n",
    "\n",
    "                fichier.close()"
   ]
  },
  {
   "cell_type": "markdown",
   "metadata": {},
   "source": [
    "![illustration  : ](images\\calculMetriques.png )"
   ]
  },
  {
   "cell_type": "markdown",
   "metadata": {},
   "source": [
    "<span style=\"color:red\">extractRasterAll</span> extrait un raster dont chaque pixel vaut un nombre qui a été associé à la classe à laquelle appartient ce pixel.\n",
    "(le pixel vaut donc n s'il appartient à la classe n et il il vaut n+1 s'il appartient à la classe n+1...)"
   ]
  },
  {
   "cell_type": "code",
   "execution_count": 30,
   "metadata": {
    "collapsed": true
   },
   "outputs": [],
   "source": [
    "def extractRasterAll():\n",
    "    #définition de la région et de la résolution \n",
    "    grass.run_command('g.region',vector=vecteurRegion,res=resolution)\n",
    "    # Ajout d'une colonne \"code_int\" à la table attributaire du land cover\n",
    "    grass.run_command('v.db.addcolumn',map= nomCoucheEtudeLC , columns = 'code_int INT' )\n",
    "    j=1\n",
    "    for classes in list_class:\n",
    "        condt= \"lc_code='\"+ classes+\"'\"\n",
    "        grass.run_command('v.db.update',map=nomCoucheEtudeLC ,column='code_int',value=j, where=condt)\n",
    "        j+=1\n",
    "    grass.run_command('g.region',vector=vecteurRegion,res=resolution)\n",
    "    grass.run_command('v.to.rast' , overwrite=True, input=nomCoucheEtudeLC+'@PERMANENT', output='raster_all_classes', use='attr',column='code_int', quiet=True) "
   ]
  },
  {
   "cell_type": "markdown",
   "metadata": {},
   "source": [
    "<span style=\"color:red\">calculMetriquesAll </span> calcule les métriques sur le raster dont la valeur des pixels est un entier représentant une classe de land cover. La démarche est la même que celle de <span style=\"color:red\">calculMetriques </span> sauf que là , il n'y a pas besoin de parcourir la liste des classes. Un autre fichier de configuration devra être cée manuellement pour cette fonction. Ce fichier de configuration est celui du raster complet (celui extrait par la fonction extractRasterAll() )"
   ]
  },
  {
   "cell_type": "code",
   "execution_count": 31,
   "metadata": {},
   "outputs": [],
   "source": [
    "def calculMetriquesAll(listeMetriques ):\n",
    "    ''' dossierDestination= dossier dans lequel l'utilisateur veut copier les fichiers csv correspondant aux métriques calculées. si le dossier n'existe pas, il est crée        \n",
    "        listClass= liste des classes de land cover\n",
    "        listeMetriques= liste des metriques de grass\n",
    "        nomSession= nom de la session windows courante'''\n",
    "    \n",
    "    nomSession = os.environ['USERNAME']\n",
    "\n",
    "\n",
    "    #Si le dossier de destination n'existe pas,il le crée\n",
    "    if not os.path.exists(gisdb+'\\\\classification_metriques'):\n",
    "        os.makedirs(gisdb+'\\\\classification_metriques')\n",
    "    if not os.path.exists(gisdb+'\\\\classification_metriques\\\\output'):\n",
    "        os.makedirs(gisdb+'\\\\classification_metriques\\\\output')\n",
    "\n",
    "    index = { '|' : ' ','RESULT':'','\\n':''}\n",
    "    for metrique in listeMetriques:\n",
    "        output='all_'+metrique+'.csv'\n",
    "        \n",
    "        #la métrique renyi exige un paramètre supplémentaire : alpha \n",
    "        if metrique =='renyi':\n",
    "            grass.run_command('r.li.'+ metrique, input='raster_all_classes@PERMANENT' ,config=\"C:\\\\Users\\\\\"+nomSession+\"\\\\AppData\\\\Roaming\\\\GRASS7\\\\r.li\\\\conf_all_classes\", alpha= 2, output=output  ,overwrite=True)\n",
    "        else:    \n",
    "            grass.run_command('r.li.'+ metrique, input='raster_all_classes@PERMANENT' ,config=\"C:\\\\Users\\\\\"+nomSession+\"\\\\AppData\\\\Roaming\\\\GRASS7\\\\r.li\\\\conf_all_classes\", output=output  ,overwrite=True)\n",
    "            #copie du fichier crée par la commande GRASS dans le dossier de destination\n",
    "            shutil.copy2('C:\\\\Users\\\\'+nomSession+'\\\\AppData\\\\Roaming\\\\GRASS7\\\\r.li\\\\output\\\\'+output , gisdb+'\\\\classification_metriques\\\\output'+'\\\\'+output)\n",
    "            fichier=open(gisdb+'\\\\classification_metriques\\\\output'+'\\\\'+output, \"r\")\n",
    "            contenu=fichier.read()\n",
    "            #remplace les | par ; et les RESULT par rien\n",
    "            for cle in index:    \n",
    "                contenu=contenu.replace(cle, index[cle])\n",
    "            fichier.close()\n",
    "            \n",
    "            #Met tous les mots du contenu nettoyé dans une liste\n",
    "            elements = string.split(contenu)\n",
    "            \n",
    "            #écrase l'ancien fichier et y organise les informations\n",
    "            fichier=open(gisdb+'\\\\classification_metriques\\\\output'+'\\\\'+output, 'w')\n",
    "            with fichier  as csvfile:\n",
    "                spamwriter = csv.writer(csvfile, delimiter=';')\n",
    "                fieldnames = ['cat', metrique]\n",
    "                writer = csv.DictWriter(csvfile, fieldnames=fieldnames)\n",
    "                writer.writeheader()\n",
    "                j=0\n",
    "                while((2*j+1) < len(elements)):\n",
    "                    writer.writerow({'cat':float(elements[2*j]), metrique:elements[2*j+1]})\n",
    "                    j=j+1\n",
    "    \n",
    "                fichier.close()"
   ]
  },
  {
   "cell_type": "markdown",
   "metadata": {},
   "source": [
    "<span style=\"color:red\">CreationCsvMetriques</span> crée un fichier csv contenant deux colonnes extraites de la table attributaire de la couche des ilots urbains: <i>cat </i> (colonne créee automatiquement lors de l'import des données sur grass) et  <i>id_ilot </i>(correspondant à l'identifiant de l'ilot). elle effectue ensuite la jointure entre ce fichier csv et tous les autres csv correpondants aux metriques calculées en utilisant la colonne 'cat' qui est la colonne commune entre ces tables.\n",
    "Une fois la jointure faite, le tableau est exporté sous format csv. Il est ensuite nettoyée en supprimant les lignes n'ayant pas d'id_ilots car celles ci correspondent aux lignes supprimées par la fonction <span style=\"color:red\">nettoieDonnées</span>. Puis, des fichiers csvt sont crées afin de déterminer le type des champs qui sont dans ce cas des  <i>Real</i>"
   ]
  },
  {
   "cell_type": "code",
   "execution_count": 32,
   "metadata": {},
   "outputs": [],
   "source": [
    "def CreationCsvMetriques( ):\n",
    "    \n",
    "    '''liste_chemins représente las listes des chemins vers les fichiers csv'''\n",
    "    '''cette fonction effectue la jointure entre les differents fichiers csv et l'exporte sous forme d'un fichier csv .Ensuite, elle le nettoie en éliminant les artefacts'''\n",
    "    \n",
    "    liste_chemins=glob.glob(gisdb+'\\\\classification_metriques\\\\output\\\\*.csv')\n",
    "    \n",
    "    cheminIdCat=gisdb+'\\\\classification_metriques\\\\output\\\\id_cat'\n",
    "    if not os.path.exists(cheminIdCat):\n",
    "        os.makedirs(cheminIdCat)\n",
    "        \n",
    "    dossierDestinationCsv= gisdb+'\\\\classification_metriques\\\\metriquesIlots'\n",
    "    if not os.path.exists(dossierDestinationCsv):\n",
    "        os.makedirs(dossierDestinationCsv)\n",
    "    \n",
    "    grass.run_command('db.out.ogr', overwrite=True, input=nomCoucheEtudeIlots+'@PERMANENT' ,output=cheminIdCat +'\\\\id_cat.csv', format=\"CSV\")\n",
    "    id_cat=pd.read_csv(cheminIdCat+'\\\\id_cat.csv', sep=',',header=0)\n",
    "    id_cat.to_csv(path_or_buf=cheminIdCat+'\\\\id_cat.csv', columns=['cat','ID_ILOT'] ,sep=',', header=True,  quoting=None, decimal='.', index=False)\n",
    "    id_cat=pd.read_csv(cheminIdCat+'\\\\id_cat.csv', sep=',',header=0)\n",
    "    id_cat.head()\n",
    "    \n",
    "    #jointure du fichier id_cat avec tous les autres fichiers contenant toutes les valeurs des métriques\n",
    "    pandadataframe=pd.read_csv(cheminIdCat+'\\\\id_cat.csv', sep=',',header=0)\n",
    "    for elem in liste_chemins:\n",
    "        pdf=pd.read_csv(elem, sep=',',header=0)\n",
    "        pandadataframe= pd.merge(pandadataframe, pdf, on='cat')\n",
    " \n",
    "    \n",
    "    #export en tant que fichier csv\n",
    "    pandadataframe.to_csv(path_or_buf=dossierDestinationCsv+'\\\\metriquesParIlot.csv', sep=',', header=True,  quoting=None, decimal='.', index=False, overwrite=True )\n",
    "                \n",
    "    #supprime les lignes n'ayant pas d'ilot, celles-ci peuvent résulter des ilots supprimés à cause des doublons générés après l'extraction de la zone d'étude\n",
    "    with open(dossierDestinationCsv+'\\\\metriquesParIlot.csv', 'rb') as csvfile:\n",
    "        new_rows_list = []\n",
    "        spamreader = csv.reader(csvfile, delimiter=',', quotechar='|')\n",
    "        for row in spamreader:\n",
    "            if row[1] != '':\n",
    "                new_rows_list.append(row)\n",
    "    csvfile.close()\n",
    "    file2 = open(dossierDestinationCsv+'\\\\metriquesParIlot.csv', 'wb')\n",
    "    writer = csv.writer(file2)\n",
    "    writer.writerows(new_rows_list)\n",
    "    file2.close()\n",
    "            \n",
    "            \n",
    "            \n",
    "    #Convertie les colonnes correspondant aux metriques à des réels en créant un fichier csvt\n",
    "    csvFile=open(dossierDestinationCsv+'\\\\metriquesParIlot.csv', 'r')\n",
    "    reader=csv.reader(csvFile, delimiter=',', quotechar='|')\n",
    "    listeTest=list(reader)\n",
    "    fichier=open(dossierDestinationCsv+'\\\\metriquesParIlot.csv'+'t', 'w')\n",
    "    fichier.write('\"Real\"')\n",
    "    c=len(listeTest[0])-1\n",
    "    fichier.write(',\"Real\"'*c)\n",
    "    fichier.close()\n",
    "    csvFile.close()\n",
    "    \n",
    "   "
   ]
  },
  {
   "cell_type": "markdown",
   "metadata": {},
   "source": [
    "<span style=\"color:red\">entrValidClasse</span>  prend en paramètre une couche vectorielle correspondant à la vérité terrain , le nom de la colonne répertoriant la classe de land use de chaque ilot et un suffixe facultatif ajouté aux noms des fichiers de sortie qui sont nommés \"entrainement\" , \"validation\" et \"aclasser\" .Ces fichiers de sortie sont des fichiers csv correspondant aux ilots de validation , d'entrainement et des ilots à classer.  "
   ]
  },
  {
   "cell_type": "code",
   "execution_count": 33,
   "metadata": {},
   "outputs": [],
   "source": [
    "def entrValidClasser(lienVersShpEV, nomColonneCLU, nomColonneIdIlot,suffixe=''):\n",
    "    '''\n",
    "    Cette fonction prend en entrée :\n",
    "    \n",
    "    lienVersShpEV: lien vers le fichier shp contenant les ilots d'entrainement/validation\n",
    "    lienVersCsvMetriques : lien vers le fichier csv contenant toutes les métriques calculées. 'nomColonneCLU' devra etre la 1 ere colonne de ce fichier\n",
    "    nomColonneCLU : nom de la colonne correspondant à la classe de land use dans la table attributaire du vecteur contenant les ilots d'entrainement/validation \n",
    "    nomcolonneIdIlot : nom de la colonne correspondant à l'id des ilots, dans le fichier csv  où sont repertoriés toutes les métriques et dans la tables attributaire du vecteur entrainement/validation\n",
    "    \n",
    "    \n",
    "    '''\n",
    "    lienVersCsvMetriques= gisdb+'\\\\classification_metriques\\\\metriquesIlots\\\\metriquesParIlot.csv'\n",
    "    \n",
    "    #import des données d'entrainement/validation\n",
    "    importVectorGrass(lienVersShpEV, 'entrainement_validation')\n",
    "    \n",
    "    #export de la table attributaire du vecteur entrainement/validation sous la forme d'un fichier csv \n",
    "    grass.run_command('db.out.ogr', overwrite=True, input=\"entrainement_validation\",output=gisdb+'\\\\classification_metriques\\\\metriquesIlots\\\\entrainement_validation_table.csv', format=\"CSV\")\n",
    "    \n",
    "    #extraction des deux colonnes 'ID_ILOT' et 'class' sous forme d'un fichier csv nommé 'entrainement_validation_table'\n",
    "    entrainement_validation_table=pd.read_csv(gisdb+'\\\\classification_metriques\\\\metriquesIlots\\\\entrainement_validation_table.csv', sep=',',header=0)\n",
    "    entrainement_validation_table.to_csv(path_or_buf=gisdb+'\\\\classification_metriques\\\\metriquesIlots\\\\entrainement_validation_table.csv', columns=[nomColonneIdIlot,nomColonneCLU] ,sep=',', header=True,  quoting=None, decimal='.', index=False)\n",
    "    \n",
    "    #jointure du fichier 'entrainement_validation_table' et de celui contenant toutes les métriques calculées en utilisant la colonne répertoriant l'id de l'ilot (nomColonneIdIlot)\n",
    "    pdf=pd.read_csv(lienVersCsvMetriques , sep=',',header=0)\n",
    "    entrainement_validation_table=pd.read_csv(gisdb+'\\\\classification_metriques\\\\metriquesIlots\\\\entrainement_validation_table.csv', sep=',',header=0)\n",
    "    pandadataframe= pd.merge( pdf,entrainement_validation_table, on=nomColonneIdIlot )\n",
    "    pandadataframe.to_csv(path_or_buf=gisdb+'\\\\classification_metriques\\\\metriquesIlots\\\\metriques_entrainement.csv' ,sep=',', header=True,  quoting=None, decimal='.', index=False)\n",
    "    \n",
    "    #initialisation des listes\n",
    "    list_entr_valid=[]\n",
    "    list_validation_temp=[]\n",
    "    list_validation=[]\n",
    "    list_entrainement=[]\n",
    "    list_cl_use=[]\n",
    "    \n",
    "    #Ajout de toutes les classes de land use à la liste \"list_cl\"\n",
    "    classe_use=grass.parse_command('v.db.select', map='entrainement_validation', columns=nomColonneCLU, flags='c')\n",
    "    for elem in classe_use :\n",
    "        ##print type(elem)\n",
    "        c= str(elem)\n",
    "        list_cl_use.append(str(elem))\n",
    "\n",
    "    #Ajout de tous les id des ilots d'entrainement/validation  à la liste \"list-entr-valid\"\n",
    "    id_ilots_entrainement_validation= grass.parse_command('v.db.select', map='entrainement_validation', columns=nomColonneIdIlot, flags='c')\n",
    "    for elem in id_ilots_entrainement_validation :\n",
    "        ##print type(elem)\n",
    "        list_entr_valid.append(str(float(elem)))\n",
    "\n",
    "    #Parcourt des classes de land use . \n",
    "    for element in list_cl_use:\n",
    "        #Choix aléatoire de 6 ids d'ilots par classe de land use ,  et ajout de ces ids à la liste \"list_validation\"\n",
    "        validation=grass.parse_command('v.db.select', map='entrainement_validation',where=nomColonneCLU+'='+element , columns=nomColonneIdIlot, flags='c')\n",
    "        list_of_random_items = random.sample(validation, 6)\n",
    "        list_validation_temp=list_validation_temp+list_of_random_items\n",
    "    for val in list_validation_temp:\n",
    "        list_validation.append(str(float(val)))\n",
    "\n",
    "    #selection des ids de la liste d'entrainement/validation  n'appartenant pas à la liste des ids d'ilots de validation et ajout de ceux ci à list-entrainement\n",
    "    for eleme in list_entr_valid:\n",
    "        #print eleme\n",
    "        if not(eleme in list_validation):\n",
    "            list_entrainement.append(str(eleme))\n",
    "    \n",
    "    liste_lignes_entrainement = []\n",
    "    liste_lignes_validation=[]\n",
    "    liste_lignes_classer=[]\n",
    "    \n",
    "    #selection des lignes correspondant aux ilots d'entrainement à l'aide de l'id se trouvant dans la deuxième colonne du fichier csv metriques_entrainement\n",
    "    # et ajout de celles-ci à \"liste_lignes-entrainement\"\n",
    "    with open(gisdb+'\\\\classification_metriques\\\\metriquesIlots\\\\metriques_entrainement.csv', 'rb') as csvfile:\n",
    "        spamreader = csv.reader(csvfile, delimiter=',', quotechar='|')\n",
    "        print spamreader\n",
    "        k=0\n",
    "        for row in spamreader:\n",
    "            if (row[1]+'.0' in list_entrainement) or k==0:\n",
    "                k=k+1\n",
    "                liste_lignes_entrainement.append(row)\n",
    "    csvfile.close()\n",
    "    \n",
    "    #remplace les trous par des zeros\n",
    "    for elem in liste_lignes_entrainement:\n",
    "        for index, item in enumerate(elem):\n",
    "            if item == '':\n",
    "                elem[index] = '0'\n",
    "\n",
    "    #selection des lignes correspondant aux ilots de validation à l'aide de l'id se trouvant dans la deuxième colonne du fichier csv metriques_entrainement\n",
    "    # et ajout de celles-ci à \"liste_lignes_validation\"    \n",
    "    with open(gisdb+'\\\\classification_metriques\\\\metriquesIlots\\\\metriques_entrainement.csv', 'rb') as csvfile:\n",
    "        spamreader1 = csv.reader(csvfile, delimiter=',', quotechar='|')\n",
    "        k=0\n",
    "        for row in spamreader1:\n",
    "            if (row[1]+'.0' in list_validation) or (k==0) :\n",
    "                k=k+1\n",
    "                liste_lignes_validation.append(row)           \n",
    "    csvfile.close()\n",
    "    \n",
    "    #remplace les trous par des zeros dans liste_lignes_validation\n",
    "    for elem in liste_lignes_validation:\n",
    "        for index, item in enumerate(elem):\n",
    "            if item == '':\n",
    "                elem[index] = '0'\n",
    "                \n",
    "                \n",
    "    #Ajout de toutes les lignes du fichier csv crée par la fonction creationCsvMetriques à la liste \"liste_lignes_classer\"\n",
    "    with open(lienVersCsvMetriques, 'rb') as csvfile:\n",
    "        sreader = csv.reader(csvfile, delimiter=',', quotechar='|')\n",
    "        l=0\n",
    "        for row in sreader:\n",
    "            liste_lignes_classer.append(row)\n",
    "            l=l+1\n",
    "    csvfile.close()\n",
    "\n",
    "    \n",
    "    #remplace les trous par des zeros dans liste_lignes_classer\n",
    "    for elem in liste_lignes_classer:\n",
    "        for index, item in enumerate(elem):\n",
    "            if item == '':\n",
    "                elem[index] = '0'\n",
    "    \n",
    "    \n",
    "    #Création des fichiers csv à partir des listes de lignes précédemment définies\n",
    "    \n",
    "    entrainement= open(gisdb+'\\\\classification_metriques\\\\metriquesIlots\\\\entrainement'+suffixe+'.csv', 'wb')\n",
    "    writer = csv.writer(entrainement)\n",
    "    writer.writerows(liste_lignes_entrainement)\n",
    "    entrainement.close()\n",
    "\n",
    "    validation= open(gisdb+'\\\\classification_metriques\\\\metriquesIlots\\\\validation'+suffixe+'.csv', 'wb')\n",
    "    writer = csv.writer(validation)\n",
    "    writer.writerows(liste_lignes_validation)\n",
    "    validation.close()\n",
    "\n",
    "    aclasser = open(gisdb+'\\\\classification_metriques\\\\metriquesIlots\\\\ilots_classer'+suffixe+'.csv', 'wb')\n",
    "    writer = csv.writer(aclasser)\n",
    "    writer.writerows(liste_lignes_classer)\n",
    "    aclasser.close()\n",
    "    \n",
    "    #Suppression de la colonne \"ID_ILOT\" de chaque fichier \n",
    "    \n",
    "    entrainement =pd.read_csv(gisdb+'\\\\classification_metriques\\\\metriquesIlots\\\\entrainement'+suffixe+'.csv',sep=',',header=0)\n",
    "    del entrainement['ID_ILOT']\n",
    "    entrainement.to_csv(path_or_buf=gisdb+'\\\\classification_metriques\\\\metriquesIlots\\\\entrainement'+suffixe+'.csv', sep=',', header=True,  quoting=None, decimal='.', index=False)\n",
    "    \n",
    "    validation =pd.read_csv(gisdb+'\\\\classification_metriques\\\\metriquesIlots\\\\validation'+suffixe+'.csv',sep=',',header=0)\n",
    "    del validation['ID_ILOT']\n",
    "    validation.to_csv(path_or_buf=gisdb+'\\\\classification_metriques\\\\metriquesIlots\\\\validation'+suffixe+'.csv',sep=',', header=True,  quoting=None, decimal='.', index=False)\n",
    "    \n",
    "    aclasser=pd.read_csv(gisdb+'\\\\classification_metriques\\\\metriquesIlots\\\\ilots_classer'+suffixe+'.csv',sep=',',header=0)\n",
    "    del aclasser['ID_ILOT']\n",
    "    aclasser.to_csv(path_or_buf=gisdb+'\\\\classification_metriques\\\\metriquesIlots\\\\ilots_classer'+suffixe+'.csv', sep=',', header=True,  quoting=None, decimal='.', index=False)\n",
    "\n",
    "    #Suppression des éléments n'ayant plus aucune utilité\n",
    "    os.remove(gisdb+'\\\\classification_metriques\\\\metriquesIlots\\\\entrainement_validation_table.csv')\n",
    "    os.remove(gisdb+'\\\\classification_metriques\\\\metriquesIlots\\\\metriques_entrainement.csv')\n",
    "    grass.run_command('g.remove', type='vector', name='entrainement_validation@PERMANENT', flags='f')\n"
   ]
  },
  {
   "cell_type": "markdown",
   "metadata": {},
   "source": [
    "<span style=\"color:red\">classifier</span> prend en entrée un paramètre facultatif qui correspond à un suffixe ajouté au nom des fichiers de sortie. Ce paramètre, s'il est fourni, devra être le même que celui fourni dans toutes les fonctions de ce script qui acceptent un paramètre nommé \"suffixe\". Cette fonction produit un csv contenant 3 colonnes : id, rf (classification issue du random forest) et \"vote_smv\"( celle-ci n'a pas de grand intérêt dans ce cas car la classe du vote majoritaire correspond à celle du rf puisque cette dernière est la seule calculée.)"
   ]
  },
  {
   "cell_type": "code",
   "execution_count": 34,
   "metadata": {},
   "outputs": [],
   "source": [
    "def classifier(suffixe=''):\n",
    "    gisdb2=gisdb.replace('\\\\','//')\n",
    "    dossierResultats=gisdb2+'//classification_metriques//results' \n",
    "\n",
    "    if not os.path.exists(dossierResultats):\n",
    "        os.makedirs(dossierResultats) \n",
    "    \n",
    "    grass.run_command('v.class.mlR', flags=\"fi\", overwrite=True, \n",
    "    separator=\"comma\",\n",
    "    segments_file=gisdb2+'//classification_metriques//metriquesIlots//ilots_classer'+suffixe+'.csv', \n",
    "    training_file=gisdb2+'//classification_metriques//metriquesIlots//entrainement'+suffixe+'.csv',  \n",
    "    train_class_column=\"class\",\n",
    "    output_class_column=\"vote\", \n",
    "    output_prob_column=\"prob\", \n",
    "    classifiers=\"rf\", \n",
    "    folds=\"5\", \n",
    "    partitions=\"10\", \n",
    "    tunelength=\"10\", \n",
    "    weighting_modes=\"smv\", \n",
    "    weighting_metric=\"accuracy\", \n",
    "    classification_results=dossierResultats+'//results'+suffixe+'.csv', \n",
    "    accuracy_file=dossierResultats+'//accuracy'+suffixe+'.csv', \n",
    "    model_details=dossierResultats+'//details'+suffixe+'.txt', \n",
    "    bw_plot_file=dossierResultats+'//box_whisker'+suffixe+'.png',\n",
    "    r_script_file=dossierResultats+'//Rscript_mlR'+suffixe+'.R', \n",
    "    processes=\"3\")\n",
    "    "
   ]
  },
  {
   "cell_type": "markdown",
   "metadata": {},
   "source": [
    "<span style=\"color:red\">valider</span>  prend en entrée un paramètre facultatif qui correspond à un suffixe ajouté au nom du fichier de sortie. Ce paramètre, s'il est fourni, devra être le même que celui fourni dans toutes les fonctions de ce script qui acceptent un paramètre nommé \"suffixe\". Cette fonction produit un csv où est repertorié la matrice de confusion, l'exactitude, le kappa et le pourcentage d'omission , de comission mais aussi tous les kappas par classe"
   ]
  },
  {
   "cell_type": "code",
   "execution_count": 35,
   "metadata": {
    "collapsed": true
   },
   "outputs": [],
   "source": [
    "def valider ( suffixe=''):\n",
    "    cheminVersCsvClassif=gisdb+'classification_metriques\\\\results\\\\results'+suffixe+'.csv'\n",
    "    cheminVersCsvValidation=gisdb+'\\\\classification_metriques\\\\metriquesIlots\\\\validation'+suffixe+'.csv'\n",
    "    lienFichierSortie=gisdb+'\\\\classification_metriques\\\\validation\\\\EMK'+suffixe+'.csv'\n",
    "    \n",
    "    #définition de la région\n",
    "    grass.run_command('g.region',vector=vecteurRegion,res=resolution)\n",
    "    \n",
    "    #encodage des valeurs en real - RESULTS\n",
    "    csvFile=open(cheminVersCsvClassif, 'r')\n",
    "    reader=csv.reader(csvFile, delimiter=',', quotechar='|')\n",
    "    liste_results=list(reader)\n",
    "    fichier=open(cheminVersCsvClassif+'t', 'w')\n",
    "    fichier.write('\"real\"')\n",
    "    #print len(listeTest)\n",
    "    c=len(liste_results[0])-1\n",
    "    fichier.write(',\"real\"'*c)\n",
    "    fichier.close()\n",
    "    csvFile.close()\n",
    "    \n",
    "    \n",
    "    #encodage des valeurs en real - VALIDATION\n",
    "    csvFile=open(cheminVersCsvValidation, 'r')\n",
    "    reader=csv.reader(csvFile, delimiter=',', quotechar='|')\n",
    "    liste_results=list(reader)\n",
    "    fichier=open(cheminVersCsvValidation+'t', 'w')\n",
    "    fichier.write('\"real\"')\n",
    "    #print len(listeTest)\n",
    "    c=len(liste_results[0])-1\n",
    "    fichier.write(',\"real\"'*c)\n",
    "    fichier.close()\n",
    "    csvFile.close()\n",
    "    \n",
    "    #import du fichier dans Grass et jointure de celle-ci avec la couche des ilots urbains - RESULTS\n",
    "    grass.run_command('db.in.ogr', overwrite=True, input=cheminVersCsvClassif, output='results')\n",
    "    grass.run_command('v.db.join', map=nomCoucheEtudeIlots+'@PERMANENT', column='cat', other_table='results', other_column='id')\n",
    "    \n",
    "    \n",
    "    #import du fichier dans Grass et jointure de celle-ci avec la couche des ilots urbains - VALIDATION\n",
    "    grass.run_command('db.in.ogr', overwrite=True, input=cheminVersCsvValidation, output='validation')\n",
    "    grass.run_command('v.db.join', map=nomCoucheEtudeIlots+'@PERMANENT', column='cat', other_table='validation', other_column='cat_')\n",
    "    \n",
    "    #transform polygone en centroïde + presence table attributaire \n",
    "    grass.run_command('v.extract', overwrite=True, input=nomCoucheEtudeIlots+'@PERMANENT', type=\"centroid\", where=\"class IS NOT NULL\", output=\"VALIDATION_ILOTS_URBAINS_CENTRO\")\n",
    "    grass.run_command('v.type' ,overwrite=True, input='VALIDATION_ILOTS_URBAINS_CENTRO@PERMANENT', output='VALIDATION_ILOTS_URBAINS_POINT@PERMANENT', from_type='centroid', to_type='point')\n",
    "    \n",
    "    #creation d'un raster dont les valeurs des pixels valent la classe issue du random forest - RESULTS\n",
    "    grass.run_command('v.to.rast' , overwrite=True, input='VALIDATION_ILOTS_URBAINS_POINT@PERMANENT', output='classif', use='attr', column='rf', quiet=True)\n",
    "    #remplace les pixels de valeur zero par des nulls\n",
    "    grass.run_command('r.null', map='classif', setnull=0)\n",
    "    \n",
    "    #creation d'un raster dont les valeurs des pixels valent la classe identifiée manuellement (Ground truth) - VALIDATION\n",
    "    grass.run_command('v.to.rast' , overwrite=True, input='VALIDATION_ILOTS_URBAINS_POINT@PERMANENT', output='validation', use='attr', column='class', quiet=True)\n",
    "   \n",
    "    #remplace les pixels de valeur zero par des nulls\n",
    "    grass.run_command('g.remove', type='vector', name='VALIDATION_ILOTS_URBAINS_CENTRO,VALIDATION_ILOTS_URBAINS_POINT', flags='f')\n",
    "    grass.run_command('r.null', map='validation', setnull=0)\n",
    "    \n",
    "    \n",
    "    if not os.path.exists(gisdb+'\\\\classification_metriques\\\\validation'):\n",
    "        os.makedirs(gisdb+'\\\\classification_metriques\\\\validation') \n",
    "    grass.run_command('r.kappa', classification='classif@PERMANENT', output=lienFichierSortie, overwrite= True, reference='validation@PERMANENT')\n"
   ]
  },
  {
   "cell_type": "markdown",
   "metadata": {},
   "source": [
    "## Définition des paramètres"
   ]
  },
  {
   "cell_type": "code",
   "execution_count": 36,
   "metadata": {},
   "outputs": [],
   "source": [
    "#couche vectorielle correspondant aux ilots urbains\n",
    "lienVersShapefileIlots=\"F:\\\\stagiaire\\\\donnees\\\\ilot-urb-31370.shp\"\n",
    "#couche vectorielle correspondant à l'occupation du sol\n",
    "lienVersShapefileLC=\"F:\\\\stagiaire\\\\donnees\\\\LC_LIEGE_31370_recod.shp\"\n",
    "colonneLC='lc_code'\n",
    "resolution='0.25'\n",
    "#Si la classification se fait sur une zone des couches importées , il faudrait définir la variable suivante:\n",
    "#polygone délimitant la zone d'étude\n",
    "LienVersPolygoneZE=\"F:\\\\stagiaire\\\\donnees\\\\ZE_LC_large.shp\"\n",
    "\n",
    "\n",
    "#entrainement\n",
    "#Chemin de la couche vectorielle correspondant aux ilots de la vérité terrain\n",
    "lienVersShpEV='F:\\\\stagiaire\\\\entrainement_test\\\\ilots_entrainement_4.shp' \n",
    "#Nom de la colonne attributaire de la couche vectorielle correspondant aux ilots urbains qui répertorie les id d'ilots\n",
    "nomColonneIdIlot='ID_ILOT'\n",
    "#Nom de la colonne attributaire de la couche vectorielle correspondant aux ilots de la vérité terrainr qui répertorie les classes de land use\n",
    "nomColonneCLU='class'\n",
    "\n",
    "#Les valeurs de ces variables dépendent de si une zone d'étude a été extraite ou pas\n",
    "#si oui, ces variables devront valoir :\n",
    "nomCoucheEtudeIlots='ZE_ILOTS_URBAINS' \n",
    "vecteurRegion='ZE'\n",
    "nomCoucheEtudeLC='ZE_LAND_COVER'\n",
    "\n",
    "#Sinon, il faudra comenter les trois lignes ci dessus et décommenter les trois lignes ci-dessous :\n",
    "#nomCoucheEtudeIlots='ILOTS_URBAINS' \n",
    "#VecteurRegion='ILOTS_URBAINS'\n",
    "#nomCoucheEtudeLC='LAND_COVER'\n",
    "\n",
    "\n"
   ]
  },
  {
   "cell_type": "markdown",
   "metadata": {},
   "source": [
    "## Import des données brutes \n"
   ]
  },
  {
   "cell_type": "markdown",
   "metadata": {},
   "source": [
    "*Land cover - Ilots urbains "
   ]
  },
  {
   "cell_type": "markdown",
   "metadata": {},
   "source": [
    "<b><span style=\"color:blue\">Import des ilots urbains</span></b>"
   ]
  },
  {
   "cell_type": "code",
   "execution_count": 60,
   "metadata": {},
   "outputs": [
    {
     "name": "stdout",
     "output_type": "stream",
     "text": [
      "Import des ilots urbains Mon Aug 08 09:45:16 2016\n",
      "L'import des données a pris : 0 heures, 0 minutes et 4.7 secondes\n"
     ]
    }
   ],
   "source": [
    "print ('Import des ilots urbains '+ time.ctime())\n",
    "tempbegintime=time.time()\n",
    "\n",
    "\n",
    "## Import des ilots urbains\n",
    "importVectorGrass(lienVersShapefileIlots, \"ILOTS_URBAINS\")\n",
    "\n",
    "\n",
    "\n",
    "## Compute processing time and print it\n",
    "print calculTemps(tempbegintime,\"L'import des données a pris : \")"
   ]
  },
  {
   "cell_type": "markdown",
   "metadata": {},
   "source": [
    "<b><span style=\"color:blue\">Import du land cover</span></b>\n"
   ]
  },
  {
   "cell_type": "code",
   "execution_count": 115,
   "metadata": {},
   "outputs": [
    {
     "name": "stdout",
     "output_type": "stream",
     "text": [
      "Import du Land cover le Mon Aug 08 16:16:25 2016\n",
      "L'import du land cover a pris : 0 heures, 14 minutes et 34.6 secondes\n"
     ]
    }
   ],
   "source": [
    "print ('Import du Land cover le '+ time.ctime())\n",
    "tempbegintime=time.time()\n",
    "\n",
    "## Import du land cover\n",
    "importVectorGrass(lienVersShapefileLC, \"LAND_COVER\")\n",
    "\n",
    "## Compute processing time and print it\n",
    "print calculTemps(tempbegintime,\"L'import du land cover a pris : \")"
   ]
  },
  {
   "cell_type": "markdown",
   "metadata": {},
   "source": [
    "## Extraction de la zone d'étude à partir des couches importées\n"
   ]
  },
  {
   "cell_type": "markdown",
   "metadata": {},
   "source": [
    "<b><span style=\"color:blue\">Extraction de la zone d'étude à partir de la couche des ilots urbains. </span></b> <br>\n",
    "Cette dernière ne devrait pas contenir de polygones multi-parties car sinon, ils seront divisées et auront le même id , ce qui engendrera des doublons d'id. Il faudra alors les supprimer manuellement dans le fichier csv crée par la fonction creationCsvMetriques(). (Ceci peut se faire en ouvrant le fichier csv à l'aide d'excel puis en selectionnant la colonne correspondant aux ids des ilots , ensuite aller dans le menu \"données\" et cliquer sur \"supprimer les doublons\")"
   ]
  },
  {
   "cell_type": "code",
   "execution_count": 108,
   "metadata": {
    "scrolled": true
   },
   "outputs": [
    {
     "name": "stdout",
     "output_type": "stream",
     "text": [
      "Extraction de la zone d'étude à partir de la couche des ilots urbains le : Mon Aug 08 15:28:15 2016\n"
     ]
    },
    {
     "data": {
      "text/plain": [
       "\"L'extraction de la zone d'\\xe9tude \\xe0 partir de la couche des ilots urbains a pris :0 heures, 0 minutes et 12.0 secondes\""
      ]
     },
     "execution_count": 108,
     "metadata": {},
     "output_type": "execute_result"
    }
   ],
   "source": [
    "tempbegintime=time.time()\n",
    "print (\"Extraction de la zone d'étude à partir de la couche des ilots urbains le : \" + time.ctime())\n",
    "\n",
    "extractIlots(LienVersPolygoneZE, 'ILOTS_URBAINS')\n",
    "\n",
    "# Calcul du temps de traitement\n",
    "calculTemps(tempbegintime, \"L'extraction de la zone d'étude à partir de la couche des ilots urbains a pris :\")"
   ]
  },
  {
   "cell_type": "code",
   "execution_count": 109,
   "metadata": {
    "collapsed": true
   },
   "outputs": [],
   "source": [
    "\n",
    "nettoieDonnees (nomCoucheEtudeIlots )"
   ]
  },
  {
   "cell_type": "markdown",
   "metadata": {},
   "source": [
    "![illustration  : ](images\\extraction_zone_etude_ilots_urbains.png )"
   ]
  },
  {
   "cell_type": "markdown",
   "metadata": {},
   "source": [
    "<b><span style=\"color:blue\">Extraction de la zone d'étude à partir de la couche d'occupation du sol. </span></b>"
   ]
  },
  {
   "cell_type": "code",
   "execution_count": 28,
   "metadata": {},
   "outputs": [
    {
     "name": "stdout",
     "output_type": "stream",
     "text": [
      "Extraction de la zone d'étude à partir de la couche de land cover le : Tue Aug 09 13:25:27 2016\n"
     ]
    },
    {
     "data": {
      "text/plain": [
       "\"L'extraction de la zone d'\\xc3\\xa9tude \\xc3\\xa0 partir de la couche de land cover a pris :0 heures, 8 minutes et 23.2 secondes\""
      ]
     },
     "execution_count": 28,
     "metadata": {},
     "output_type": "execute_result"
    }
   ],
   "source": [
    "tempbegintime=time.time()\n",
    "print (\"Extraction de la zone d'étude à partir de la couche de land cover le : \" + time.ctime())\n",
    "\n",
    "extractLandCover()\n",
    "\n",
    "# Calcul du temps de traitement\n",
    "calculTemps(tempbegintime, \"L'extraction de la zone d'étude à partir de la couche de land cover a pris :\")"
   ]
  },
  {
   "cell_type": "markdown",
   "metadata": {},
   "source": [
    "![illustration : ](images\\extraction_zone_etude_land_cover.png )"
   ]
  },
  {
   "cell_type": "code",
   "execution_count": 37,
   "metadata": {},
   "outputs": [
    {
     "name": "stdout",
     "output_type": "stream",
     "text": [
      "['strate_herba', 'bat_haut', 'strate_arbu', 'strate_arbo', 'bat_bas_petit', 'surf_artif_sol_nu', 'bat_bas_large', 'res_ferrov', 'eau', 'res_rout']\n"
     ]
    }
   ],
   "source": [
    "list_class=listeClasseLC(nomCoucheEtudeLC,colonneLC)\n",
    "print list_class"
   ]
  },
  {
   "cell_type": "code",
   "execution_count": 29,
   "metadata": {
    "collapsed": true
   },
   "outputs": [],
   "source": [
    "\n",
    "liste_metriques=['edgedensity','mps','padrange','padsd','padcv','patchdensity','patchnum','dominance','shannon','simpson','richness','shape','pielou','renyi']"
   ]
  },
  {
   "cell_type": "code",
   "execution_count": 61,
   "metadata": {},
   "outputs": [],
   "source": [
    "extractRasterAll()"
   ]
  },
  {
   "cell_type": "markdown",
   "metadata": {},
   "source": [
    "Il faudrait créer le fichier de configuration manuellement avant de faire tourner calculMetriqueAll()"
   ]
  },
  {
   "cell_type": "code",
   "execution_count": null,
   "metadata": {},
   "outputs": [
    {
     "name": "stdout",
     "output_type": "stream",
     "text": [
      "Calcul des métriques sur le raster Fri Aug 05 11:18:30 2016\n"
     ]
    }
   ],
   "source": [
    "print ('Calcul des métriques sur le raster '+ time.ctime())\n",
    "tempbegintime=time.time()\n",
    "\n",
    "calculMetriquesAll( liste_metriques)\n",
    "\n",
    "## Compute processing time and print it\n",
    "print calculTemps(tempbegintime,\"Le calcul des métriques sur le raster a pris: \")"
   ]
  },
  {
   "cell_type": "markdown",
   "metadata": {
    "collapsed": true
   },
   "source": [
    "## Extraction d'un raster par classe"
   ]
  },
  {
   "cell_type": "code",
   "execution_count": 62,
   "metadata": {},
   "outputs": [],
   "source": [
    "extractRaster(list_class)\n"
   ]
  },
  {
   "cell_type": "markdown",
   "metadata": {},
   "source": [
    "![raster correspondant à la classe de land cover : ](images\\raster-1-null.png \"Raster 1-null\")"
   ]
  },
  {
   "cell_type": "markdown",
   "metadata": {},
   "source": [
    "## Calcul des métriques"
   ]
  },
  {
   "cell_type": "markdown",
   "metadata": {},
   "source": [
    "Les fichiers de configuration doivent être crées à la main sur GRASS pour chaque raster de land cover"
   ]
  },
  {
   "cell_type": "markdown",
   "metadata": {},
   "source": [
    "L'utilisateur devra créer manuellement sur grass les fichiers de configuration passés en paramètre à [r.li.*](https://grass.osgeo.org/grass64/manuals/r.li.html). Et ce, pour chaque raster de land cover. \n",
    "Ces fichiers de configuration sont crées à l'aide de la commande [g.gui.rlisetup](https://grass.osgeo.org/grass72/manuals/g.gui.rlisetup.html) (sous Grass 7.2). Les fichiers de configuration devront être nommés cf_[nomClasseDansList_class] (ex : cf_bat_bas_large) et devront être crés avant de lancer le calcul des métriques."
   ]
  },
  {
   "cell_type": "markdown",
   "metadata": {},
   "source": [
    "![illustration :](images\\configfile.png)\n",
    "\n",
    "![illustration :](images\\configfile2.png)"
   ]
  },
  {
   "cell_type": "code",
   "execution_count": 34,
   "metadata": {
    "collapsed": true
   },
   "outputs": [],
   "source": [
    "liste_metriques_par_classe=['edgedensity','mps','padrange','padsd','padcv','patchdensity','patchnum','shape']"
   ]
  },
  {
   "cell_type": "code",
   "execution_count": 35,
   "metadata": {
    "scrolled": true
   },
   "outputs": [
    {
     "name": "stdout",
     "output_type": "stream",
     "text": [
      "Calcul des métriques le Sat Aug 06 11:57:31 2016\n",
      "1\n",
      "1\n",
      "1\n",
      "1\n",
      "1\n",
      "1\n",
      "1\n",
      "1\n",
      "1\n",
      "1\n"
     ]
    },
    {
     "data": {
      "text/plain": [
       "'Le calcul des m\\xc3\\xa9triques a pris : 5 heures, 56 minutes et 51.6 secondes'"
      ]
     },
     "execution_count": 35,
     "metadata": {},
     "output_type": "execute_result"
    }
   ],
   "source": [
    "print ('Calcul des métriques le '+ time.ctime())\n",
    "tempbegintime=time.time()\n",
    "\n",
    "\n",
    "calculMetriques( list_class ,liste_metriques_par_classe )\n",
    "\n",
    "        \n",
    "        \n",
    "## Compute processing time and print it\n",
    "calculTemps(tempbegintime, \"Le calcul des métriques a pris : \")"
   ]
  },
  {
   "cell_type": "code",
   "execution_count": 63,
   "metadata": {
    "scrolled": false
   },
   "outputs": [],
   "source": [
    "\n",
    "CreationCsvMetriques()\n"
   ]
  },
  {
   "cell_type": "code",
   "execution_count": 64,
   "metadata": {
    "scrolled": true
   },
   "outputs": [
    {
     "name": "stdout",
     "output_type": "stream",
     "text": [
      "<_csv.reader object at 0x0000000008DD5B88>\n"
     ]
    }
   ],
   "source": [
    "\n",
    "entrValidClasser(lienVersShpEV, nomColonneCLU, nomColonneIdIlot)"
   ]
  },
  {
   "cell_type": "markdown",
   "metadata": {},
   "source": [
    "## Définition des variables d'environnement de R"
   ]
  },
  {
   "cell_type": "markdown",
   "metadata": {},
   "source": [
    "**Ne pas oublier de bien définir .libPaths('C:\\\\R_LIBS_USER\\\\win-library\\\\3.3') directement dans R**"
   ]
  },
  {
   "cell_type": "code",
   "execution_count": 65,
   "metadata": {
    "collapsed": true
   },
   "outputs": [],
   "source": [
    "os.environ['PATH'] = 'C:\\\\Program Files\\\\R\\\\R-2.15.2\\\\bin\\\\x64' + os.pathsep + os.environ['PATH']"
   ]
  },
  {
   "cell_type": "code",
   "execution_count": 66,
   "metadata": {
    "collapsed": true
   },
   "outputs": [],
   "source": [
    "## Set R stat environment variables\n",
    "os.environ['R_HOME'] = 'C:\\\\Program Files\\\\R\\\\R-2.15.2'\n",
    "os.environ['R_ENVIRON'] = 'C:\\\\Program Files\\\\R\\\\R-2.15.2\\\\etc\\\\x64'\n",
    "os.environ['R_DOC_DIR'] = 'C:\\\\Program Files\\\\R\\\\R-2.15.2\\\\doc'\n",
    "os.environ['R_LIBS'] = 'C:\\\\Program Files\\\\R\\\\R-2.15.2\\\\library'\n",
    "os.environ['R_LIBS_USER'] = 'C:\\\\Program Files\\\\RStudio\\\\R\\\\library'"
   ]
  },
  {
   "cell_type": "code",
   "execution_count": 67,
   "metadata": {
    "scrolled": true
   },
   "outputs": [
    {
     "data": {
      "text/plain": [
       "{'AGSDESKTOPJAVA': 'C:\\\\Program Files (x86)\\\\ArcGIS\\\\Desktop10.3\\\\',\n",
       " 'ALLUSERSPROFILE': 'C:\\\\ProgramData',\n",
       " 'APPDATA': 'C:\\\\Users\\\\Stagiaire\\\\AppData\\\\Roaming',\n",
       " 'ASL.LOG': 'Destination=file',\n",
       " 'CLICOLOR': '1',\n",
       " 'COMMONPROGRAMFILES': 'C:\\\\Program Files\\\\Common Files',\n",
       " 'COMMONPROGRAMFILES(X86)': 'C:\\\\Program Files (x86)\\\\Common Files',\n",
       " 'COMMONPROGRAMW6432': 'C:\\\\Program Files\\\\Common Files',\n",
       " 'COMPUTERNAME': 'GRAZEO-1',\n",
       " 'COMSPEC': 'C:\\\\Windows\\\\system32\\\\cmd.exe',\n",
       " 'FP_NO_HOST_CHECK': 'NO',\n",
       " 'GISBASE': 'C:/Program Files/GRASS GIS 7.2.svn',\n",
       " 'GISRC': 'c:\\\\users\\\\stagia~1\\\\appdata\\\\local\\\\temp\\\\tmpslmuy5',\n",
       " 'GIS_LOCK': '10308',\n",
       " 'GIT_PAGER': 'cat',\n",
       " 'GPU_MAX_ALLOC_PERCENT': '75',\n",
       " 'GRASS_ADDON_BASE': 'C:\\\\Users\\\\Stagiaire\\\\AppData\\\\Roaming\\\\GRASS7\\\\addons',\n",
       " 'GRASS_PYTHON': 'python.exe',\n",
       " 'HOMEDRIVE': 'C:',\n",
       " 'HOMEPATH': '\\\\Users\\\\Stagiaire',\n",
       " 'IPY_INTERRUPT_EVENT': '864',\n",
       " 'JPY_INTERRUPT_EVENT': '864',\n",
       " 'JPY_PARENT_PID': '1000',\n",
       " 'LOCALAPPDATA': 'C:\\\\Users\\\\Stagiaire\\\\AppData\\\\Local',\n",
       " 'LOGONSERVER': '\\\\\\\\GRAZEO-1',\n",
       " 'NUMBER_OF_PROCESSORS': '8',\n",
       " 'OS': 'Windows_NT',\n",
       " 'PAGER': 'cat',\n",
       " 'PATH': 'C:\\\\Program Files\\\\R\\\\R-2.15.2\\\\bin\\\\x64;C:\\\\Program Files\\\\Anaconda2\\\\lib\\\\site-packages;C:\\\\Program Files\\\\GRASS GIS 7.2.svn\\\\Python27;C:\\\\Users\\\\Stagiaire\\\\AppData\\\\Roaming\\\\GRASS7\\\\addons\\\\scripts;C:\\\\Program Files\\\\GRASS GIS 7.2.svn\\\\etc;C:\\\\Program Files\\\\GRASS GIS 7.2.svn\\\\etc\\\\python;C:\\\\Python27;C:\\\\Program Files\\\\GRASS GIS 7.2.svn\\\\lib;C:\\\\Program Files\\\\GRASS GIS 7.2.svn\\\\bin;C:\\\\Program Files\\\\GRASS GIS 7.2.svn\\\\extrabin;C:\\\\Program Files\\\\Anaconda2\\\\lib\\\\site-packages;C:\\\\Program Files\\\\GRASS GIS 7.2.svn\\\\Python27;C:\\\\Users\\\\Stagiaire\\\\AppData\\\\Roaming\\\\GRASS7\\\\addons\\\\scripts;C:\\\\Program Files\\\\GRASS GIS 7.2.svn\\\\etc;C:\\\\Program Files\\\\GRASS GIS 7.2.svn\\\\etc\\\\python;C:\\\\Python27;C:\\\\Program Files\\\\GRASS GIS 7.2.svn\\\\lib;C:\\\\Program Files\\\\GRASS GIS 7.2.svn\\\\bin;C:\\\\Program Files\\\\GRASS GIS 7.2.svn\\\\extrabin;F:\\\\ANACONDA\\\\Library\\\\bin;F:\\\\ANACONDA\\\\Library\\\\bin;F:\\\\ANACONDA\\\\Library\\\\bin;C:\\\\Python27;C:\\\\PCI Geomatics\\\\Geomatica 2015\\\\exe;C:\\\\ProgramData\\\\Oracle\\\\Java\\\\javapath;C:\\\\Program Files (x86)\\\\Intel\\\\iCLS Client\\\\;C:\\\\Program Files\\\\Intel\\\\iCLS Client\\\\;C:\\\\Windows\\\\system32;C:\\\\Windows;C:\\\\Windows\\\\System32\\\\Wbem;C:\\\\Windows\\\\System32\\\\WindowsPowerShell\\\\v1.0\\\\;C:\\\\Program Files (x86)\\\\Intel\\\\OpenCL SDK\\\\2.0\\\\bin\\\\x86;C:\\\\Program Files (x86)\\\\Intel\\\\OpenCL SDK\\\\2.0\\\\bin\\\\x64;C:\\\\Program Files\\\\Intel\\\\Intel(R) Management Engine Components\\\\DAL;C:\\\\Program Files\\\\Intel\\\\Intel(R) Management Engine Components\\\\IPT;C:\\\\Program Files (x86)\\\\Intel\\\\Intel(R) Management Engine Components\\\\DAL;C:\\\\Program Files (x86)\\\\Intel\\\\Intel(R) Management Engine Components\\\\IPT;C:\\\\Program Files\\\\MiKTeX 2.9\\\\miktex\\\\bin\\\\x64\\\\;C:\\\\Program Files\\\\R\\\\R-2.14.2\\\\bin;C:\\\\Python26\\\\ArcGIS10.0;C:\\\\OSGeo4W\\\\bin;E:\\\\Software\\\\lastools\\\\bin;C:\\\\Program Files (x86)\\\\Druide\\\\Antidote 7\\\\Programmes32;C:\\\\Program Files (x86)\\\\Druide\\\\Antidote 7\\\\Programmes64;C:\\\\Program Files (x86)\\\\QuickTime\\\\QTSystem\\\\;F:\\\\ANACONDA;F:\\\\ANACONDA\\\\Scripts;F:\\\\ANACONDA\\\\Library\\\\bin;C:\\\\Users\\\\Stagiaire\\\\AppData\\\\Local\\\\Pandoc\\\\;C:/Program Files/GRASS GIS 7.2.svn\\\\bin;C:/Program Files/GRASS GIS 7.2.svn\\\\scripts;C:/Program Files/GRASS GIS 7.2.svn\\\\extrabin;C:/Program Files/GRASS GIS 7.2.svn\\\\lib;C:/Program Files/GRASS GIS 7.2.svn\\\\bin;C:/Program Files/GRASS GIS 7.2.svn\\\\scripts;C:/Program Files/GRASS GIS 7.2.svn\\\\extrabin;C:/Program Files/GRASS GIS 7.2.svn\\\\lib',\n",
       " 'PATHEXT': '.COM;.EXE;.BAT;.CMD;.VBS;.VBE;.JS;.JSE;.WSF;.WSH;.MSC',\n",
       " 'PROCESSOR_ARCHITECTURE': 'AMD64',\n",
       " 'PROCESSOR_IDENTIFIER': 'Intel64 Family 6 Model 58 Stepping 9, GenuineIntel',\n",
       " 'PROCESSOR_LEVEL': '6',\n",
       " 'PROCESSOR_REVISION': '3a09',\n",
       " 'PROGRAMDATA': 'C:\\\\ProgramData',\n",
       " 'PROGRAMFILES': 'C:\\\\Program Files',\n",
       " 'PROGRAMFILES(X86)': 'C:\\\\Program Files (x86)',\n",
       " 'PROGRAMW6432': 'C:\\\\Program Files',\n",
       " 'PROMPT': '$P$G',\n",
       " 'PSMODULEPATH': 'C:\\\\Windows\\\\system32\\\\WindowsPowerShell\\\\v1.0\\\\Modules\\\\',\n",
       " 'PUBLIC': 'C:\\\\Users\\\\Public',\n",
       " 'PYTHONLIB': 'C:\\\\Python27',\n",
       " 'PYTHONPATH': 'C:/Program Files/GRASS GIS 7.2.svn\\\\etc\\\\python;C:/Program Files/GRASS GIS 7.2.svn/etc/python',\n",
       " 'R_DOC_DIR': 'C:\\\\Program Files\\\\R\\\\R-2.15.2\\\\doc',\n",
       " 'R_ENVIRON': 'C:\\\\Program Files\\\\R\\\\R-2.15.2\\\\etc\\\\x64',\n",
       " 'R_HOME': 'C:\\\\Program Files\\\\R\\\\R-2.15.2',\n",
       " 'R_LIBS': 'C:\\\\Program Files\\\\R\\\\R-2.15.2\\\\library',\n",
       " 'R_LIBS_USER': 'C:\\\\Program Files\\\\RStudio\\\\R\\\\library',\n",
       " 'SESSIONNAME': 'Console',\n",
       " 'SYSTEMDRIVE': 'C:',\n",
       " 'SYSTEMROOT': 'C:\\\\Windows',\n",
       " 'TEMP': 'C:\\\\Users\\\\STAGIA~1\\\\AppData\\\\Local\\\\Temp',\n",
       " 'TERM': 'xterm-color',\n",
       " 'TERRAGO_COMMON_DIR': 'C:\\\\Program Files (x86)\\\\Common Files\\\\TerraGo',\n",
       " 'TMP': 'C:\\\\Users\\\\STAGIA~1\\\\AppData\\\\Local\\\\Temp',\n",
       " 'USERDOMAIN': 'GRAZEO-1',\n",
       " 'USERNAME': 'Stagiaire',\n",
       " 'USERPROFILE': 'C:\\\\Users\\\\Stagiaire',\n",
       " 'WINDIR': 'C:\\\\Windows'}"
      ]
     },
     "execution_count": 67,
     "metadata": {},
     "output_type": "execute_result"
    }
   ],
   "source": [
    "env"
   ]
  },
  {
   "cell_type": "code",
   "execution_count": 99,
   "metadata": {
    "collapsed": true
   },
   "outputs": [],
   "source": [
    "classifier()"
   ]
  },
  {
   "cell_type": "markdown",
   "metadata": {},
   "source": [
    "## VALIDATION"
   ]
  },
  {
   "cell_type": "code",
   "execution_count": 94,
   "metadata": {
    "scrolled": true
   },
   "outputs": [
    {
     "name": "stdout",
     "output_type": "stream",
     "text": [
      "Validation :  Mon Aug 08 10:31:03 2016\n",
      "La validation a pris : 0 heures, 5 minutes et 17.0 secondes\n"
     ]
    }
   ],
   "source": [
    "print ('Validation :  '+ time.ctime())\n",
    "tempbegintime=time.time()\n",
    "\n",
    "valider ()\n",
    "\n",
    "\n",
    "print calculTemps(tempbegintime,\"La validation a pris : \")"
   ]
  }
 ],
 "metadata": {
  "kernelspec": {
   "display_name": "Python 2",
   "language": "python",
   "name": "python2"
  },
  "language_info": {
   "codemirror_mode": {
    "name": "ipython",
    "version": 2
   },
   "file_extension": ".py",
   "mimetype": "text/x-python",
   "name": "python",
   "nbconvert_exporter": "python",
   "pygments_lexer": "ipython2",
   "version": "2.7.12"
  }
 },
 "nbformat": 4,
 "nbformat_minor": 1
}
