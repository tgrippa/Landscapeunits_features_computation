{
 "cells": [
  {
   "cell_type": "markdown",
   "metadata": {},
   "source": [
    "# TODO\n",
    "\n",
    "\n",
    "- Replace of NULL values in the csv file by 0 (for class-based metrics only)\n",
    "- Add check of NULL values at the end (Pandas) to be sure there are not anymore in the dataset\n",
    "- Add the following metrics:\n",
    "    1. Density of built floor area (sum of built pixels' height / area of block)"
   ]
  },
  {
   "cell_type": "markdown",
   "metadata": {},
   "source": [
    "<center> <font size=5> <h1>Define working environment</h1> </font> </center> "
   ]
  },
  {
   "cell_type": "markdown",
   "metadata": {},
   "source": [
    "The following cells are used to: \n",
    "- Import needed libraries\n",
    "- Set the environment variables for Python, Anaconda, GRASS GIS and R statistical computing \n",
    "- Define the [\"GRASSDATA\" folder](https://grass.osgeo.org/grass73/manuals/helptext.html), the name of \"location\" and \"mapset\" where you will to work."
   ]
  },
  {
   "cell_type": "markdown",
   "metadata": {},
   "source": [
    "**Import libraries**"
   ]
  },
  {
   "cell_type": "code",
   "execution_count": 186,
   "metadata": {
    "collapsed": true
   },
   "outputs": [],
   "source": [
    "## Import libraries needed for setting parameters of operating system \n",
    "import os\n",
    "import sys"
   ]
  },
  {
   "cell_type": "markdown",
   "metadata": {},
   "source": [
    "<center> <font size=3> <h3>Environment variables when working on Linux Mint</h3> </font> </center> "
   ]
  },
  {
   "cell_type": "markdown",
   "metadata": {},
   "source": [
    "**Set 'Python' and 'GRASS GIS' environment variables**"
   ]
  },
  {
   "cell_type": "markdown",
   "metadata": {},
   "source": [
    "Here, we set [the environment variables allowing to use of GRASS GIS](https://grass.osgeo.org/grass64/manuals/variables.html) inside this Jupyter notebook. Please change the directory path according to your own system configuration."
   ]
  },
  {
   "cell_type": "code",
   "execution_count": 187,
   "metadata": {
    "collapsed": true
   },
   "outputs": [],
   "source": [
    "### Define GRASS GIS environment variables for LINUX UBUNTU Mint 18.1 (Serena)\n",
    "# Check is environmental variables exists and create them (empty) if not exists.\n",
    "if not 'PYTHONPATH' in os.environ:\n",
    "    os.environ['PYTHONPATH']=''\n",
    "if not 'LD_LIBRARY_PATH' in os.environ:\n",
    "    os.environ['LD_LIBRARY_PATH']=''\n",
    "# Set environmental variables\n",
    "os.environ['GISBASE'] = '/home/tais/SRC/GRASS/grass_trunk/dist.x86_64-pc-linux-gnu'\n",
    "os.environ['PATH'] += os.pathsep + os.path.join(os.environ['GISBASE'],'bin')\n",
    "os.environ['PATH'] += os.pathsep + os.path.join(os.environ['GISBASE'],'script')\n",
    "os.environ['PATH'] += os.pathsep + os.path.join(os.environ['GISBASE'],'lib')\n",
    "#os.environ['PATH'] += os.pathsep + os.path.join(os.environ['GISBASE'],'etc','python')\n",
    "os.environ['PYTHONPATH'] += os.pathsep + os.path.join(os.environ['GISBASE'],'etc','python')\n",
    "os.environ['PYTHONPATH'] += os.pathsep + os.path.join(os.environ['GISBASE'],'etc','python','grass')\n",
    "os.environ['PYTHONPATH'] += os.pathsep + os.path.join(os.environ['GISBASE'],'etc','python','grass','script')\n",
    "os.environ['PYTHONLIB'] = '/usr/lib/python2.7'\n",
    "os.environ['LD_LIBRARY_PATH'] += os.pathsep + os.path.join(os.environ['GISBASE'],'lib')\n",
    "os.environ['GIS_LOCK'] = '$$'\n",
    "os.environ['GISRC'] = os.path.join(os.environ['HOME'],'.grass7','rc')\n",
    "os.environ['PATH'] += os.pathsep + os.path.join(os.environ['HOME'],'.grass7','addons')\n",
    "os.environ['PATH'] += os.pathsep + os.path.join(os.environ['HOME'],'.grass7','addons','bin')\n",
    "os.environ['PATH'] += os.pathsep + os.path.join(os.environ['HOME'],'.grass7','addons')\n",
    "os.environ['PATH'] += os.pathsep + os.path.join(os.environ['HOME'],'.grass7','addons','scripts')\n",
    "\n",
    "## Define GRASS-Python environment\n",
    "sys.path.append(os.path.join(os.environ['GISBASE'],'etc','python'))"
   ]
  },
  {
   "cell_type": "markdown",
   "metadata": {
    "collapsed": true
   },
   "source": [
    "**Import GRASS Python packages**"
   ]
  },
  {
   "cell_type": "code",
   "execution_count": 188,
   "metadata": {
    "collapsed": true
   },
   "outputs": [],
   "source": [
    "## Import libraries needed to launch GRASS GIS in the jupyter notebook\n",
    "import grass.script.setup as gsetup\n",
    "\n",
    "## Import libraries needed to call GRASS using Python\n",
    "import grass.script as gscript\n",
    "from grass.script import core as grass"
   ]
  },
  {
   "cell_type": "markdown",
   "metadata": {},
   "source": [
    "**-_-_-_-_-_-_-_-_-_-_-_-_-_-_-_-_-_-_-_-_-_-_-_-_-_-_-_-_-_-_-_-_-_-_-_-_-_-_-_-_-_-_-_-_-_-_-_-_-_-_-_-_-_-_-_-_-_-_-_-_-**"
   ]
  },
  {
   "cell_type": "markdown",
   "metadata": {
    "collapsed": true
   },
   "source": [
    "**Display current environment variables of your computer**"
   ]
  },
  {
   "cell_type": "code",
   "execution_count": 189,
   "metadata": {
    "scrolled": true
   },
   "outputs": [
    {
     "name": "stdout",
     "output_type": "stream",
     "text": [
      "MDMSESSION = mate \t\n",
      "MANDATORY_PATH = /usr/share/gconf/mate.mandatory.path \t\n",
      "MATE_DESKTOP_SESSION_ID = this-is-deprecated \t\n",
      "LESSOPEN = | /usr/bin/lesspipe %s \t\n",
      "MDM_LANG = fr_BE.UTF-8 \t\n",
      "LOGNAME = tais \t\n",
      "USER = tais \t\n",
      "HOME = /home/tais \t\n",
      "XDG_VTNR = 9 \t\n",
      "PATH = /usr/local/bin:/home/tais/BIN:/home/tais/bin:/home/tais/.local/bin:/usr/local/sbin:/usr/local/bin:/usr/sbin:/usr/bin:/sbin:/bin:/usr/games:/usr/local/games:/home/tais/SRC/GRASS/grass_trunk/dist.x86_64-pc-linux-gnu/bin:/home/tais/SRC/GRASS/grass_trunk/dist.x86_64-pc-linux-gnu/script:/home/tais/SRC/GRASS/grass_trunk/dist.x86_64-pc-linux-gnu/lib:/home/tais/.grass7/addons:/home/tais/.grass7/addons/bin:/home/tais/.grass7/addons:/home/tais/.grass7/addons/scripts:/home/tais/SRC/GRASS/grass_trunk/dist.x86_64-pc-linux-gnu/bin:/home/tais/SRC/GRASS/grass_trunk/dist.x86_64-pc-linux-gnu/scripts:/home/tais/.grass7/addons/scripts:/home/tais/SRC/GRASS/grass_trunk/dist.x86_64-pc-linux-gnu/bin:/home/tais/SRC/GRASS/grass_trunk/dist.x86_64-pc-linux-gnu/script:/home/tais/SRC/GRASS/grass_trunk/dist.x86_64-pc-linux-gnu/lib:/home/tais/.grass7/addons:/home/tais/.grass7/addons/bin:/home/tais/.grass7/addons:/home/tais/.grass7/addons/scripts:/home/tais/SRC/GRASS/grass_trunk/dist.x86_64-pc-linux-gnu/bin:/home/tais/SRC/GRASS/grass_trunk/dist.x86_64-pc-linux-gnu/scripts:/home/tais/.grass7/addons/scripts:/home/tais/SRC/GRASS/grass_trunk/dist.x86_64-pc-linux-gnu/bin:/home/tais/SRC/GRASS/grass_trunk/dist.x86_64-pc-linux-gnu/script:/home/tais/SRC/GRASS/grass_trunk/dist.x86_64-pc-linux-gnu/lib:/home/tais/.grass7/addons:/home/tais/.grass7/addons/bin:/home/tais/.grass7/addons:/home/tais/.grass7/addons/scripts \t\n",
      "CLICOLOR = 1 \t\n",
      "DISPLAY = :0.0 \t\n",
      "SSH_AGENT_PID = 5974 \t\n",
      "LANG = fr_BE.UTF-8 \t\n",
      "TERM = xterm-color \t\n",
      "SHELL = /bin/bash \t\n",
      "GIS_LOCK = $$ \t\n",
      "XAUTHORITY = /home/tais/.Xauthority \t\n",
      "SESSION_MANAGER = local/tais-HP-Z620-Workstation:@/tmp/.ICE-unix/5837,unix/tais-HP-Z620-Workstation:/tmp/.ICE-unix/5837 \t\n",
      "SHLVL = 1 \t\n",
      "QT_LINUX_ACCESSIBILITY_ALWAYS_ON = 1 \t\n",
      "INSIDE_CAJA_PYTHON =  \t\n",
      "QT_ACCESSIBILITY = 1 \t\n",
      "LD_LIBRARY_PATH = :/home/tais/SRC/GRASS/grass_trunk/dist.x86_64-pc-linux-gnu/lib:/home/tais/SRC/GRASS/grass_trunk/dist.x86_64-pc-linux-gnu/lib:/home/tais/SRC/GRASS/grass_trunk/dist.x86_64-pc-linux-gnu/lib:/home/tais/SRC/GRASS/grass_trunk/dist.x86_64-pc-linux-gnu/lib:/home/tais/SRC/GRASS/grass_trunk/dist.x86_64-pc-linux-gnu/lib \t\n",
      "COMPIZ_CONFIG_PROFILE = mate \t\n",
      "WINDOWPATH = 9 \t\n",
      "GTK_OVERLAY_SCROLLING = 0 \t\n",
      "PYTHONPATH = /home/tais/SRC/GRASS/grass_trunk/dist.x86_64-pc-linux-gnu/etc/python:/home/tais/SRC/GRASS/grass_trunk/dist.x86_64-pc-linux-gnu/etc/python::/home/tais/SRC/GRASS/grass_trunk/dist.x86_64-pc-linux-gnu/etc/python:/home/tais/SRC/GRASS/grass_trunk/dist.x86_64-pc-linux-gnu/etc/python/grass:/home/tais/SRC/GRASS/grass_trunk/dist.x86_64-pc-linux-gnu/etc/python/grass/script:/home/tais/SRC/GRASS/grass_trunk/dist.x86_64-pc-linux-gnu/etc/python:/home/tais/SRC/GRASS/grass_trunk/dist.x86_64-pc-linux-gnu/etc/python/grass:/home/tais/SRC/GRASS/grass_trunk/dist.x86_64-pc-linux-gnu/etc/python/grass/script:/home/tais/SRC/GRASS/grass_trunk/dist.x86_64-pc-linux-gnu/etc/python:/home/tais/SRC/GRASS/grass_trunk/dist.x86_64-pc-linux-gnu/etc/python/grass:/home/tais/SRC/GRASS/grass_trunk/dist.x86_64-pc-linux-gnu/etc/python/grass/script \t\n",
      "GISBASE = /home/tais/SRC/GRASS/grass_trunk/dist.x86_64-pc-linux-gnu \t\n",
      "CLUTTER_BACKEND = x11 \t\n",
      "USERNAME = tais \t\n",
      "XDG_SESSION_DESKTOP = mate \t\n",
      "GDM_XSERVER_LOCATION = local \t\n",
      "XDG_RUNTIME_DIR = /run/user/1000 \t\n",
      "JPY_PARENT_PID = 856 \t\n",
      "QT_STYLE_OVERRIDE = gtk \t\n",
      "SSH_AUTH_SOCK = /run/user/1000/keyring/ssh \t\n",
      "VTE_VERSION = 4205 \t\n",
      "GDMSESSION = mate \t\n",
      "GISRC = /home/tais/.grass7/rc \t\n",
      "GIT_PAGER = cat \t\n",
      "XDG_CONFIG_DIRS = /etc/xdg/xdg-mate:/etc/xdg \t\n",
      "XDG_CURRENT_DESKTOP = MATE \t\n",
      "XDG_SESSION_ID = c21 \t\n",
      "DBUS_SESSION_BUS_ADDRESS = unix:abstract=/tmp/dbus-oiw1S789SI,guid=e626cdc47bce079de737e4fe5a3fcda7 \t\n",
      "_ = /usr/local/bin/jupyter \t\n",
      "XDG_SESSION_COOKIE = 8441891e86e24d76b9616edf516d5734-1514130855.90561-444848216 \t\n",
      "DESKTOP_SESSION = mate \t\n",
      "WINDOWID = 56623278 \t\n",
      "LESSCLOSE = /usr/bin/lesspipe %s %s \t\n",
      "DEFAULTS_PATH = /usr/share/gconf/mate.default.path \t\n",
      "MPLBACKEND = module://ipykernel.pylab.backend_inline \t\n",
      "MDM_XSERVER_LOCATION = local \t\n",
      "GTK_MODULES = gail:atk-bridge \t\n",
      "XDG_DATA_DIRS = /usr/share/mate:/usr/local/share/:/usr/share/:/usr/share/mdm/ \t\n",
      "PWD = /media/tais/data/Dropbox/ULB/MAUPP/Traitements/Landscape_metrics/r.li/Landuse_mapping \t\n",
      "GRASS_ADDON_BASE = /home/tais/.grass7/addons \t\n",
      "COLORTERM = mate-terminal \t\n",
      "PYTHONLIB = /usr/lib/python2.7 \t\n",
      "LS_COLORS = rs=0:di=01;34:ln=01;36:mh=00:pi=40;33:so=01;35:do=01;35:bd=40;33;01:cd=40;33;01:or=40;31;01:mi=00:su=37;41:sg=30;43:ca=30;41:tw=30;42:ow=34;42:st=37;44:ex=01;32:*.tar=01;31:*.tgz=01;31:*.arc=01;31:*.arj=01;31:*.taz=01;31:*.lha=01;31:*.lz4=01;31:*.lzh=01;31:*.lzma=01;31:*.tlz=01;31:*.txz=01;31:*.tzo=01;31:*.t7z=01;31:*.zip=01;31:*.z=01;31:*.Z=01;31:*.dz=01;31:*.gz=01;31:*.lrz=01;31:*.lz=01;31:*.lzo=01;31:*.xz=01;31:*.bz2=01;31:*.bz=01;31:*.tbz=01;31:*.tbz2=01;31:*.tz=01;31:*.deb=01;31:*.rpm=01;31:*.jar=01;31:*.war=01;31:*.ear=01;31:*.sar=01;31:*.rar=01;31:*.alz=01;31:*.ace=01;31:*.zoo=01;31:*.cpio=01;31:*.7z=01;31:*.rz=01;31:*.cab=01;31:*.jpg=01;35:*.jpeg=01;35:*.gif=01;35:*.bmp=01;35:*.pbm=01;35:*.pgm=01;35:*.ppm=01;35:*.tga=01;35:*.xbm=01;35:*.xpm=01;35:*.tif=01;35:*.tiff=01;35:*.png=01;35:*.svg=01;35:*.svgz=01;35:*.mng=01;35:*.pcx=01;35:*.mov=01;35:*.mpg=01;35:*.mpeg=01;35:*.m2v=01;35:*.mkv=01;35:*.webm=01;35:*.ogm=01;35:*.mp4=01;35:*.m4v=01;35:*.mp4v=01;35:*.vob=01;35:*.qt=01;35:*.nuv=01;35:*.wmv=01;35:*.asf=01;35:*.rm=01;35:*.rmvb=01;35:*.flc=01;35:*.avi=01;35:*.fli=01;35:*.flv=01;35:*.gl=01;35:*.dl=01;35:*.xcf=01;35:*.xwd=01;35:*.yuv=01;35:*.cgm=01;35:*.emf=01;35:*.ogv=01;35:*.ogx=01;35:*.aac=00;36:*.au=00;36:*.flac=00;36:*.m4a=00;36:*.mid=00;36:*.midi=00;36:*.mka=00;36:*.mp3=00;36:*.mpc=00;36:*.ogg=00;36:*.ra=00;36:*.wav=00;36:*.oga=00;36:*.opus=00;36:*.spx=00;36:*.xspf=00;36: \t\n",
      "PAGER = cat \t\n",
      "GRASS_PYTHON = python \t\n",
      "XDG_SEAT = seat0 \t\n"
     ]
    }
   ],
   "source": [
    "## Display the current defined environment variables\n",
    "for key in os.environ.keys():\n",
    "    print \"%s = %s \\t\" % (key,os.environ[key])"
   ]
  },
  {
   "cell_type": "markdown",
   "metadata": {},
   "source": [
    "**-_-_-_-_-_-_-_-_-_-_-_-_-_-_-_-_-_-_-_-_-_-_-_-_-_-_-_-_-_-_-_-_-_-_-_-_-_-_-_-_-_-_-_-_-_-_-_-_-_-_-_-_-_-_-_-_-_-_-_-_-**"
   ]
  },
  {
   "cell_type": "markdown",
   "metadata": {},
   "source": [
    "<center> <font size=5> <h1>Define functions</h1> </font> </center> "
   ]
  },
  {
   "cell_type": "markdown",
   "metadata": {},
   "source": [
    "This section of the notebook is dedicated to defining functions which will then be called later in the script. If you want to create your own functions, define them here."
   ]
  },
  {
   "cell_type": "markdown",
   "metadata": {},
   "source": [
    "### Function for computing processing time"
   ]
  },
  {
   "cell_type": "markdown",
   "metadata": {},
   "source": [
    "The \"print_processing_time\" is used to calculate and display the processing time for various stages of the processing chain. At the beginning of each major step, the current time is stored in a new variable, using [time.time() function](https://docs.python.org/2/library/time.html). At the end of the stage in question, the \"print_processing_time\" function is called and takes as argument the name of this new variable containing the recorded time at the beginning of the stage, and an output message."
   ]
  },
  {
   "cell_type": "code",
   "execution_count": 190,
   "metadata": {
    "collapsed": true
   },
   "outputs": [],
   "source": [
    "## Import library for managing time in python\n",
    "import time  \n",
    "\n",
    "## Function \"print_processing_time()\" compute processing time and printing it.\n",
    "# The argument \"begintime\" wait for a variable containing the begintime (result of time.time()) of the process for which to compute processing time.\n",
    "# The argument \"printmessage\" wait for a string format with information about the process. \n",
    "def print_processing_time(begintime, printmessage):    \n",
    "    endtime=time.time()           \n",
    "    processtime=endtime-begintime\n",
    "    remainingtime=processtime\n",
    "\n",
    "    days=int((remainingtime)/86400)\n",
    "    remainingtime-=(days*86400)\n",
    "    hours=int((remainingtime)/3600)\n",
    "    remainingtime-=(hours*3600)\n",
    "    minutes=int((remainingtime)/60)\n",
    "    remainingtime-=(minutes*60)\n",
    "    seconds=round((remainingtime)%60,1)\n",
    "\n",
    "    if processtime<60:\n",
    "        finalprintmessage=str(printmessage)+str(seconds)+\" seconds\"\n",
    "    elif processtime<3600:\n",
    "        finalprintmessage=str(printmessage)+str(minutes)+\" minutes and \"+str(seconds)+\" seconds\"\n",
    "    elif processtime<86400:\n",
    "        finalprintmessage=str(printmessage)+str(hours)+\" hours and \"+str(minutes)+\" minutes and \"+str(seconds)+\" seconds\"\n",
    "    elif processtime>=86400:\n",
    "        finalprintmessage=str(printmessage)+str(days)+\" days, \"+str(hours)+\" hours and \"+str(minutes)+\" minutes and \"+str(seconds)+\" seconds\"\n",
    "    \n",
    "    return finalprintmessage"
   ]
  },
  {
   "cell_type": "markdown",
   "metadata": {},
   "source": [
    "### Function for creation of configuration file for r.li (landscape units provided as polygons) (multiprocessed)"
   ]
  },
  {
   "cell_type": "code",
   "execution_count": 191,
   "metadata": {
    "collapsed": true
   },
   "outputs": [],
   "source": [
    "##### Function that create the r.li configuration file for a list of landcover raster.\n",
    "### It enable to create in one function as many configuration file as the number of raster provided in 'listoflandcoverraster'.\n",
    "### It could be use only in case study with a several landcover raster and only one landscape unit layer.\n",
    "### So, the landscape unit layer if fixed and there are the landcover raster which change. \n",
    "# 'listoflandcoverraster' wait for a list with the name (string) of landcover rasters.\n",
    "# 'landscape_polygons' wait for the name (string) of the vector layer containing the polygons to be used as landscape units.\n",
    "# 'masklayerhardcopy' wait for a boolean value (True/False) depending if the user want to create hard copy of the landscape units mask layers or not.\n",
    "# 'returnlistpath' wait for a boolean value (True/False) according to the fact that a list containing the path to the configuration files is desired.\n",
    "# 'ncores' wait for a integer corresponding to the number of desired cores to be used for parallelization.\n",
    "\n",
    "# Import libraries for multiprocessing \n",
    "import multiprocessing\n",
    "from multiprocessing import Pool\n",
    "from functools import partial \n",
    "\n",
    "# Function that copy the landscape unit raster masks on a new layer with name corresponding to the current 'landcover_raster'\n",
    "def copy_landscapeunitmasks(current_landcover_raster,base_landcover_raster,landscape_polygons,landscapeunit_bbox,cat):\n",
    "    ### Copy the landscape units mask for the current 'cat'\n",
    "    # Define the name of the current \"current_landscapeunit_rast\" layer\n",
    "    current_landscapeunit_rast=current_landcover_raster.split(\"@\")[0]+\"_\"+landscape_polygons.split(\"@\")[0]+\"_\"+str(cat)          \n",
    "    base_landscapeunit_rast=base_landcover_raster.split(\"@\")[0]+\"_\"+landscape_polygons.split(\"@\")[0]+\"_\"+str(cat)          \n",
    "    # Copy the the landscape unit created for the first landcover map in order to match the name of the current landcover map\n",
    "    gscript.run_command('g.copy', overwrite=True, quiet=True, raster=(base_landscapeunit_rast,current_landscapeunit_rast))\n",
    "    # Add the line to the text variable\n",
    "    text=\"MASKEDOVERLAYAREA \"+current_landscapeunit_rast+\"|\"+landscapeunit_bbox[cat]\n",
    "    return text\n",
    "\n",
    "# Function that create the r.li configuration file for the base landcover raster and then for all the binary rasters\n",
    "def create_rli_configfile(listoflandcoverraster,landscape_polygons,\n",
    "                          masklayerhardcopy=False,returnlistpath=True,ncores=2):\n",
    "    # Check if 'listoflandcoverraster' is not empty\n",
    "    if len(listoflandcoverraster)==0:\n",
    "        sys.exit(\"The list of landcover raster is empty and should contain at least one raster name\")\n",
    "    # Check if rasters provided in 'listoflandcoverraster' exists to avoid error in mutliprocessing \n",
    "    for cur_rast in listoflandcoverraster:\n",
    "        try:\n",
    "            mpset=cur_rast.split(\"@\")[1]\n",
    "        except:\n",
    "            mpset=\"\"\n",
    "        if cur_rast.split(\"@\")[0] not in [x[0] for x in gscript.list_pairs(type='raster',mapset=mpset)]:\n",
    "            sys.exit('Raster <%s> not found' %cur_rast)\n",
    "    # Check if rasters provided in 'listoflandcoverraster' have the same extend and spatial resolution \n",
    "    raster={}\n",
    "    for x, rast in enumerate(raster_list):\n",
    "        raster[x]=gscript.raster_info(rast)\n",
    "    key_list=raster.keys()\n",
    "    for x in key_list[1:]:\n",
    "        for info in ('north','south','east','west','ewres','nsres'):\n",
    "            if not raster[0][info]==raster[x][info]:\n",
    "                sys.exit(\"Some raster provided in the list have different spatial resolution or extend, please check\")    \n",
    "    # Get the version of GRASS GIS \n",
    "    version=grass.version()['version'].split('.')[0]\n",
    "    # Define the folder to save the r.li configuration files\n",
    "    if sys.platform==\"win32\":\n",
    "        rli_dir=os.path.join(os.environ['APPDATA'],\"GRASS\"+version,\"r.li\")\n",
    "    else: \n",
    "        rli_dir=os.path.join(os.environ['HOME'],\".grass\"+version,\"r.li\")\n",
    "    if not os.path.exists(rli_dir):\n",
    "        os.makedirs(rli_dir)\n",
    "    ## Create an ordered list with the 'cat' value of landscape units to be processed.\n",
    "    list_cat=[int(x) for x in gscript.parse_command('v.db.select', quiet=True, \n",
    "                                                        map=landscape_polygons, column='cat', flags='c')]\n",
    "    list_cat.sort()\n",
    "    # Declare a empty dictionnary which will contains the north, south, east, west values for each landscape unit\n",
    "    landscapeunit_bbox={}\n",
    "    # Declare a empty list which will contain the path of the configation files created\n",
    "    listpath=[]\n",
    "    # Declare a empty string variable which will contains the core part of the r.li configuration file\n",
    "    maskedoverlayarea_1=\"\"\n",
    "    # Duplicate 'listoflandcoverraster' in a new variable called 'tmp_list'\n",
    "    tmp_list=list(listoflandcoverraster)\n",
    "    # Set the current landcover raster as the first of the list\n",
    "    base_landcover_raster=tmp_list.pop(0) #The pop function return the first item of the list and delete it from the list at the same time\n",
    "    # Loop trough the landscape units\n",
    "    for cat in list_cat:\n",
    "        # Extract the current landscape unit polygon as temporary vector\n",
    "        tmp_vect=\"tmp_\"+base_landcover_raster.split(\"@\")[0]+\"_\"+landscape_polygons.split(\"@\")[0]+\"_\"+str(cat)\n",
    "        gscript.run_command('v.extract', overwrite=True, quiet=True, \n",
    "                            input=landscape_polygons, cats=cat, output=tmp_vect)\n",
    "        # Set region to match the extent of the current landscape polygon, with resolution and alignement matching the landcover raster\n",
    "        gscript.run_command('g.region', vector=tmp_vect, align=base_landcover_raster)\n",
    "        # Rasterize the landscape unit polygon\n",
    "        landscapeunit_rast=tmp_vect[4:]\n",
    "        gscript.run_command('v.to.rast', overwrite=True, quiet=True, input=tmp_vect, output=landscapeunit_rast, use='cat', memory='3000')\n",
    "        # Remove temporary vector\n",
    "        gscript.run_command('g.remove', quiet=True, flags=\"f\", type='vector', name=tmp_vect)\n",
    "        # Set the region to match the raster landscape unit extent and save the region info in a dictionary\n",
    "        region_info=gscript.parse_command('g.region', raster=landscapeunit_rast, flags='g')\n",
    "        n=str(round(float(region_info['n']),5)) #the config file need 5 decimal for north and south\n",
    "        s=str(round(float(region_info['s']),5))\n",
    "        e=str(round(float(region_info['e']),6)) #the config file need 6 decimal for east and west\n",
    "        w=str(round(float(region_info['w']),6))\n",
    "        # Save the coordinates of the bbox in the dictionary (n,s,e,w)\n",
    "        landscapeunit_bbox[cat]=n+\"|\"+s+\"|\"+e+\"|\"+w\n",
    "        # Add the line to the maskedoverlayarea_1 variable\n",
    "        maskedoverlayarea_1+=\"MASKEDOVERLAYAREA \"+landscapeunit_rast+\"|\"+landscapeunit_bbox[cat]+\"\\n\"\n",
    "\n",
    "    # Compile the content of the r.li configuration file\n",
    "    config_file_content=\"SAMPLINGFRAME 0|0|1|1\\n\"\n",
    "    config_file_content+=maskedoverlayarea_1\n",
    "    config_file_content+=\"RASTERMAP \"+base_landcover_raster+\"\\n\"\n",
    "    config_file_content+=\"VECTORMAP \"+landscape_polygons+\"\\n\"\n",
    "\n",
    "    # Create a new file and save the content\n",
    "    configfilename=base_landcover_raster.split(\"@\")[0]+\"_\"+landscape_polygons.split(\"@\")[0]\n",
    "    path=os.path.join(rli_dir,configfilename)\n",
    "    listpath.append(path)\n",
    "    f=open(path, 'w')\n",
    "    f.write(config_file_content)\n",
    "    f.close()\n",
    "    \n",
    "    # Continue creation of r.li configuration file and landscape unit raster the rest of the landcover raster provided\n",
    "    while len(tmp_list)>0:\n",
    "        # Initialize 'maskedoverlayarea_2' variable as an empty string\n",
    "        maskedoverlayarea_2=\"\"\n",
    "        # Set the current landcover raster as the first of the list\n",
    "        current_landcover_raster=tmp_list.pop(0) #The pop function return the first item of the list and delete it from the list at the same time\n",
    "        if masklayerhardcopy: # If the user asked for hard copy of the landscape units mask layers\n",
    "            # Copy all the landscape units masks for the current landcover raster\n",
    "            p=Pool(ncores) #Create a pool of processes and launch them using 'map' function\n",
    "            func=partial(copy_landscapeunitmasks,current_landcover_raster,base_landcover_raster,landscape_polygons,landscapeunit_bbox) # Set fixed argument of the function\n",
    "            maskedoverlayarea_2=p.map(func,list_cat) # Launch the processes for as many items in the list and get the ordered results using map function\n",
    "            p.close()\n",
    "            p.join()\n",
    "            # Compile the content of the r.li configuration file\n",
    "            config_file_content=\"SAMPLINGFRAME 0|0|1|1\\n\"\n",
    "            config_file_content+=\"\\n\".join(maskedoverlayarea_2)+\"\\n\"\n",
    "            config_file_content+=\"RASTERMAP \"+current_landcover_raster+\"\\n\"\n",
    "            config_file_content+=\"VECTORMAP \"+landscape_polygons+\"\\n\"\n",
    "        else: # If the user not asked for hard copy\n",
    "            # Compile the content of the r.li configuration file\n",
    "            config_file_content=\"SAMPLINGFRAME 0|0|1|1\\n\"\n",
    "            config_file_content+=maskedoverlayarea_1  # If user do not asked for hard copy, the mask layers are the same than for the first configuration file\n",
    "            config_file_content+=\"RASTERMAP \"+current_landcover_raster+\"\\n\"  # But the name of the RASTERMAP should be the one of the current landcover raster\n",
    "            config_file_content+=\"VECTORMAP \"+landscape_polygons+\"\\n\"\n",
    "        # Create a new file and save the content\n",
    "        configfilename=current_landcover_raster.split(\"@\")[0]+\"_\"+landscape_polygons.split(\"@\")[0]\n",
    "        path=os.path.join(rli_dir,configfilename)\n",
    "        listpath.append(path)\n",
    "        f=open(path, 'w')\n",
    "        f.write(config_file_content)\n",
    "        f.close()\n",
    "    \n",
    "    # Return a list of path of configuration files creates if option actived\n",
    "    if returnlistpath:\n",
    "        return list_cat,listpath\n",
    "    else:\n",
    "        return list_cat"
   ]
  },
  {
   "cell_type": "markdown",
   "metadata": {},
   "source": [
    "### Function for creation of binary raster from a categorical raster (multiprocessed)"
   ]
  },
  {
   "cell_type": "code",
   "execution_count": 192,
   "metadata": {
    "collapsed": true
   },
   "outputs": [],
   "source": [
    "###### Function creating a binary raster for each category of a base raster. \n",
    "### The function run within the current region. If a category do not exists in the current region, no binary map will be produce\n",
    "# 'categorical_raster' wait for the name of the base raster to be used. It is the one from which one binary raster will be produced for each category value\n",
    "# 'prefix' wait for a string corresponding to the prefix of the name of the binary raster which will be produced\n",
    "# 'setnull' wait for a boolean value (True, False) according to the fact that the output binary should be 1/0 or 1/null\n",
    "# 'returnlistraster' wait for a boolean value (True, False) regarding to the fact that a list containing the name of binary raster is desired as return of the function\n",
    "# 'category_list' wait for a list of interger corresponding to specific category of the base raster to be used \n",
    "# 'ncores' wait for a integer corresponding to the number of desired cores to be used for parallelization\n",
    "\n",
    "# Import libraries for multiprocessing \n",
    "import multiprocessing\n",
    "from multiprocessing import Pool\n",
    "from functools import partial   \n",
    "\n",
    "def create_binary_raster(categorical_raster,prefix=\"binary\",setnull=False,returnlistraster=True,category_list=None,ncores=2):\n",
    "    # Check if raster exists to avoid error in mutliprocessing \n",
    "    try:\n",
    "        mpset=categorical_raster.split(\"@\")[1]\n",
    "    except:\n",
    "        mpset=\"\"\n",
    "    if categorical_raster not in gscript.list_strings(type='raster',mapset=mpset):\n",
    "        sys.exit('Raster <%s> not found' %categorical_raster)\n",
    "    # Check for number of cores doesnt exceed available\n",
    "    nbcpu=multiprocessing.cpu_count()\n",
    "    if ncores>=nbcpu:\n",
    "        ncores=nbcpu-1\n",
    "    returnlist=[] #Declare empty list for return\n",
    "    #gscript.run_command('g.region', raster=categorical_raster, quiet=True) #Set the region\n",
    "    null='null()' if setnull else '0' #Set the value for r.mapcalc\n",
    "    minclass=1 if setnull else 2 #Set the value to check if the binary raster is empty\n",
    "    if category_list == None: #If no category_list provided\n",
    "        category_list=[cl for cl in gscript.parse_command('r.category',map=categorical_raster,quiet=True)]\n",
    "    for i,x in enumerate(category_list):  #Make sure the format is UTF8 and not Unicode\n",
    "        category_list[i]=x.encode('UTF8')\n",
    "    category_list.sort(key=float) #Sort the raster categories in ascending.\n",
    "    p=Pool(ncores) #Create a pool of processes and launch them using 'map' function\n",
    "    func=partial(get_binary,categorical_raster,prefix,null,minclass) # Set the two fixed argument of the function\n",
    "    returnlist=p.map(func,category_list) # Launch the processes for as many items in the 'functions_name' list and get the ordered results using map function\n",
    "    p.close()\n",
    "    p.join()\n",
    "    if returnlistraster:\n",
    "        return returnlist\n",
    "\n",
    "#### Function that extract binary raster for a specified class (called in 'create_binary_raster' function)\n",
    "def get_binary(categorical_raster,prefix,null,minclass,cl):\n",
    "    binary_class=prefix+\"_\"+cl\n",
    "    gscript.run_command('r.mapcalc', expression=binary_class+'=if('+categorical_raster+'=='+str(cl)+',1,'+null+')',overwrite=True, quiet=True)\n",
    "    if len(gscript.parse_command('r.category',map=binary_class,quiet=True))>=minclass:  #Check if created binary is not empty\n",
    "        return binary_class\n",
    "    else:\n",
    "        gscript.run_command('g.remove', quiet=True, flags=\"f\", type='raster', name=binary_class)"
   ]
  },
  {
   "cell_type": "markdown",
   "metadata": {},
   "source": [
    "### Function for computation of spatial metrics at landscape level (multiprocessed)"
   ]
  },
  {
   "cell_type": "code",
   "execution_count": 193,
   "metadata": {
    "collapsed": true
   },
   "outputs": [],
   "source": [
    "##### Function that compute different landscape metrics (spatial metrics) at landscape level. \n",
    "### The metric computed are \"dominance\",\"pielou\",\"renyi\",\"richness\",\"shannon\",\"simpson\".\n",
    "### It is important to set the computation region before runing this script so that it match the extent of the 'raster' layer.\n",
    "# 'configfile' wait for the path (string) to the configuration file corresponding to the 'raster' layer.\n",
    "# 'raster' wait for the name (string) of the landcover map on which landscape metrics will be computed.\n",
    "# 'returnlistresult' wait for a boolean value (True/False) according to the fact that a list containing the path to the result files is desired.\n",
    "# 'ncores' wait for a integer corresponding to the number of desired cores to be used for parallelization.\n",
    "\n",
    "# Import libraries for multiprocessing \n",
    "import multiprocessing\n",
    "from multiprocessing import Pool\n",
    "from functools import partial   \n",
    "\n",
    "def compute_landscapelevel_metrics(configfile, raster, spatial_metric):\n",
    "    filename=raster.split(\"@\")[0]+\"_%s\" %spatial_metric\n",
    "    outputfile=os.path.join(os.path.split(configfile)[0],\"output\",filename)\n",
    "    if spatial_metric=='renyi': # The alpha parameter was set to 2 as in https://en.wikipedia.org/wiki/R%C3%A9nyi_entropy\n",
    "        gscript.run_command('r.li.%s' %spatial_metric, overwrite=True,\n",
    "                            input=raster,config=configfile,alpha='2', output=filename)\n",
    "    else:\n",
    "        gscript.run_command('r.li.%s' %spatial_metric, overwrite=True,\n",
    "                    input=raster,config=configfile, output=filename)\n",
    "    return outputfile\n",
    "    \n",
    "def get_landscapelevel_metrics(configfile, raster, returnlistresult=True, ncores=2):\n",
    "    # Check if raster exists to avoid error in mutliprocessing \n",
    "    try:\n",
    "        mpset=raster.split(\"@\")[1]\n",
    "    except:\n",
    "        mpset=\"\"\n",
    "    if raster not in gscript.list_strings(type='raster',mapset=mpset):\n",
    "        sys.exit('Raster <%s> not found' %raster)\n",
    "    # Check if configfile exists to avoid error in mutliprocessing \n",
    "    if not os.path.exists(configfile):\n",
    "        sys.exit('Configuration file <%s> not found' %configfile)\n",
    "    # List of metrics to be computed\n",
    "    spatial_metric_list=[\"dominance\",\"pielou\",\"renyi\",\"richness\",\"shannon\",\"simpson\"]\n",
    "    # Check for number of cores doesnt exceed available\n",
    "    nbcpu=multiprocessing.cpu_count()\n",
    "    if ncores>=nbcpu:\n",
    "        ncores=nbcpu-1\n",
    "        if ncores>len(spatial_metric_list):\n",
    "            ncores=len(spatial_metric_list)  #Adapt number of cores to number of metrics to compute\n",
    "    #Declare empty list for return\n",
    "    returnlist=[] \n",
    "    # Create a new pool\n",
    "    p=Pool(ncores)\n",
    "    # Set the two fixed argument of the 'compute_landscapelevel_metrics' function\n",
    "    func=partial(compute_landscapelevel_metrics,configfile, raster)\n",
    "    # Launch the processes for as many items in the 'functions_name' list and get the ordered results using map function\n",
    "    returnlist=p.map(func,spatial_metric_list)\n",
    "    p.close()\n",
    "    p.join()\n",
    "    # Return list of paths to result files\n",
    "    if returnlistresult:\n",
    "        return returnlist"
   ]
  },
  {
   "cell_type": "markdown",
   "metadata": {},
   "source": [
    "### Function for computation of spatial metrics at class level (multiprocessed)"
   ]
  },
  {
   "cell_type": "code",
   "execution_count": 194,
   "metadata": {
    "collapsed": true
   },
   "outputs": [],
   "source": [
    "##### Function that compute different landscape metrics (spatial metrics) at class level. \n",
    "### The metric computed are \"patch number (patchnum)\",\"patch density (patchdensity)\",\"mean patch size(mps)\",\n",
    "### \"coefficient of variation of patch area (padcv)\",\"range of patch area size (padrange)\",\n",
    "### \"standard deviation of patch area (padsd)\", \"shape index (shape)\", \"edge density (edgedensity)\".\n",
    "### It is important to set the computation region before runing this script so that it match the extent of the 'raster' layer.\n",
    "# 'configfile' wait for the path (string) to the configuration file corresponding to the 'raster' layer.\n",
    "# 'raster' wait for the name (string) of the landcover map on which landscape metrics will be computed.\n",
    "# 'returnlistresult' wait for a boolean value (True/False) according to the fact that a list containing the path to the result files is desired.\n",
    "# 'ncores' wait for a integer corresponding to the number of desired cores to be used for parallelization.\n",
    "\n",
    "# Import libraries for multiprocessing \n",
    "import multiprocessing\n",
    "from multiprocessing import Pool\n",
    "from functools import partial   \n",
    "\n",
    "def compute_classlevel_metrics(configfile, raster, spatial_metric):\n",
    "    filename=raster.split(\"@\")[0]+\"_%s\" %spatial_metric\n",
    "    gscript.run_command('r.li.%s' %spatial_metric, overwrite=True,\n",
    "                        input=raster,config=configfile,output=filename)\n",
    "    outputfile=os.path.join(os.path.split(configfile)[0],\"output\",filename)\n",
    "    return outputfile\n",
    "    \n",
    "def get_classlevel_metrics(configfile, raster, returnlistresult=True, ncores=2):\n",
    "    # Check if raster exists to avoid error in mutliprocessing \n",
    "    try:\n",
    "        mpset=raster.split(\"@\")[1]\n",
    "    except:\n",
    "        mpset=\"\"\n",
    "    if raster not in [x.split(\"@\")[0] for x in gscript.list_strings(type='raster',mapset=mpset)]:\n",
    "        sys.exit('Raster <%s> not found' %raster)\n",
    "    # Check if configfile exists to avoid error in mutliprocessing \n",
    "    if not os.path.exists(configfile):\n",
    "        sys.exit('Configuration file <%s> not found' %configfile)\n",
    "    # List of metrics to be computed\n",
    "    spatial_metric_list=[\"patchnum\",\"patchdensity\",\"mps\",\"padcv\",\"padrange\",\"padsd\",\"shape\",\"edgedensity\"]\n",
    "    # Check for number of cores doesnt exceed available\n",
    "    nbcpu=multiprocessing.cpu_count()\n",
    "    if ncores>=nbcpu:\n",
    "        ncores=nbcpu-1\n",
    "        if ncores>len(spatial_metric_list):\n",
    "            ncores=len(spatial_metric_list)  #Adapt number of cores to number of metrics to compute\n",
    "    # Declare empty list for return\n",
    "    returnlist=[] \n",
    "    # Create a new pool\n",
    "    p=Pool(ncores)\n",
    "    # Set the two fixed argument of the 'compute_classlevel_metrics' function\n",
    "    func=partial(compute_classlevel_metrics,configfile, raster)\n",
    "    # Launch the processes for as many items in the 'functions_name' list and get the ordered results using map function\n",
    "    returnlist=p.map(func,spatial_metric_list)\n",
    "    p.close()\n",
    "    p.join()\n",
    "    # Return list of paths to result files\n",
    "    if returnlistresult:\n",
    "        return returnlist"
   ]
  },
  {
   "cell_type": "markdown",
   "metadata": {},
   "source": [
    "**-_-_-_-_-_-_-_-_-_-_-_-_-_-_-_-_-_-_-_-_-_-_-_-_-_-_-_-_-_-_-_-_-_-_-_-_-_-_-_-_-_-_-_-_-_-_-_-_-_-_-_-_-_-_-_-_-_-_-_-_-**"
   ]
  },
  {
   "cell_type": "markdown",
   "metadata": {},
   "source": [
    "<center> <font size=5> <h1>User inputs</h1> </font> </center> "
   ]
  },
  {
   "cell_type": "code",
   "execution_count": 195,
   "metadata": {
    "collapsed": true
   },
   "outputs": [],
   "source": [
    "## Define a empty dictionnary for saving user inputs\n",
    "user={}"
   ]
  },
  {
   "cell_type": "code",
   "execution_count": 196,
   "metadata": {
    "collapsed": true
   },
   "outputs": [],
   "source": [
    "## Enter the path to GRASSDATA folder\n",
    "user[\"gisdb\"] = \"/home/tais/Documents/GRASSDATA_Spie2017subset_Ouaga\"\n",
    "\n",
    "## Enter the name of the location (existing or for a new one)\n",
    "user[\"location\"] = \"SPIE_subset\"\n",
    "\n",
    "## Enter the EPSG code for this location \n",
    "user[\"locationepsg\"] = \"32630\"\n",
    "\n",
    "## Enter the name of the mapset to use for segmentation\n",
    "user[\"mapsetname\"] = \"test_rli\""
   ]
  },
  {
   "cell_type": "markdown",
   "metadata": {},
   "source": [
    "**-_-_-_-_-_-_-_-_-_-_-_-_-_-_-_-_-_-_-_-_-_-_-_-_-_-_-_-_-_-_-_-_-_-_-_-_-_-_-_-_-_-_-_-_-_-_-_-_-_-_-_-_-_-_-_-_-_-_-_-_-**"
   ]
  },
  {
   "cell_type": "markdown",
   "metadata": {
    "collapsed": true
   },
   "source": [
    "# Compute spatial metrics for deriving land use in street blocs"
   ]
  },
  {
   "cell_type": "markdown",
   "metadata": {
    "collapsed": true
   },
   "source": [
    "**Launch GRASS GIS working session**"
   ]
  },
  {
   "cell_type": "code",
   "execution_count": 197,
   "metadata": {
    "scrolled": false
   },
   "outputs": [
    {
     "name": "stdout",
     "output_type": "stream",
     "text": [
      "You are now working in mapset 'test_rli'\n"
     ]
    }
   ],
   "source": [
    "## Set the name of the mapset in which to work\n",
    "mapsetname=user[\"mapsetname\"]\n",
    "\n",
    "## Launch GRASS GIS working session in the mapset\n",
    "if os.path.exists(os.path.join(user[\"gisdb\"],user[\"location\"],mapsetname)):\n",
    "    gsetup.init(os.environ['GISBASE'], user[\"gisdb\"], user[\"location\"], mapsetname)\n",
    "    print \"You are now working in mapset '\"+mapsetname+\"'\" \n",
    "else: \n",
    "    print \"'\"+mapsetname+\"' mapset doesn't exists in \"+user[\"gisdb\"]"
   ]
  },
  {
   "cell_type": "markdown",
   "metadata": {
    "collapsed": true
   },
   "source": [
    "**Set the path to the r.li folder for configuration file and for results**"
   ]
  },
  {
   "cell_type": "code",
   "execution_count": 198,
   "metadata": {
    "scrolled": true
   },
   "outputs": [
    {
     "data": {
      "text/plain": [
       "{'MDMSESSION': 'mate', 'MANDATORY_PATH': '/usr/share/gconf/mate.mandatory.path', 'MATE_DESKTOP_SESSION_ID': 'this-is-deprecated', 'LESSOPEN': '| /usr/bin/lesspipe %s', 'MDM_LANG': 'fr_BE.UTF-8', 'LOGNAME': 'tais', 'USER': 'tais', 'HOME': '/home/tais', 'XDG_VTNR': '9', 'PATH': '/usr/local/bin:/home/tais/BIN:/home/tais/bin:/home/tais/.local/bin:/usr/local/sbin:/usr/local/bin:/usr/sbin:/usr/bin:/sbin:/bin:/usr/games:/usr/local/games:/home/tais/SRC/GRASS/grass_trunk/dist.x86_64-pc-linux-gnu/bin:/home/tais/SRC/GRASS/grass_trunk/dist.x86_64-pc-linux-gnu/script:/home/tais/SRC/GRASS/grass_trunk/dist.x86_64-pc-linux-gnu/lib:/home/tais/.grass7/addons:/home/tais/.grass7/addons/bin:/home/tais/.grass7/addons:/home/tais/.grass7/addons/scripts:/home/tais/SRC/GRASS/grass_trunk/dist.x86_64-pc-linux-gnu/bin:/home/tais/SRC/GRASS/grass_trunk/dist.x86_64-pc-linux-gnu/scripts:/home/tais/.grass7/addons/scripts:/home/tais/SRC/GRASS/grass_trunk/dist.x86_64-pc-linux-gnu/bin:/home/tais/SRC/GRASS/grass_trunk/dist.x86_64-pc-linux-gnu/script:/home/tais/SRC/GRASS/grass_trunk/dist.x86_64-pc-linux-gnu/lib:/home/tais/.grass7/addons:/home/tais/.grass7/addons/bin:/home/tais/.grass7/addons:/home/tais/.grass7/addons/scripts:/home/tais/SRC/GRASS/grass_trunk/dist.x86_64-pc-linux-gnu/bin:/home/tais/SRC/GRASS/grass_trunk/dist.x86_64-pc-linux-gnu/scripts:/home/tais/.grass7/addons/scripts:/home/tais/SRC/GRASS/grass_trunk/dist.x86_64-pc-linux-gnu/bin:/home/tais/SRC/GRASS/grass_trunk/dist.x86_64-pc-linux-gnu/script:/home/tais/SRC/GRASS/grass_trunk/dist.x86_64-pc-linux-gnu/lib:/home/tais/.grass7/addons:/home/tais/.grass7/addons/bin:/home/tais/.grass7/addons:/home/tais/.grass7/addons/scripts:/home/tais/SRC/GRASS/grass_trunk/dist.x86_64-pc-linux-gnu/bin:/home/tais/SRC/GRASS/grass_trunk/dist.x86_64-pc-linux-gnu/scripts:/home/tais/.grass7/addons/scripts', 'CLICOLOR': '1', 'DISPLAY': ':0.0', 'SSH_AGENT_PID': '5974', 'LANG': 'fr_BE.UTF-8', 'TERM': 'xterm-color', 'SHELL': '/bin/bash', 'GIS_LOCK': '981', 'XAUTHORITY': '/home/tais/.Xauthority', 'SESSION_MANAGER': 'local/tais-HP-Z620-Workstation:@/tmp/.ICE-unix/5837,unix/tais-HP-Z620-Workstation:/tmp/.ICE-unix/5837', 'SHLVL': '1', 'QT_LINUX_ACCESSIBILITY_ALWAYS_ON': '1', 'INSIDE_CAJA_PYTHON': '', 'QT_ACCESSIBILITY': '1', 'LD_LIBRARY_PATH': ':/home/tais/SRC/GRASS/grass_trunk/dist.x86_64-pc-linux-gnu/lib:/home/tais/SRC/GRASS/grass_trunk/dist.x86_64-pc-linux-gnu/lib:/home/tais/SRC/GRASS/grass_trunk/dist.x86_64-pc-linux-gnu/lib:/home/tais/SRC/GRASS/grass_trunk/dist.x86_64-pc-linux-gnu/lib:/home/tais/SRC/GRASS/grass_trunk/dist.x86_64-pc-linux-gnu/lib:/home/tais/SRC/GRASS/grass_trunk/dist.x86_64-pc-linux-gnu/lib', 'COMPIZ_CONFIG_PROFILE': 'mate', 'WINDOWPATH': '9', 'GTK_OVERLAY_SCROLLING': '0', 'PYTHONPATH': '/home/tais/SRC/GRASS/grass_trunk/dist.x86_64-pc-linux-gnu/etc/python:/home/tais/SRC/GRASS/grass_trunk/dist.x86_64-pc-linux-gnu/etc/python:/home/tais/SRC/GRASS/grass_trunk/dist.x86_64-pc-linux-gnu/etc/python::/home/tais/SRC/GRASS/grass_trunk/dist.x86_64-pc-linux-gnu/etc/python:/home/tais/SRC/GRASS/grass_trunk/dist.x86_64-pc-linux-gnu/etc/python/grass:/home/tais/SRC/GRASS/grass_trunk/dist.x86_64-pc-linux-gnu/etc/python/grass/script:/home/tais/SRC/GRASS/grass_trunk/dist.x86_64-pc-linux-gnu/etc/python:/home/tais/SRC/GRASS/grass_trunk/dist.x86_64-pc-linux-gnu/etc/python/grass:/home/tais/SRC/GRASS/grass_trunk/dist.x86_64-pc-linux-gnu/etc/python/grass/script:/home/tais/SRC/GRASS/grass_trunk/dist.x86_64-pc-linux-gnu/etc/python:/home/tais/SRC/GRASS/grass_trunk/dist.x86_64-pc-linux-gnu/etc/python/grass:/home/tais/SRC/GRASS/grass_trunk/dist.x86_64-pc-linux-gnu/etc/python/grass/script', 'GISBASE': '/home/tais/SRC/GRASS/grass_trunk/dist.x86_64-pc-linux-gnu', 'CLUTTER_BACKEND': 'x11', 'USERNAME': 'tais', 'XDG_SESSION_DESKTOP': 'mate', 'GDM_XSERVER_LOCATION': 'local', 'XDG_RUNTIME_DIR': '/run/user/1000', 'JPY_PARENT_PID': '856', 'QT_STYLE_OVERRIDE': 'gtk', 'SSH_AUTH_SOCK': '/run/user/1000/keyring/ssh', 'VTE_VERSION': '4205', 'GDMSESSION': 'mate', 'GISRC': '/tmp/tmp_iKkH4', 'GIT_PAGER': 'cat', 'XDG_CONFIG_DIRS': '/etc/xdg/xdg-mate:/etc/xdg', 'XDG_CURRENT_DESKTOP': 'MATE', 'XDG_SESSION_ID': 'c21', 'DBUS_SESSION_BUS_ADDRESS': 'unix:abstract=/tmp/dbus-oiw1S789SI,guid=e626cdc47bce079de737e4fe5a3fcda7', '_': '/usr/local/bin/jupyter', 'XDG_SESSION_COOKIE': '8441891e86e24d76b9616edf516d5734-1514130855.90561-444848216', 'DESKTOP_SESSION': 'mate', 'WINDOWID': '56623278', 'LESSCLOSE': '/usr/bin/lesspipe %s %s', 'DEFAULTS_PATH': '/usr/share/gconf/mate.default.path', 'MPLBACKEND': 'module://ipykernel.pylab.backend_inline', 'MDM_XSERVER_LOCATION': 'local', 'GTK_MODULES': 'gail:atk-bridge', 'XDG_DATA_DIRS': '/usr/share/mate:/usr/local/share/:/usr/share/:/usr/share/mdm/', 'PWD': '/media/tais/data/Dropbox/ULB/MAUPP/Traitements/Landscape_metrics/r.li/Landuse_mapping', 'GRASS_ADDON_BASE': '/home/tais/.grass7/addons', 'COLORTERM': 'mate-terminal', 'PYTHONLIB': '/usr/lib/python2.7', 'LS_COLORS': 'rs=0:di=01;34:ln=01;36:mh=00:pi=40;33:so=01;35:do=01;35:bd=40;33;01:cd=40;33;01:or=40;31;01:mi=00:su=37;41:sg=30;43:ca=30;41:tw=30;42:ow=34;42:st=37;44:ex=01;32:*.tar=01;31:*.tgz=01;31:*.arc=01;31:*.arj=01;31:*.taz=01;31:*.lha=01;31:*.lz4=01;31:*.lzh=01;31:*.lzma=01;31:*.tlz=01;31:*.txz=01;31:*.tzo=01;31:*.t7z=01;31:*.zip=01;31:*.z=01;31:*.Z=01;31:*.dz=01;31:*.gz=01;31:*.lrz=01;31:*.lz=01;31:*.lzo=01;31:*.xz=01;31:*.bz2=01;31:*.bz=01;31:*.tbz=01;31:*.tbz2=01;31:*.tz=01;31:*.deb=01;31:*.rpm=01;31:*.jar=01;31:*.war=01;31:*.ear=01;31:*.sar=01;31:*.rar=01;31:*.alz=01;31:*.ace=01;31:*.zoo=01;31:*.cpio=01;31:*.7z=01;31:*.rz=01;31:*.cab=01;31:*.jpg=01;35:*.jpeg=01;35:*.gif=01;35:*.bmp=01;35:*.pbm=01;35:*.pgm=01;35:*.ppm=01;35:*.tga=01;35:*.xbm=01;35:*.xpm=01;35:*.tif=01;35:*.tiff=01;35:*.png=01;35:*.svg=01;35:*.svgz=01;35:*.mng=01;35:*.pcx=01;35:*.mov=01;35:*.mpg=01;35:*.mpeg=01;35:*.m2v=01;35:*.mkv=01;35:*.webm=01;35:*.ogm=01;35:*.mp4=01;35:*.m4v=01;35:*.mp4v=01;35:*.vob=01;35:*.qt=01;35:*.nuv=01;35:*.wmv=01;35:*.asf=01;35:*.rm=01;35:*.rmvb=01;35:*.flc=01;35:*.avi=01;35:*.fli=01;35:*.flv=01;35:*.gl=01;35:*.dl=01;35:*.xcf=01;35:*.xwd=01;35:*.yuv=01;35:*.cgm=01;35:*.emf=01;35:*.ogv=01;35:*.ogx=01;35:*.aac=00;36:*.au=00;36:*.flac=00;36:*.m4a=00;36:*.mid=00;36:*.midi=00;36:*.mka=00;36:*.mp3=00;36:*.mpc=00;36:*.ogg=00;36:*.ra=00;36:*.wav=00;36:*.oga=00;36:*.opus=00;36:*.spx=00;36:*.xspf=00;36:', 'PAGER': 'cat', 'GRASS_PYTHON': 'python', 'XDG_SEAT': 'seat0'}"
      ]
     },
     "execution_count": 198,
     "metadata": {},
     "output_type": "execute_result"
    }
   ],
   "source": [
    "os.environ"
   ]
  },
  {
   "cell_type": "code",
   "execution_count": 200,
   "metadata": {},
   "outputs": [
    {
     "name": "stdout",
     "output_type": "stream",
     "text": [
      "GRASS GIS add-on's r.li configuration files will be saved under </home/tais/.grass7/r.li>.\n",
      "GRASS GIS add-on's r.li outputs will be saved under </home/tais/.grass7/r.li/output>.\n"
     ]
    }
   ],
   "source": [
    "# Define path of the outputfile (in r.li folder)\n",
    "version=grass.version()['version'].split('.')[0] # Get the version of GRASS GIS \n",
    "if sys.platform==\"win32\":\n",
    "    rli_config_dir=os.path.join(os.environ['APPDATA'],\"GRASS\"+version,\"r.li\")\n",
    "    rli_output_dir=os.path.join(os.environ['APPDATA'],\"GRASS\"+version,\"r.li\",\"output\")\n",
    "else: \n",
    "    rli_config_dir=os.path.join(os.environ['HOME'],\".grass\"+version,\"r.li\")\n",
    "    rli_output_dir=os.path.join(os.environ['HOME'],\".grass\"+version,\"r.li\",\"output\")\n",
    "if not os.path.exists(rli_config_dir):\n",
    "    os.makedirs(rli_config_dir)\n",
    "if not os.path.exists(rli_output_dir):\n",
    "    os.makedirs(rli_output_dir)\n",
    "# Print\n",
    "print \"GRASS GIS add-on's r.li configuration files will be saved under <%s>.\"%(rli_config_dir,)\n",
    "print \"GRASS GIS add-on's r.li outputs will be saved under <%s>.\"%(rli_output_dir,)"
   ]
  },
  {
   "cell_type": "markdown",
   "metadata": {},
   "source": [
    "**-_-_-_-_-_-_-_-_-_-_-_-_-_-_-_-_-_-_-_-_-_-_-_-_-_-_-_-_-_-_-_-_-_-_-_-_-_-_-_-_-_-_-_-_-_-_-_-_-_-_-_-_-_-_-_-_-_-_-_-_-**"
   ]
  },
  {
   "cell_type": "markdown",
   "metadata": {
    "collapsed": true
   },
   "source": [
    "### Define the name of the base landcover map and landscape units polygons"
   ]
  },
  {
   "cell_type": "code",
   "execution_count": 201,
   "metadata": {
    "collapsed": true
   },
   "outputs": [],
   "source": [
    "# Set the name of the 'base' landcover map\n",
    "baselandcoverraster=\"classif@test_rli\"\n",
    "# Set the name of the vector polygon layer containing the landscape units\n",
    "landscape_polygons=\"streetblocks\""
   ]
  },
  {
   "cell_type": "markdown",
   "metadata": {},
   "source": [
    "### Import shapefile containing street blocks polygons"
   ]
  },
  {
   "cell_type": "code",
   "execution_count": 202,
   "metadata": {
    "collapsed": true
   },
   "outputs": [],
   "source": [
    "# Set the path to the shapefile containing streetblocks polygons\n",
    "pathtoshp=\"/media/tais/data/Dropbox/ULB/MAUPP/Landuse_mapping/Test_spatial_metrics_computation/Data/streetblocks_subset.shp\""
   ]
  },
  {
   "cell_type": "code",
   "execution_count": 203,
   "metadata": {},
   "outputs": [
    {
     "data": {
      "text/plain": [
       "0"
      ]
     },
     "execution_count": 203,
     "metadata": {},
     "output_type": "execute_result"
    }
   ],
   "source": [
    "# Import shapefile\n",
    "gscript.run_command('v.in.ogr', quiet=True, overwrite=True, input=pathtoshp, output=landscape_polygons)"
   ]
  },
  {
   "cell_type": "markdown",
   "metadata": {
    "collapsed": true
   },
   "source": [
    "### Create binary rasters from the base landcover map"
   ]
  },
  {
   "cell_type": "code",
   "execution_count": 204,
   "metadata": {},
   "outputs": [
    {
     "data": {
      "text/plain": [
       "'Extraction of binary rasters achieved in 4.3 seconds'"
      ]
     },
     "execution_count": 204,
     "metadata": {},
     "output_type": "execute_result"
    }
   ],
   "source": [
    "# Save time for computing processin time\n",
    "begintime=time.time()\n",
    "\n",
    "# Create as many binary raster layer as categorical values existing in the base landcover map\n",
    "gscript.run_command('g.region', raster=baselandcoverraster, quiet=True) #Set the region\n",
    "pref=baselandcoverraster.split(\"@\")[0]+\"_cl\"  #Set the prefix\n",
    "\n",
    "raster_list=[]  # Initialize a empty list for results\n",
    "raster_list=create_binary_raster(baselandcoverraster,\n",
    "                                 prefix=pref,setnull=True,returnlistraster=True,\n",
    "                                 category_list=None,ncores=15)  #Extract binary raster \n",
    "\n",
    "# Compute and print processing time\n",
    "print_processing_time(begintime,\"Extraction of binary rasters achieved in \")"
   ]
  },
  {
   "cell_type": "code",
   "execution_count": 205,
   "metadata": {
    "scrolled": false
   },
   "outputs": [
    {
     "data": {
      "text/plain": [
       "['classif@test_rli',\n",
       " 'classif_cl_11',\n",
       " 'classif_cl_13',\n",
       " 'classif_cl_14',\n",
       " 'classif_cl_20',\n",
       " 'classif_cl_30',\n",
       " 'classif_cl_31',\n",
       " 'classif_cl_41',\n",
       " 'classif_cl_51']"
      ]
     },
     "execution_count": 205,
     "metadata": {},
     "output_type": "execute_result"
    }
   ],
   "source": [
    "# Insert the name of the base landcover map at first position in the list\n",
    "raster_list.insert(0,baselandcoverraster)\n",
    "# Display the raster to be used for landscape analysis\n",
    "raster_list"
   ]
  },
  {
   "cell_type": "markdown",
   "metadata": {
    "collapsed": true
   },
   "source": [
    "## Create r.li configuration file for a list of landcover rasters"
   ]
  },
  {
   "cell_type": "code",
   "execution_count": 206,
   "metadata": {
    "scrolled": true
   },
   "outputs": [
    {
     "data": {
      "text/plain": [
       "'Creation of r.li configuration files achieved in 3 minutes and 32.1 seconds'"
      ]
     },
     "execution_count": 206,
     "metadata": {},
     "output_type": "execute_result"
    }
   ],
   "source": [
    "# Save time for computing processin time\n",
    "begintime=time.time()\n",
    "# Run creation of r.li configuration file and associated raster layers\n",
    "list_cats,list_configfile=create_rli_configfile(raster_list,landscape_polygons,masklayerhardcopy=False,returnlistpath=True,ncores=20)\n",
    "# Compute and print processing time\n",
    "print_processing_time(begintime,\"Creation of r.li configuration files achieved in \")"
   ]
  },
  {
   "cell_type": "code",
   "execution_count": 207,
   "metadata": {
    "scrolled": false
   },
   "outputs": [
    {
     "data": {
      "text/plain": [
       "[u'/home/tais/.grass7/r.li/classif_streetblocks',\n",
       " u'/home/tais/.grass7/r.li/classif_cl_11_streetblocks',\n",
       " u'/home/tais/.grass7/r.li/classif_cl_13_streetblocks',\n",
       " u'/home/tais/.grass7/r.li/classif_cl_14_streetblocks',\n",
       " u'/home/tais/.grass7/r.li/classif_cl_20_streetblocks',\n",
       " u'/home/tais/.grass7/r.li/classif_cl_30_streetblocks',\n",
       " u'/home/tais/.grass7/r.li/classif_cl_31_streetblocks',\n",
       " u'/home/tais/.grass7/r.li/classif_cl_41_streetblocks',\n",
       " u'/home/tais/.grass7/r.li/classif_cl_51_streetblocks']"
      ]
     },
     "execution_count": 207,
     "metadata": {},
     "output_type": "execute_result"
    }
   ],
   "source": [
    "# Display the path to the configuration files created\n",
    "list_configfile"
   ]
  },
  {
   "cell_type": "markdown",
   "metadata": {},
   "source": [
    "**-_-_-_-_-_-_-_-_-_-_-_-_-_-_-_-_-_-_-_-_-_-_-_-_-_-_-_-_-_-_-_-_-_-_-_-_-_-_-_-_-_-_-_-_-_-_-_-_-_-_-_-_-_-_-_-_-_-_-_-_-**"
   ]
  },
  {
   "cell_type": "markdown",
   "metadata": {
    "collapsed": true
   },
   "source": [
    "## Compute spatial metrics at landscape level"
   ]
  },
  {
   "cell_type": "code",
   "execution_count": 208,
   "metadata": {
    "collapsed": true
   },
   "outputs": [],
   "source": [
    "# Initialize an empty list which will contains the resultfiles \n",
    "resultfiles=[]"
   ]
  },
  {
   "cell_type": "code",
   "execution_count": 209,
   "metadata": {
    "scrolled": true
   },
   "outputs": [
    {
     "data": {
      "text/plain": [
       "'Computation of spatial metric achieved in 42.6 seconds'"
      ]
     },
     "execution_count": 209,
     "metadata": {},
     "output_type": "execute_result"
    }
   ],
   "source": [
    "# Save time for computing processin time\n",
    "begintime=time.time()\n",
    "# Get the path to the configuration file for the base landcover raster\n",
    "currentconfigfile=list_configfile[0]\n",
    "# Get the name of the base landcover raster\n",
    "currentraster=raster_list[0]\n",
    "# Set the region to match the extent of the base raster\n",
    "gscript.run_command('g.region', raster=currentraster, quiet=True)\n",
    "# Launch the processes for as many items in the 'functions_name' list and get the ordered results using map function\n",
    "resultfiles.append(get_landscapelevel_metrics(currentconfigfile, currentraster, returnlistresult=True, ncores=15))\n",
    "# Compute and print processing time\n",
    "print_processing_time(begintime,\"Computation of spatial metric achieved in \")"
   ]
  },
  {
   "cell_type": "code",
   "execution_count": 210,
   "metadata": {
    "scrolled": true
   },
   "outputs": [
    {
     "data": {
      "text/plain": [
       "[[u'/home/tais/.grass7/r.li/output/classif_dominance',\n",
       "  u'/home/tais/.grass7/r.li/output/classif_pielou',\n",
       "  u'/home/tais/.grass7/r.li/output/classif_renyi',\n",
       "  u'/home/tais/.grass7/r.li/output/classif_richness',\n",
       "  u'/home/tais/.grass7/r.li/output/classif_shannon',\n",
       "  u'/home/tais/.grass7/r.li/output/classif_simpson']]"
      ]
     },
     "execution_count": 210,
     "metadata": {},
     "output_type": "execute_result"
    }
   ],
   "source": [
    "resultfiles"
   ]
  },
  {
   "cell_type": "markdown",
   "metadata": {
    "collapsed": true
   },
   "source": [
    "## Compute spatial metrics at class level"
   ]
  },
  {
   "cell_type": "code",
   "execution_count": 211,
   "metadata": {},
   "outputs": [
    {
     "data": {
      "text/plain": [
       "'Computation of spatial metric achieved in 5 minutes and 57.6 seconds'"
      ]
     },
     "execution_count": 211,
     "metadata": {},
     "output_type": "execute_result"
    }
   ],
   "source": [
    "# Save time for computing processin time\n",
    "begintime=time.time()\n",
    "# Get a list with paths to the configuration file for class level metrics\n",
    "classlevelconfigfiles=list_configfile[1:]\n",
    "# Get a list with name of binary landcover raster for class level metrics\n",
    "classlevelrasters=raster_list[1:]\n",
    "\n",
    "for x,currentraster in enumerate(classlevelrasters[:]):\n",
    "    # Get the path to the configuration file for the base landcover raster\n",
    "    currentconfigfile=classlevelconfigfiles[x]\n",
    "    # Set the region to match the extent of the base raster\n",
    "    gscript.run_command('g.region', raster=currentraster, quiet=True)\n",
    "    # Launch the processes for as many items in the 'functions_name' list and get the ordered results using map function\n",
    "    resultfiles.append(get_classlevel_metrics(currentconfigfile, currentraster, returnlistresult=True, ncores=10))\n",
    "\n",
    "# Compute and print processing time\n",
    "print_processing_time(begintime,\"Computation of spatial metric achieved in \")"
   ]
  },
  {
   "cell_type": "code",
   "execution_count": 212,
   "metadata": {
    "scrolled": true
   },
   "outputs": [
    {
     "data": {
      "text/plain": [
       "[[u'/home/tais/.grass7/r.li/output/classif_dominance',\n",
       "  u'/home/tais/.grass7/r.li/output/classif_pielou',\n",
       "  u'/home/tais/.grass7/r.li/output/classif_renyi',\n",
       "  u'/home/tais/.grass7/r.li/output/classif_richness',\n",
       "  u'/home/tais/.grass7/r.li/output/classif_shannon',\n",
       "  u'/home/tais/.grass7/r.li/output/classif_simpson'],\n",
       " [u'/home/tais/.grass7/r.li/output/classif_cl_11_patchnum',\n",
       "  u'/home/tais/.grass7/r.li/output/classif_cl_11_patchdensity',\n",
       "  u'/home/tais/.grass7/r.li/output/classif_cl_11_mps',\n",
       "  u'/home/tais/.grass7/r.li/output/classif_cl_11_padcv',\n",
       "  u'/home/tais/.grass7/r.li/output/classif_cl_11_padrange',\n",
       "  u'/home/tais/.grass7/r.li/output/classif_cl_11_padsd',\n",
       "  u'/home/tais/.grass7/r.li/output/classif_cl_11_shape',\n",
       "  u'/home/tais/.grass7/r.li/output/classif_cl_11_edgedensity'],\n",
       " [u'/home/tais/.grass7/r.li/output/classif_cl_13_patchnum',\n",
       "  u'/home/tais/.grass7/r.li/output/classif_cl_13_patchdensity',\n",
       "  u'/home/tais/.grass7/r.li/output/classif_cl_13_mps',\n",
       "  u'/home/tais/.grass7/r.li/output/classif_cl_13_padcv',\n",
       "  u'/home/tais/.grass7/r.li/output/classif_cl_13_padrange',\n",
       "  u'/home/tais/.grass7/r.li/output/classif_cl_13_padsd',\n",
       "  u'/home/tais/.grass7/r.li/output/classif_cl_13_shape',\n",
       "  u'/home/tais/.grass7/r.li/output/classif_cl_13_edgedensity'],\n",
       " [u'/home/tais/.grass7/r.li/output/classif_cl_14_patchnum',\n",
       "  u'/home/tais/.grass7/r.li/output/classif_cl_14_patchdensity',\n",
       "  u'/home/tais/.grass7/r.li/output/classif_cl_14_mps',\n",
       "  u'/home/tais/.grass7/r.li/output/classif_cl_14_padcv',\n",
       "  u'/home/tais/.grass7/r.li/output/classif_cl_14_padrange',\n",
       "  u'/home/tais/.grass7/r.li/output/classif_cl_14_padsd',\n",
       "  u'/home/tais/.grass7/r.li/output/classif_cl_14_shape',\n",
       "  u'/home/tais/.grass7/r.li/output/classif_cl_14_edgedensity'],\n",
       " [u'/home/tais/.grass7/r.li/output/classif_cl_20_patchnum',\n",
       "  u'/home/tais/.grass7/r.li/output/classif_cl_20_patchdensity',\n",
       "  u'/home/tais/.grass7/r.li/output/classif_cl_20_mps',\n",
       "  u'/home/tais/.grass7/r.li/output/classif_cl_20_padcv',\n",
       "  u'/home/tais/.grass7/r.li/output/classif_cl_20_padrange',\n",
       "  u'/home/tais/.grass7/r.li/output/classif_cl_20_padsd',\n",
       "  u'/home/tais/.grass7/r.li/output/classif_cl_20_shape',\n",
       "  u'/home/tais/.grass7/r.li/output/classif_cl_20_edgedensity'],\n",
       " [u'/home/tais/.grass7/r.li/output/classif_cl_30_patchnum',\n",
       "  u'/home/tais/.grass7/r.li/output/classif_cl_30_patchdensity',\n",
       "  u'/home/tais/.grass7/r.li/output/classif_cl_30_mps',\n",
       "  u'/home/tais/.grass7/r.li/output/classif_cl_30_padcv',\n",
       "  u'/home/tais/.grass7/r.li/output/classif_cl_30_padrange',\n",
       "  u'/home/tais/.grass7/r.li/output/classif_cl_30_padsd',\n",
       "  u'/home/tais/.grass7/r.li/output/classif_cl_30_shape',\n",
       "  u'/home/tais/.grass7/r.li/output/classif_cl_30_edgedensity'],\n",
       " [u'/home/tais/.grass7/r.li/output/classif_cl_31_patchnum',\n",
       "  u'/home/tais/.grass7/r.li/output/classif_cl_31_patchdensity',\n",
       "  u'/home/tais/.grass7/r.li/output/classif_cl_31_mps',\n",
       "  u'/home/tais/.grass7/r.li/output/classif_cl_31_padcv',\n",
       "  u'/home/tais/.grass7/r.li/output/classif_cl_31_padrange',\n",
       "  u'/home/tais/.grass7/r.li/output/classif_cl_31_padsd',\n",
       "  u'/home/tais/.grass7/r.li/output/classif_cl_31_shape',\n",
       "  u'/home/tais/.grass7/r.li/output/classif_cl_31_edgedensity'],\n",
       " [u'/home/tais/.grass7/r.li/output/classif_cl_41_patchnum',\n",
       "  u'/home/tais/.grass7/r.li/output/classif_cl_41_patchdensity',\n",
       "  u'/home/tais/.grass7/r.li/output/classif_cl_41_mps',\n",
       "  u'/home/tais/.grass7/r.li/output/classif_cl_41_padcv',\n",
       "  u'/home/tais/.grass7/r.li/output/classif_cl_41_padrange',\n",
       "  u'/home/tais/.grass7/r.li/output/classif_cl_41_padsd',\n",
       "  u'/home/tais/.grass7/r.li/output/classif_cl_41_shape',\n",
       "  u'/home/tais/.grass7/r.li/output/classif_cl_41_edgedensity'],\n",
       " [u'/home/tais/.grass7/r.li/output/classif_cl_51_patchnum',\n",
       "  u'/home/tais/.grass7/r.li/output/classif_cl_51_patchdensity',\n",
       "  u'/home/tais/.grass7/r.li/output/classif_cl_51_mps',\n",
       "  u'/home/tais/.grass7/r.li/output/classif_cl_51_padcv',\n",
       "  u'/home/tais/.grass7/r.li/output/classif_cl_51_padrange',\n",
       "  u'/home/tais/.grass7/r.li/output/classif_cl_51_padsd',\n",
       "  u'/home/tais/.grass7/r.li/output/classif_cl_51_shape',\n",
       "  u'/home/tais/.grass7/r.li/output/classif_cl_51_edgedensity']]"
      ]
     },
     "execution_count": 212,
     "metadata": {},
     "output_type": "execute_result"
    }
   ],
   "source": [
    "resultfiles"
   ]
  },
  {
   "cell_type": "markdown",
   "metadata": {
    "collapsed": true
   },
   "source": [
    "### Change the results files from r.li to get the correct 'cat' value for each landscape unit"
   ]
  },
  {
   "cell_type": "code",
   "execution_count": 215,
   "metadata": {},
   "outputs": [],
   "source": [
    "import csv, shutil\n",
    "from itertools import izip\n",
    "\n",
    "for f in resultfiles:\n",
    "    f_in=open(f)\n",
    "    f_tmp=open(f+'_tmp',\"w\")\n",
    "    f_in_reader=csv.reader(f_in,delimiter='|')\n",
    "    f_tmp_writer=csv.writer(f_tmp,delimiter='|')\n",
    "    f_tmp_writer.writerow(['cat',\"_\".join(os.path.split(f)[-1].split(\"_\")[1:])])\n",
    "    for i,row in enumerate(f_in_reader):\n",
    "        newrow=[]\n",
    "        try:\n",
    "            newrow.append(list_cats[i])\n",
    "            newrow.append(row[1])\n",
    "            f_tmp_writer.writerow(newrow)\n",
    "        except:\n",
    "            continue\n",
    "    f_in.close()\n",
    "    f_tmp.close()\n",
    "    os.remove(f)\n",
    "    shutil.copy2(f+'_tmp',f)\n",
    "    os.remove(f+'_tmp')"
   ]
  },
  {
   "cell_type": "markdown",
   "metadata": {
    "collapsed": true
   },
   "source": [
    "# Compute some special metrics"
   ]
  },
  {
   "cell_type": "markdown",
   "metadata": {
    "collapsed": true
   },
   "source": [
    "### Creating a raster layer of landscape units"
   ]
  },
  {
   "cell_type": "markdown",
   "metadata": {},
   "source": [
    "Creating a raster layer of landscape units with resolution corresponding to the one of land cover raster"
   ]
  },
  {
   "cell_type": "code",
   "execution_count": 216,
   "metadata": {},
   "outputs": [
    {
     "data": {
      "text/plain": [
       "0"
      ]
     },
     "execution_count": 216,
     "metadata": {},
     "output_type": "execute_result"
    }
   ],
   "source": [
    "# Create a raster corresponding to the landscape units (for computing statistics using i.segment.stats)\n",
    "gscript.run_command('g.region', raster=baselandcoverraster, quiet=True) #Set the region\n",
    "raster_landscapeunits=\"temp_%s\"%landscape_polygons.split(\"@\")[0]\n",
    "gscript.run_command('v.to.rast', overwrite=True, input=landscape_polygons, output=raster_landscapeunits, use='cat') "
   ]
  },
  {
   "cell_type": "markdown",
   "metadata": {
    "collapsed": true
   },
   "source": [
    "### Shape statistics for the landscape units"
   ]
  },
  {
   "cell_type": "code",
   "execution_count": 169,
   "metadata": {
    "collapsed": true
   },
   "outputs": [],
   "source": [
    "# Set the path to the file for i.segment.stats results for landscape units shape metrics\n",
    "landscape_units_shape_metrics=os.path.join(rli_output_dir,\"landscape_units_shape_metrics\")"
   ]
  },
  {
   "cell_type": "code",
   "execution_count": 170,
   "metadata": {
    "scrolled": true
   },
   "outputs": [
    {
     "data": {
      "text/plain": [
       "'Metrics computed in 1.3 seconds'"
      ]
     },
     "execution_count": 170,
     "metadata": {},
     "output_type": "execute_result"
    }
   ],
   "source": [
    "# Save time for computing processin time\n",
    "begintime=time.time()\n",
    "# Run i.segment.stats\n",
    "gscript.run_command('i.segment.stats', overwrite=True, map=raster_landscapeunits,\n",
    "                    area_measures='area,perimeter,compact_circle,compact_square,fd',\n",
    "                    csvfile=landscape_units_shape_metrics,\n",
    "                    processes='1')\n",
    "\n",
    "# Compute and print processing time\n",
    "print_processing_time(begintime,\"Metrics computed in \")"
   ]
  },
  {
   "cell_type": "code",
   "execution_count": 171,
   "metadata": {},
   "outputs": [],
   "source": [
    "resultfiles.append(landscape_units_shape_metrics)"
   ]
  },
  {
   "cell_type": "markdown",
   "metadata": {
    "collapsed": true
   },
   "source": [
    "### Mean and standard deviation of SAR textures, NDVI, NDWI"
   ]
  },
  {
   "cell_type": "code",
   "execution_count": 172,
   "metadata": {
    "collapsed": true
   },
   "outputs": [],
   "source": [
    "# Set the name of the nDSM layer\n",
    "ndsm=\"ndsm\"\n",
    "# Set the name of the NDVI layer\n",
    "ndvi=\"ndvi\"\n",
    "# Set the name of the NDWI layer\n",
    "ndwi=\"ndwi\"\n",
    "# Set the prefix of SAR textures layer\n",
    "SAR_prefix=\"SAR_w\""
   ]
  },
  {
   "cell_type": "code",
   "execution_count": 173,
   "metadata": {
    "scrolled": false
   },
   "outputs": [
    {
     "name": "stdout",
     "output_type": "stream",
     "text": [
      "Layer to be used :\n",
      "\n",
      "ndvi\n",
      "ndwi\n",
      "SAR_w11.1@PERMANENT\n",
      "SAR_w11.2@PERMANENT\n",
      "SAR_w11.3@PERMANENT\n",
      "SAR_w11.4@PERMANENT\n",
      "SAR_w11.5@PERMANENT\n",
      "SAR_w11.6@PERMANENT\n",
      "SAR_w11.7@PERMANENT\n",
      "SAR_w7.1@PERMANENT\n",
      "SAR_w7.2@PERMANENT\n",
      "SAR_w7.3@PERMANENT\n",
      "SAR_w7.4@PERMANENT\n",
      "SAR_w7.5@PERMANENT\n",
      "SAR_w7.6@PERMANENT\n",
      "SAR_w7.7@PERMANENT\n"
     ]
    }
   ],
   "source": [
    "# Set up a list with name of raster layer to be used\n",
    "ancillarylayers=[]\n",
    "ancillarylayers.append(ndvi)\n",
    "ancillarylayers.append(ndwi)\n",
    "[ancillarylayers.append(x) for x in gscript.list_strings(\"rast\", pattern=SAR_prefix, flag='r')] #Append SAR textures\n",
    "print \"Layer to be used :\\n\\n\"+'\\n'.join(ancillarylayers)"
   ]
  },
  {
   "cell_type": "code",
   "execution_count": 174,
   "metadata": {
    "collapsed": true
   },
   "outputs": [],
   "source": [
    "# Set the path to the file for i.segment.stats results for metrics_ndvi_ndwi_sar\n",
    "metrics_ndvi_ndwi_sar=os.path.join(rli_output_dir,\"metrics_ndvi_ndwi_sar\")"
   ]
  },
  {
   "cell_type": "code",
   "execution_count": 175,
   "metadata": {
    "scrolled": true
   },
   "outputs": [
    {
     "data": {
      "text/plain": [
       "'Metrics computed in 10.9 seconds'"
      ]
     },
     "execution_count": 175,
     "metadata": {},
     "output_type": "execute_result"
    }
   ],
   "source": [
    "# Save time for computing processin time\n",
    "begintime=time.time()\n",
    "###### Compute shape metrics as well as mean and stddev of ancillary layers for each landscape unit\n",
    "## Set number of cores to be used\n",
    "ncores=len(ancillarylayers) \n",
    "nbcpu=multiprocessing.cpu_count()\n",
    "if ncores>=nbcpu:\n",
    "    ncores=nbcpu-1\n",
    "    if ncores>len(ancillarylayers):\n",
    "        ncores=len(ancillarylayers)  #Adapt number of cores to number of metrics to compute\n",
    "# Run i.segment.stats\n",
    "gscript.run_command('i.segment.stats', overwrite=True, map=raster_landscapeunits,\n",
    "                    raster_statistics='stddev,median',\n",
    "                    rasters=','.join(ancillarylayers),\n",
    "                    csvfile=metrics_ndvi_ndwi_sar,\n",
    "                    processes=ncores,\n",
    "                    flags='s')\n",
    "\n",
    "# Compute and print processing time\n",
    "print_processing_time(begintime,\"Metrics computed in \")"
   ]
  },
  {
   "cell_type": "code",
   "execution_count": 176,
   "metadata": {
    "collapsed": true
   },
   "outputs": [],
   "source": [
    "resultfiles.append(metrics_ndvi_ndwi_sar)"
   ]
  },
  {
   "cell_type": "code",
   "execution_count": 177,
   "metadata": {
    "scrolled": true
   },
   "outputs": [
    {
     "data": {
      "text/plain": [
       "[u'/home/tais/.grass7/r.li/output/classif_dominance',\n",
       " u'/home/tais/.grass7/r.li/output/classif_pielou',\n",
       " u'/home/tais/.grass7/r.li/output/classif_renyi',\n",
       " u'/home/tais/.grass7/r.li/output/classif_richness',\n",
       " u'/home/tais/.grass7/r.li/output/classif_shannon',\n",
       " u'/home/tais/.grass7/r.li/output/classif_simpson',\n",
       " u'/home/tais/.grass7/r.li/output/classif_cl_11_patchnum',\n",
       " u'/home/tais/.grass7/r.li/output/classif_cl_11_patchdensity',\n",
       " u'/home/tais/.grass7/r.li/output/classif_cl_11_mps',\n",
       " u'/home/tais/.grass7/r.li/output/classif_cl_11_padcv',\n",
       " u'/home/tais/.grass7/r.li/output/classif_cl_11_padrange',\n",
       " u'/home/tais/.grass7/r.li/output/classif_cl_11_padsd',\n",
       " u'/home/tais/.grass7/r.li/output/classif_cl_11_shape',\n",
       " u'/home/tais/.grass7/r.li/output/classif_cl_11_edgedensity',\n",
       " u'/home/tais/.grass7/r.li/output/classif_cl_13_patchnum',\n",
       " u'/home/tais/.grass7/r.li/output/classif_cl_13_patchdensity',\n",
       " u'/home/tais/.grass7/r.li/output/classif_cl_13_mps',\n",
       " u'/home/tais/.grass7/r.li/output/classif_cl_13_padcv',\n",
       " u'/home/tais/.grass7/r.li/output/classif_cl_13_padrange',\n",
       " u'/home/tais/.grass7/r.li/output/classif_cl_13_padsd',\n",
       " u'/home/tais/.grass7/r.li/output/classif_cl_13_shape',\n",
       " u'/home/tais/.grass7/r.li/output/classif_cl_13_edgedensity',\n",
       " u'/home/tais/.grass7/r.li/output/classif_cl_14_patchnum',\n",
       " u'/home/tais/.grass7/r.li/output/classif_cl_14_patchdensity',\n",
       " u'/home/tais/.grass7/r.li/output/classif_cl_14_mps',\n",
       " u'/home/tais/.grass7/r.li/output/classif_cl_14_padcv',\n",
       " u'/home/tais/.grass7/r.li/output/classif_cl_14_padrange',\n",
       " u'/home/tais/.grass7/r.li/output/classif_cl_14_padsd',\n",
       " u'/home/tais/.grass7/r.li/output/classif_cl_14_shape',\n",
       " u'/home/tais/.grass7/r.li/output/classif_cl_14_edgedensity',\n",
       " u'/home/tais/.grass7/r.li/output/classif_cl_20_patchnum',\n",
       " u'/home/tais/.grass7/r.li/output/classif_cl_20_patchdensity',\n",
       " u'/home/tais/.grass7/r.li/output/classif_cl_20_mps',\n",
       " u'/home/tais/.grass7/r.li/output/classif_cl_20_padcv',\n",
       " u'/home/tais/.grass7/r.li/output/classif_cl_20_padrange',\n",
       " u'/home/tais/.grass7/r.li/output/classif_cl_20_padsd',\n",
       " u'/home/tais/.grass7/r.li/output/classif_cl_20_shape',\n",
       " u'/home/tais/.grass7/r.li/output/classif_cl_20_edgedensity',\n",
       " u'/home/tais/.grass7/r.li/output/classif_cl_30_patchnum',\n",
       " u'/home/tais/.grass7/r.li/output/classif_cl_30_patchdensity',\n",
       " u'/home/tais/.grass7/r.li/output/classif_cl_30_mps',\n",
       " u'/home/tais/.grass7/r.li/output/classif_cl_30_padcv',\n",
       " u'/home/tais/.grass7/r.li/output/classif_cl_30_padrange',\n",
       " u'/home/tais/.grass7/r.li/output/classif_cl_30_padsd',\n",
       " u'/home/tais/.grass7/r.li/output/classif_cl_30_shape',\n",
       " u'/home/tais/.grass7/r.li/output/classif_cl_30_edgedensity',\n",
       " u'/home/tais/.grass7/r.li/output/classif_cl_31_patchnum',\n",
       " u'/home/tais/.grass7/r.li/output/classif_cl_31_patchdensity',\n",
       " u'/home/tais/.grass7/r.li/output/classif_cl_31_mps',\n",
       " u'/home/tais/.grass7/r.li/output/classif_cl_31_padcv',\n",
       " u'/home/tais/.grass7/r.li/output/classif_cl_31_padrange',\n",
       " u'/home/tais/.grass7/r.li/output/classif_cl_31_padsd',\n",
       " u'/home/tais/.grass7/r.li/output/classif_cl_31_shape',\n",
       " u'/home/tais/.grass7/r.li/output/classif_cl_31_edgedensity',\n",
       " u'/home/tais/.grass7/r.li/output/classif_cl_41_patchnum',\n",
       " u'/home/tais/.grass7/r.li/output/classif_cl_41_patchdensity',\n",
       " u'/home/tais/.grass7/r.li/output/classif_cl_41_mps',\n",
       " u'/home/tais/.grass7/r.li/output/classif_cl_41_padcv',\n",
       " u'/home/tais/.grass7/r.li/output/classif_cl_41_padrange',\n",
       " u'/home/tais/.grass7/r.li/output/classif_cl_41_padsd',\n",
       " u'/home/tais/.grass7/r.li/output/classif_cl_41_shape',\n",
       " u'/home/tais/.grass7/r.li/output/classif_cl_41_edgedensity',\n",
       " u'/home/tais/.grass7/r.li/output/classif_cl_51_patchnum',\n",
       " u'/home/tais/.grass7/r.li/output/classif_cl_51_patchdensity',\n",
       " u'/home/tais/.grass7/r.li/output/classif_cl_51_mps',\n",
       " u'/home/tais/.grass7/r.li/output/classif_cl_51_padcv',\n",
       " u'/home/tais/.grass7/r.li/output/classif_cl_51_padrange',\n",
       " u'/home/tais/.grass7/r.li/output/classif_cl_51_padsd',\n",
       " u'/home/tais/.grass7/r.li/output/classif_cl_51_shape',\n",
       " u'/home/tais/.grass7/r.li/output/classif_cl_51_edgedensity',\n",
       " u'/home/tais/.grass7/r.li/output/landscape_units_shape_metrics',\n",
       " u'/home/tais/.grass7/r.li/output/metrics_ndvi_ndwi_sar']"
      ]
     },
     "execution_count": 177,
     "metadata": {},
     "output_type": "execute_result"
    }
   ],
   "source": [
    "resultfiles"
   ]
  },
  {
   "cell_type": "markdown",
   "metadata": {
    "collapsed": true
   },
   "source": [
    "### Mean and standard deviation of building's height"
   ]
  },
  {
   "cell_type": "markdown",
   "metadata": {
    "collapsed": true
   },
   "source": [
    "#### Create raster with nDSM value of 'buildings' pixels"
   ]
  },
  {
   "cell_type": "code",
   "execution_count": 178,
   "metadata": {
    "collapsed": true
   },
   "outputs": [],
   "source": [
    "# Set pixel value of 'buildings' on the 'baselandcoverraster'\n",
    "buildpixel=11\n",
    "# Set the name of the new layer containing height of buildings\n",
    "buildings_height='buildings_height'\n",
    "# Set the path to the file for i.segment.stats results for metrics_ndvi_ndwi_sar\n",
    "metrics_buildings_height=os.path.join(rli_output_dir,\"metrics_buildings_height\")\n",
    "# Create temp fil which will contain intermediate results\n",
    "TMP_sumheights=grass.tempfile()+'_sumheights.csv'\n",
    "TMP_nbrbuildpixels=grass.tempfile()+'_nbrbuildpixels.csv'"
   ]
  },
  {
   "cell_type": "code",
   "execution_count": 179,
   "metadata": {},
   "outputs": [
    {
     "data": {
      "text/plain": [
       "'Creation of layer in 5.9 seconds'"
      ]
     },
     "execution_count": 179,
     "metadata": {},
     "output_type": "execute_result"
    }
   ],
   "source": [
    "# Save time for computing processin time\n",
    "begintime=time.time()\n",
    "# Create a raster layer with height of pixels classified as 'buildings'\n",
    "gscript.run_command('g.region', raster=baselandcoverraster, quiet=True) #Set the region\n",
    "formula=\"%s=if(%s==%s, %s, 0)\"%(buildings_height,baselandcoverraster,buildpixel,ndsm)\n",
    "gscript.mapcalc(formula, overwrite=True)\n",
    "# Compute and print processing time\n",
    "print_processing_time(begintime,\"Creation of layer in \")"
   ]
  },
  {
   "cell_type": "code",
   "execution_count": 180,
   "metadata": {
    "scrolled": true
   },
   "outputs": [
    {
     "data": {
      "text/plain": [
       "'i.segment.stats run in 10.8 seconds'"
      ]
     },
     "execution_count": 180,
     "metadata": {},
     "output_type": "execute_result"
    }
   ],
   "source": [
    "# Save time for computing processin time\n",
    "begintime=time.time()\n",
    "# Compute sum of build pixels's height using i.segment.stats \n",
    "gscript.run_command('i.segment.stats', overwrite=True, map=raster_landscapeunits,\n",
    "                    raster_statistics='sum', flags='s', rasters='buildings_height',\n",
    "                    csvfile=TMP_sumheights,processes=ncores)\n",
    "# Compute number of built pixels using i.segment.stats\n",
    "binary_builtup_raster=\"%s_cl_%s\"%(baselandcoverraster.split(\"@\")[0],buildpixel)\n",
    "gscript.run_command('g.copy', overwrite=True, raster='%s,tmp'%binary_builtup_raster)\n",
    "gscript.run_command('r.null', map='tmp', null=0)\n",
    "gscript.run_command('i.segment.stats', overwrite=True, map=raster_landscapeunits,\n",
    "                    raster_statistics='sum', flags='s', rasters='tmp',\n",
    "                    csvfile=TMP_nbrbuildpixels,processes=ncores)\n",
    "# Compute and print processing time\n",
    "print_processing_time(begintime,\"i.segment.stats run in \")"
   ]
  },
  {
   "cell_type": "code",
   "execution_count": 181,
   "metadata": {},
   "outputs": [
    {
     "data": {
      "text/plain": [
       "\"Mean build pixels's height computed in 0.0 seconds\""
      ]
     },
     "execution_count": 181,
     "metadata": {},
     "output_type": "execute_result"
    }
   ],
   "source": [
    "# Save time for computing processin time\n",
    "begintime=time.time()\n",
    "# Improt library to be able to iterate on two files in the same loop\n",
    "from itertools import izip\n",
    "# Declare empty dictionnary\n",
    "tmp_dic={}\n",
    "for i, (line_from_file_1, line_from_file_2) in enumerate(izip(open(TMP_sumheights), open(TMP_nbrbuildpixels))):\n",
    "    if i==0:\n",
    "        continue\n",
    "    f1_items=line_from_file_1.split(\"\\n\")[0].split(\"|\")\n",
    "    f2_items=line_from_file_2.split(\"\\n\")[0].split(\"|\")\n",
    "    key=f1_items[0]\n",
    "    sumheight=f1_items[1]\n",
    "    nbpixel=f2_items[1]\n",
    "    try:\n",
    "        mean_height=float(sumheight)/float(nbpixel)\n",
    "    except ZeroDivisionError:\n",
    "        mean_height=0\n",
    "    tmp_dic[key]=mean_height\n",
    "# Get the name of the first colum\n",
    "with open(TMP_sumheights) as f:\n",
    "    column_a=f.next().split(\"\\n\")[0].split(\"|\")[0]\n",
    "# Built the content of the file\n",
    "content=[]\n",
    "content.append((column_a,'mean_build_height'))\n",
    "for key in tmp_dic.keys():\n",
    "    content.append((key,tmp_dic[key]))\n",
    "# Create a new file\n",
    "fout=open(metrics_buildings_height,\"w\")\n",
    "writer=csv.writer(fout, delimiter='|')\n",
    "writer.writerows(content)\n",
    "fout.close()\n",
    "# Compute and print processing time\n",
    "print_processing_time(begintime,\"Mean build pixels's height computed in \")"
   ]
  },
  {
   "cell_type": "code",
   "execution_count": 182,
   "metadata": {
    "collapsed": true
   },
   "outputs": [],
   "source": [
    "# Remove temporary layers\n",
    "gscript.run_command('g.remove', flags='ef', type='raster', name='tmp')\n",
    "# Remove temporary files\n",
    "os.remove(TMP_sumheights)\n",
    "os.remove(TMP_nbrbuildpixels)"
   ]
  },
  {
   "cell_type": "code",
   "execution_count": 183,
   "metadata": {
    "collapsed": true
   },
   "outputs": [],
   "source": [
    "resultfiles.append(metrics_buildings_height)"
   ]
  },
  {
   "cell_type": "code",
   "execution_count": 295,
   "metadata": {
    "scrolled": true
   },
   "outputs": [
    {
     "data": {
      "text/plain": [
       "[u'/home/tais/.grass7/r.li/output/classif_dominance',\n",
       " u'/home/tais/.grass7/r.li/output/classif_pielou',\n",
       " u'/home/tais/.grass7/r.li/output/classif_renyi',\n",
       " u'/home/tais/.grass7/r.li/output/classif_richness',\n",
       " u'/home/tais/.grass7/r.li/output/classif_shannon',\n",
       " u'/home/tais/.grass7/r.li/output/classif_simpson',\n",
       " u'/home/tais/.grass7/r.li/output/classif_cl_11_patchnum',\n",
       " u'/home/tais/.grass7/r.li/output/classif_cl_11_patchdensity',\n",
       " u'/home/tais/.grass7/r.li/output/classif_cl_11_mps',\n",
       " u'/home/tais/.grass7/r.li/output/classif_cl_11_padcv',\n",
       " u'/home/tais/.grass7/r.li/output/classif_cl_11_padrange',\n",
       " u'/home/tais/.grass7/r.li/output/classif_cl_11_padsd',\n",
       " u'/home/tais/.grass7/r.li/output/classif_cl_11_shape',\n",
       " u'/home/tais/.grass7/r.li/output/classif_cl_11_edgedensity',\n",
       " u'/home/tais/.grass7/r.li/output/classif_cl_13_patchnum',\n",
       " u'/home/tais/.grass7/r.li/output/classif_cl_13_patchdensity',\n",
       " u'/home/tais/.grass7/r.li/output/classif_cl_13_mps',\n",
       " u'/home/tais/.grass7/r.li/output/classif_cl_13_padcv',\n",
       " u'/home/tais/.grass7/r.li/output/classif_cl_13_padrange',\n",
       " u'/home/tais/.grass7/r.li/output/classif_cl_13_padsd',\n",
       " u'/home/tais/.grass7/r.li/output/classif_cl_13_shape',\n",
       " u'/home/tais/.grass7/r.li/output/classif_cl_13_edgedensity',\n",
       " u'/home/tais/.grass7/r.li/output/classif_cl_14_patchnum',\n",
       " u'/home/tais/.grass7/r.li/output/classif_cl_14_patchdensity',\n",
       " u'/home/tais/.grass7/r.li/output/classif_cl_14_mps',\n",
       " u'/home/tais/.grass7/r.li/output/classif_cl_14_padcv',\n",
       " u'/home/tais/.grass7/r.li/output/classif_cl_14_padrange',\n",
       " u'/home/tais/.grass7/r.li/output/classif_cl_14_padsd',\n",
       " u'/home/tais/.grass7/r.li/output/classif_cl_14_shape',\n",
       " u'/home/tais/.grass7/r.li/output/classif_cl_14_edgedensity',\n",
       " u'/home/tais/.grass7/r.li/output/classif_cl_20_patchnum',\n",
       " u'/home/tais/.grass7/r.li/output/classif_cl_20_patchdensity',\n",
       " u'/home/tais/.grass7/r.li/output/classif_cl_20_mps',\n",
       " u'/home/tais/.grass7/r.li/output/classif_cl_20_padcv',\n",
       " u'/home/tais/.grass7/r.li/output/classif_cl_20_padrange',\n",
       " u'/home/tais/.grass7/r.li/output/classif_cl_20_padsd',\n",
       " u'/home/tais/.grass7/r.li/output/classif_cl_20_shape',\n",
       " u'/home/tais/.grass7/r.li/output/classif_cl_20_edgedensity',\n",
       " u'/home/tais/.grass7/r.li/output/classif_cl_30_patchnum',\n",
       " u'/home/tais/.grass7/r.li/output/classif_cl_30_patchdensity',\n",
       " u'/home/tais/.grass7/r.li/output/classif_cl_30_mps',\n",
       " u'/home/tais/.grass7/r.li/output/classif_cl_30_padcv',\n",
       " u'/home/tais/.grass7/r.li/output/classif_cl_30_padrange',\n",
       " u'/home/tais/.grass7/r.li/output/classif_cl_30_padsd',\n",
       " u'/home/tais/.grass7/r.li/output/classif_cl_30_shape',\n",
       " u'/home/tais/.grass7/r.li/output/classif_cl_30_edgedensity',\n",
       " u'/home/tais/.grass7/r.li/output/classif_cl_31_patchnum',\n",
       " u'/home/tais/.grass7/r.li/output/classif_cl_31_patchdensity',\n",
       " u'/home/tais/.grass7/r.li/output/classif_cl_31_mps',\n",
       " u'/home/tais/.grass7/r.li/output/classif_cl_31_padcv',\n",
       " u'/home/tais/.grass7/r.li/output/classif_cl_31_padrange',\n",
       " u'/home/tais/.grass7/r.li/output/classif_cl_31_padsd',\n",
       " u'/home/tais/.grass7/r.li/output/classif_cl_31_shape',\n",
       " u'/home/tais/.grass7/r.li/output/classif_cl_31_edgedensity',\n",
       " u'/home/tais/.grass7/r.li/output/classif_cl_41_patchnum',\n",
       " u'/home/tais/.grass7/r.li/output/classif_cl_41_patchdensity',\n",
       " u'/home/tais/.grass7/r.li/output/classif_cl_41_mps',\n",
       " u'/home/tais/.grass7/r.li/output/classif_cl_41_padcv',\n",
       " u'/home/tais/.grass7/r.li/output/classif_cl_41_padrange',\n",
       " u'/home/tais/.grass7/r.li/output/classif_cl_41_padsd',\n",
       " u'/home/tais/.grass7/r.li/output/classif_cl_41_shape',\n",
       " u'/home/tais/.grass7/r.li/output/classif_cl_41_edgedensity',\n",
       " u'/home/tais/.grass7/r.li/output/classif_cl_51_patchnum',\n",
       " u'/home/tais/.grass7/r.li/output/classif_cl_51_patchdensity',\n",
       " u'/home/tais/.grass7/r.li/output/classif_cl_51_mps',\n",
       " u'/home/tais/.grass7/r.li/output/classif_cl_51_padcv',\n",
       " u'/home/tais/.grass7/r.li/output/classif_cl_51_padrange',\n",
       " u'/home/tais/.grass7/r.li/output/classif_cl_51_padsd',\n",
       " u'/home/tais/.grass7/r.li/output/classif_cl_51_shape',\n",
       " u'/home/tais/.grass7/r.li/output/classif_cl_51_edgedensity']"
      ]
     },
     "execution_count": 295,
     "metadata": {},
     "output_type": "execute_result"
    }
   ],
   "source": [
    "resultfiles"
   ]
  },
  {
   "cell_type": "markdown",
   "metadata": {
    "collapsed": true
   },
   "source": [
    "### Proportion of each of individual classes in the landcover map"
   ]
  },
  {
   "cell_type": "code",
   "execution_count": 292,
   "metadata": {},
   "outputs": [],
   "source": [
    "### Function that compute the proportion of each class of landcover\n",
    "import itertools\n",
    "import multiprocessing\n",
    "from functools import partial\n",
    "import sys, csv\n",
    "import grass.script as gscript\n",
    "\n",
    "def random_string(N):\n",
    "    import random, string\n",
    "    prefix=random.choice(string.ascii_uppercase + string.ascii_lowercase)\n",
    "    suffix=''.join(random.choice(string.ascii_uppercase + string.ascii_lowercase + string.digits) for _ in range(N))\n",
    "    return prefix+suffix\n",
    "\n",
    "def compute_prop_landcover(outputfolder,landscape_units_raster,binary_class_raster):\n",
    "    # Save the current class in a new variable \n",
    "    current_class=binary_class_raster.split(\"@\")[0].split(\"_\")[-1]\n",
    "    # Initialize a temp files\n",
    "    temp_file=os.path.join(outputfolder,random_string(10))\n",
    "    tmp_copy='%s_%s'%(random_string(4),current_class)\n",
    "    # Make copy of the raster and fill the null values with zero\n",
    "    gscript.run_command('g.copy', overwrite=True, raster='%s,%s'%(binary_class_raster,tmp_copy))\n",
    "    gscript.run_command('r.null', map=tmp_copy, null='0')\n",
    "    # Compute area of landscape unit and total pixels of the current binary class raster\n",
    "    gscript.run_command('i.segment.stats', flags=\"r\", quiet=True, overwrite=True, \n",
    "                        map=landscape_units_raster, area_measures='area', \n",
    "                        rasters=tmp_copy, raster_statistics='sum', \n",
    "                        csvfile=temp_file, separator='pipe')\n",
    "    gscript.run_command('g.remove', flags='f', type='raster', name=tmp_copy)\n",
    "    # Create outputfile and compute proportion of class\n",
    "    outfile=os.path.join(outputfolder, \"prop_%s\"%current_class)\n",
    "    writer=csv.writer(open(outfile,'w'), delimiter=\"|\")\n",
    "    reader=csv.reader(open(temp_file,'r'), delimiter=\"|\")\n",
    "    header=reader.next()\n",
    "    crash_report=[]\n",
    "    content=[]\n",
    "    content.append([header[0],\"prop_%s\"%current_class])  #Create new header with first original column and current class related name for proportion\n",
    "    for row in reader:\n",
    "        try:\n",
    "            prop=100*float(row[2])/float(row[1])\n",
    "            content.append([row[0],\"{0:.5f}\".format(prop)])\n",
    "        except ZeroDivisionError:\n",
    "            crash_report.append(row[0])\n",
    "            continue\n",
    "    writer.writerows(content)\n",
    "    os.remove(temp_file)\n",
    "    # Print notification of ZeroDivisionError if it happened\n",
    "    if len(crash_report)>0:\n",
    "        print \"An 'ZeroDivisionError' has been registered for the following <%s>\"%header[0]+\"\\n\".join(crash_report)\n",
    "    # Return the result file\n",
    "    return outfile\n",
    "    \n",
    "def get_classproportions(outputfolder,landscape_units_raster,binary_class_raster_list,\n",
    "                         returnlistresult=True,ncores=2):\n",
    "    # Check if raster exists to avoid error in mutliprocessing \n",
    "    try:\n",
    "        mpset=landscape_units_raster.split(\"@\")[1]\n",
    "    except:\n",
    "        mpset=\"\"\n",
    "    if landscape_units_raster not in [x.split(\"@\")[0] for x in gscript.list_strings(type='raster',mapset=mpset)]:\n",
    "        sys.exit('Raster <%s> not found' %landscape_units_raster)\n",
    "    # Check for number of cores doesnt exceed available\n",
    "    nbcpu=multiprocessing.cpu_count()\n",
    "    if ncores>=nbcpu:\n",
    "        ncores=nbcpu-1\n",
    "        if ncores>len(binary_class_raster_list):\n",
    "            ncores=len(binary_class_raster_list)  #Adapt number of cores to number of metrics to compute\n",
    "    # Declare empty list for return\n",
    "    returnlist=[] \n",
    "    # Create a new pool\n",
    "    p=Pool(ncores)\n",
    "    # Set the two fixed argument of the 'compute_prop_landcover' function\n",
    "    func=partial(compute_prop_landcover,outputfolder,landscape_units_raster)\n",
    "    # Launch the processes for as many items in the 'functions_name' list and get the ordered results using map function\n",
    "    returnlist=p.map(func,binary_class_raster_list)\n",
    "    p.close()\n",
    "    p.join()\n",
    "    # Return list of paths to result files\n",
    "    if returnlistresult:\n",
    "        return returnlist"
   ]
  },
  {
   "cell_type": "code",
   "execution_count": 293,
   "metadata": {},
   "outputs": [],
   "source": [
    "# Set a tuple with name of land cover class binary raster to be processed \n",
    "listofbinary=tuple(raster_list[1:])\n",
    "# Compute proportion of each land cover class in landscape units\n",
    "proportion_results=get_classproportions(rli_output_dir,raster_landscapeunits,listofbinary,returnlistresult=True,ncores=10)"
   ]
  },
  {
   "cell_type": "code",
   "execution_count": 296,
   "metadata": {},
   "outputs": [
    {
     "data": {
      "text/plain": [
       "[None, None, None, None, None, None, None, None]"
      ]
     },
     "execution_count": 296,
     "metadata": {},
     "output_type": "execute_result"
    }
   ],
   "source": [
    "resultfiles.append(proportion_results)"
   ]
  },
  {
   "cell_type": "code",
   "execution_count": 297,
   "metadata": {
    "scrolled": true
   },
   "outputs": [
    {
     "data": {
      "text/plain": [
       "[u'/home/tais/.grass7/r.li/output/classif_dominance',\n",
       " u'/home/tais/.grass7/r.li/output/classif_pielou',\n",
       " u'/home/tais/.grass7/r.li/output/classif_renyi',\n",
       " u'/home/tais/.grass7/r.li/output/classif_richness',\n",
       " u'/home/tais/.grass7/r.li/output/classif_shannon',\n",
       " u'/home/tais/.grass7/r.li/output/classif_simpson',\n",
       " u'/home/tais/.grass7/r.li/output/classif_cl_11_patchnum',\n",
       " u'/home/tais/.grass7/r.li/output/classif_cl_11_patchdensity',\n",
       " u'/home/tais/.grass7/r.li/output/classif_cl_11_mps',\n",
       " u'/home/tais/.grass7/r.li/output/classif_cl_11_padcv',\n",
       " u'/home/tais/.grass7/r.li/output/classif_cl_11_padrange',\n",
       " u'/home/tais/.grass7/r.li/output/classif_cl_11_padsd',\n",
       " u'/home/tais/.grass7/r.li/output/classif_cl_11_shape',\n",
       " u'/home/tais/.grass7/r.li/output/classif_cl_11_edgedensity',\n",
       " u'/home/tais/.grass7/r.li/output/classif_cl_13_patchnum',\n",
       " u'/home/tais/.grass7/r.li/output/classif_cl_13_patchdensity',\n",
       " u'/home/tais/.grass7/r.li/output/classif_cl_13_mps',\n",
       " u'/home/tais/.grass7/r.li/output/classif_cl_13_padcv',\n",
       " u'/home/tais/.grass7/r.li/output/classif_cl_13_padrange',\n",
       " u'/home/tais/.grass7/r.li/output/classif_cl_13_padsd',\n",
       " u'/home/tais/.grass7/r.li/output/classif_cl_13_shape',\n",
       " u'/home/tais/.grass7/r.li/output/classif_cl_13_edgedensity',\n",
       " u'/home/tais/.grass7/r.li/output/classif_cl_14_patchnum',\n",
       " u'/home/tais/.grass7/r.li/output/classif_cl_14_patchdensity',\n",
       " u'/home/tais/.grass7/r.li/output/classif_cl_14_mps',\n",
       " u'/home/tais/.grass7/r.li/output/classif_cl_14_padcv',\n",
       " u'/home/tais/.grass7/r.li/output/classif_cl_14_padrange',\n",
       " u'/home/tais/.grass7/r.li/output/classif_cl_14_padsd',\n",
       " u'/home/tais/.grass7/r.li/output/classif_cl_14_shape',\n",
       " u'/home/tais/.grass7/r.li/output/classif_cl_14_edgedensity',\n",
       " u'/home/tais/.grass7/r.li/output/classif_cl_20_patchnum',\n",
       " u'/home/tais/.grass7/r.li/output/classif_cl_20_patchdensity',\n",
       " u'/home/tais/.grass7/r.li/output/classif_cl_20_mps',\n",
       " u'/home/tais/.grass7/r.li/output/classif_cl_20_padcv',\n",
       " u'/home/tais/.grass7/r.li/output/classif_cl_20_padrange',\n",
       " u'/home/tais/.grass7/r.li/output/classif_cl_20_padsd',\n",
       " u'/home/tais/.grass7/r.li/output/classif_cl_20_shape',\n",
       " u'/home/tais/.grass7/r.li/output/classif_cl_20_edgedensity',\n",
       " u'/home/tais/.grass7/r.li/output/classif_cl_30_patchnum',\n",
       " u'/home/tais/.grass7/r.li/output/classif_cl_30_patchdensity',\n",
       " u'/home/tais/.grass7/r.li/output/classif_cl_30_mps',\n",
       " u'/home/tais/.grass7/r.li/output/classif_cl_30_padcv',\n",
       " u'/home/tais/.grass7/r.li/output/classif_cl_30_padrange',\n",
       " u'/home/tais/.grass7/r.li/output/classif_cl_30_padsd',\n",
       " u'/home/tais/.grass7/r.li/output/classif_cl_30_shape',\n",
       " u'/home/tais/.grass7/r.li/output/classif_cl_30_edgedensity',\n",
       " u'/home/tais/.grass7/r.li/output/classif_cl_31_patchnum',\n",
       " u'/home/tais/.grass7/r.li/output/classif_cl_31_patchdensity',\n",
       " u'/home/tais/.grass7/r.li/output/classif_cl_31_mps',\n",
       " u'/home/tais/.grass7/r.li/output/classif_cl_31_padcv',\n",
       " u'/home/tais/.grass7/r.li/output/classif_cl_31_padrange',\n",
       " u'/home/tais/.grass7/r.li/output/classif_cl_31_padsd',\n",
       " u'/home/tais/.grass7/r.li/output/classif_cl_31_shape',\n",
       " u'/home/tais/.grass7/r.li/output/classif_cl_31_edgedensity',\n",
       " u'/home/tais/.grass7/r.li/output/classif_cl_41_patchnum',\n",
       " u'/home/tais/.grass7/r.li/output/classif_cl_41_patchdensity',\n",
       " u'/home/tais/.grass7/r.li/output/classif_cl_41_mps',\n",
       " u'/home/tais/.grass7/r.li/output/classif_cl_41_padcv',\n",
       " u'/home/tais/.grass7/r.li/output/classif_cl_41_padrange',\n",
       " u'/home/tais/.grass7/r.li/output/classif_cl_41_padsd',\n",
       " u'/home/tais/.grass7/r.li/output/classif_cl_41_shape',\n",
       " u'/home/tais/.grass7/r.li/output/classif_cl_41_edgedensity',\n",
       " u'/home/tais/.grass7/r.li/output/classif_cl_51_patchnum',\n",
       " u'/home/tais/.grass7/r.li/output/classif_cl_51_patchdensity',\n",
       " u'/home/tais/.grass7/r.li/output/classif_cl_51_mps',\n",
       " u'/home/tais/.grass7/r.li/output/classif_cl_51_padcv',\n",
       " u'/home/tais/.grass7/r.li/output/classif_cl_51_padrange',\n",
       " u'/home/tais/.grass7/r.li/output/classif_cl_51_padsd',\n",
       " u'/home/tais/.grass7/r.li/output/classif_cl_51_shape',\n",
       " u'/home/tais/.grass7/r.li/output/classif_cl_51_edgedensity',\n",
       " u'/home/tais/.grass7/r.li/output/prop_11',\n",
       " u'/home/tais/.grass7/r.li/output/prop_13',\n",
       " u'/home/tais/.grass7/r.li/output/prop_14',\n",
       " u'/home/tais/.grass7/r.li/output/prop_20',\n",
       " u'/home/tais/.grass7/r.li/output/prop_30',\n",
       " u'/home/tais/.grass7/r.li/output/prop_31',\n",
       " u'/home/tais/.grass7/r.li/output/prop_41',\n",
       " u'/home/tais/.grass7/r.li/output/prop_51']"
      ]
     },
     "execution_count": 297,
     "metadata": {},
     "output_type": "execute_result"
    }
   ],
   "source": [
    "resultfiles"
   ]
  },
  {
   "cell_type": "code",
   "execution_count": 213,
   "metadata": {
    "collapsed": true
   },
   "outputs": [],
   "source": [
    "# Flat the 'resultfiles' list which contains several lists\n",
    "resultfiles=[item for sublist in resultfiles for item in sublist]"
   ]
  },
  {
   "cell_type": "markdown",
   "metadata": {
    "collapsed": true
   },
   "source": [
    "# Combine all .csv files together"
   ]
  },
  {
   "cell_type": "code",
   "execution_count": 298,
   "metadata": {
    "collapsed": true
   },
   "outputs": [],
   "source": [
    "def atoi(text):\n",
    "    '''\n",
    "    Function that return integer if text is digit - Used in 'natural_keys' function\n",
    "    '''\n",
    "    return int(text) if text.isdigit() else text\n",
    "\n",
    "def natural_keys(text):   #     Trick was found here: https://stackoverflow.com/questions/5967500/how-to-correctly-sort-a-string-with-a-number-inside\n",
    "    '''\n",
    "    Return key to be used for sorting string containing numerical values - Used in 'leftjoin_2csv' function\n",
    "    '''\n",
    "    import re  #Import needed library\n",
    "    return [ atoi(c) for c in re.split('(\\d+)', text) ]  #Split the string\n",
    "\n",
    "def join_2csv(file1,file2,separator=\";\",join='inner',fillempty='NULL'):\n",
    "    '''\n",
    "    Function that join two csv files according to the first column (primary key).\n",
    "    'file1' and 'file2' wait for complete path (strings) to the corresponding files. Please not that 'file1' is assume to be the left-one in the join\n",
    "\t'separator' wait for the character to be considered as .csv delimiter (string)\n",
    "\t'join' parameter wait either for 'left' or 'inner' according to type of join\n",
    "\t'fillempty' wait for the string to be use to fill the blank when no occurance is found for the join operation\n",
    "    '''\n",
    "    import tempfile,csv,os\n",
    "    header_list=[]\n",
    "    file1_values_dict={}\n",
    "    file2_values_dict={}\n",
    "    reader1=csv.reader(open(file1), delimiter=separator) #Csv reader for file 1\n",
    "    reader2=csv.reader(open(file2), delimiter=separator) #Csv reader for file 2\n",
    "    # Make a list of headers\n",
    "    header_list1=[ x for x in reader1.next()]\n",
    "    header_list2=[ x for x in reader2.next()[1:]]\n",
    "    # Make a list of unique IDs from the first and second table according to type of join\n",
    "    if join=='inner':\n",
    "        id_list=[ row[0] for row in reader1]\n",
    "        [id_list.append(row[0]) for row in reader2]\n",
    "        id_list=list(set(id_list))\n",
    "        id_list.sort(key=natural_keys)\n",
    "    if join=='left':\n",
    "        id_list=[ row[0] for row in reader1]\n",
    "        id_list=list(set(id_list))\n",
    "        id_list.sort(key=natural_keys)\n",
    "    # Build dictionnary for values of file 1\n",
    "    reader1=csv.reader(open(file1), delimiter=separator)\n",
    "    reader1.next()\n",
    "    values_dict1={rows[0]:rows[1:] for rows in reader1}\n",
    "    # Build dictionnary for values of file 2\n",
    "    reader2=csv.reader(open(file2), delimiter=separator)\n",
    "    reader2.next()\n",
    "    values_dict2={rows[0]:rows[1:] for rows in reader2}\n",
    "    # Built new content\n",
    "    new_content=[]\n",
    "    new_header=header_list1+header_list2\n",
    "    new_content.append(new_header)\n",
    "    for key in id_list:\n",
    "        new_row=[key]\n",
    "        try:\n",
    "            [new_row.append(value) for value in values_dict1[key]]\n",
    "        except:\n",
    "            [new_row.append('%s'%fillempty) for x in header_list1[1:]]\n",
    "        try:\n",
    "            [new_row.append(value) for value in values_dict2[key]]\n",
    "        except:\n",
    "            [new_row.append('%s'%fillempty) for x in header_list2]\n",
    "        new_content.append(new_row)\n",
    "    #Return the result\n",
    "    outfile=os.path.join(tempfile.gettempdir(),\"temp\")\n",
    "    writer=csv.writer(open(outfile,\"w\"), delimiter=separator)\n",
    "    writer.writerows(new_content) #Write multiples rows in the file\n",
    "    return outfile\n",
    "\n",
    "def join_multiplecsv(fileList,outfile,separator=\";\",join='inner', fillempty='NULL', overwrite=False):\n",
    "    '''\n",
    "    Function that apply join on multiple csv files\n",
    "    '''\n",
    "    import os, sys, shutil\n",
    "    # Stop execution if outputfile exitst and can not be overwriten\n",
    "    if os.path.isfile(outfile) and overwrite==False:\n",
    "        print \"File '%s' aleady exists and overwrite option is not enabled.\"%outfile\n",
    "    else:\n",
    "        if os.path.isfile(outfile) and overwrite==True:  # If outputfile exitst and can be overwriten\n",
    "            #os.remove(outfile)\n",
    "            print \"File '%s' will be overwrited.\"%outfile\n",
    "        nbfile=len(fileList)\n",
    "        if nbfile<=1: #Check if there are at least 2 files in the list\n",
    "            sys.exit(\"This function require at least two .csv files to be jointed together.\")\n",
    "        # Copy the list of file in a queue list\n",
    "        queue_list=list(fileList)\n",
    "        # Left join on the two first files\n",
    "        file1=queue_list.pop(0)\n",
    "        file2=queue_list.pop(0)\n",
    "        tmp_file=join_2csv(file1,file2,separator=separator,join=join, fillempty=fillempty)\n",
    "        # Left join on the rest of the files in the list\n",
    "        while len(queue_list)>0:\n",
    "            file2=queue_list.pop(0)\n",
    "            tmp_file=join_2csv(tmp_file,file2,separator=separator,join=join, fillempty=fillempty)\n",
    "        #Copy the temporary file to the desired output path\n",
    "        shutil.copy2(tmp_file,outfile)\n",
    "        # Print what happend\n",
    "        print \"%s individual .csv files were joint together.\"%nbfile\n",
    "\n",
    "def create_csvt(csv_file,separator=\";\",first_col_type=\"Integer\",rest_type=\"Real\"):\n",
    "    '''\n",
    "    Function that create a .csvt file with the same type of all columns except first one\n",
    "    '''\n",
    "    import csv\n",
    "    writer=csv.writer(open(csv_file+\"t\",\"w\"),delimiter=separator)\n",
    "    reader=csv.reader(open(csv_file,\"r\"),delimiter=separator)\n",
    "    header=reader.next()\n",
    "    typecolumn=[]\n",
    "    typecolumn.append(first_col_type)\n",
    "    for columns in header[1:]:\n",
    "        typecolumn.append(rest_type)\n",
    "    writer.writerow(typecolumn)"
   ]
  },
  {
   "cell_type": "code",
   "execution_count": 301,
   "metadata": {
    "collapsed": true
   },
   "outputs": [],
   "source": [
    "# Define the path for the .csv with final results\n",
    "outfile=os.path.join(rli_output_dir,\"land_use_metrics.csv\")"
   ]
  },
  {
   "cell_type": "code",
   "execution_count": 302,
   "metadata": {},
   "outputs": [
    {
     "name": "stdout",
     "output_type": "stream",
     "text": [
      "File '/home/tais/.grass7/r.li/output/land_use_metrics.csv' will be overwrited.\n",
      "78 individual .csv files were joint together.\n"
     ]
    }
   ],
   "source": [
    "# Join (inner join) all result files together in a new .csv file\n",
    "join_multiplecsv(resultfiles,outfile,separator=\"|\",join='inner',overwrite=True)\n",
    "# Create .csvt file\n",
    "create_csvt(outfile,separator=\"|\",first_col_type=\"Integer\",rest_type=\"Real\")"
   ]
  },
  {
   "cell_type": "markdown",
   "metadata": {
    "collapsed": true
   },
   "source": [
    "### Make a copy of the .csv file with results, where 'null' values are empty cells "
   ]
  },
  {
   "cell_type": "markdown",
   "metadata": {},
   "source": [
    "**For .csvt**"
   ]
  },
  {
   "cell_type": "code",
   "execution_count": null,
   "metadata": {
    "collapsed": true
   },
   "outputs": [],
   "source": [
    "# Define path to the .csv files\n",
    "afile=outfile+'t'\n",
    "pathtofile,extension=os.path.splitext(afile)\n",
    "bfile=pathtofile+\"_blanknull\"+extension\n",
    "# Make copy of the file\n",
    "shutil.copy2(afile,bfile)"
   ]
  },
  {
   "cell_type": "markdown",
   "metadata": {},
   "source": [
    "**For .csv**"
   ]
  },
  {
   "cell_type": "code",
   "execution_count": null,
   "metadata": {
    "collapsed": true
   },
   "outputs": [],
   "source": [
    "# Define path to the .csv files\n",
    "afile=outfile\n",
    "pathtofile,extension=os.path.splitext(afile)\n",
    "outfile_withoutnull=pathtofile+\"_blanknull\"+extension"
   ]
  },
  {
   "cell_type": "code",
   "execution_count": null,
   "metadata": {},
   "outputs": [],
   "source": [
    "import csv\n",
    "# Create a copy by removing the 'NULL' values\n",
    "reader=csv.reader(open(afile,'r'),delimiter=\"|\")\n",
    "writer=csv.writer(open(outfile_withoutnull,'w'),delimiter=\"|\")\n",
    "for row in reader:\n",
    "    newline=[]\n",
    "    [newline.append(x) if x != \"NULL\" else newline.append(\"\") for x in row]\n",
    "    writer.writerow(newline)"
   ]
  },
  {
   "cell_type": "markdown",
   "metadata": {
    "collapsed": true
   },
   "source": [
    "### Check if all the lines have the same number of items"
   ]
  },
  {
   "cell_type": "code",
   "execution_count": null,
   "metadata": {
    "collapsed": true
   },
   "outputs": [],
   "source": [
    "#### Function that check if rows of a .csv file have the same number of items than number of column in the first line (header)\n",
    "### If rows's lenght are identical, the function return 0. If not, it return a list containing the index number of row(s) that failed\n",
    "### The index is starting with value 1 for the first line of data (the header row is indexed 0)\n",
    "# 'csvfile' wait for the complete path (string) to the csvfile to be checked\n",
    "# 'separator' wait for the character used as separator in the .csv file (string)\n",
    "# 'allowemptycell' wait for a boolean value (True, False) depending if a empty cell should not be considered as a problem in the file\n",
    "\n",
    "def check_lenght_row(csvfile,separator,allowemptycell=True):\n",
    "    listofunequalrow=[]\n",
    "    afile=open(csvfile,'r')\n",
    "    header=afile.next()  # Save header row and go to the next one\n",
    "    nb_item_control=len(header.split(separator))\n",
    "    for x,row in enumerate(afile,1):    # Start counting at \"1\" because header is already skipped\n",
    "        row_items=row.split(separator)\n",
    "        if len(row_items) != nb_item_control: # Check it number of items is identical than the number of items in the header\n",
    "            listofunequalrow.append(x)\n",
    "        if not allowemptycell:\n",
    "            if \"\" in row_items:\n",
    "                listofunequalrow.append(x)\n",
    "    listofunequalrow=list(set(listofunequalrow))   # Recreate a list with uniques values from the original list\n",
    "    if len(listofunequalrow)>0:\n",
    "        return listofunequalrow  # Return a list of indexes for line whose length is not equal to the header\n",
    "    else:\n",
    "        return 0"
   ]
  },
  {
   "cell_type": "code",
   "execution_count": null,
   "metadata": {},
   "outputs": [],
   "source": [
    "# Check number of row in the .csv file\n",
    "fout=check_lenght_row(outfile_withoutnull,\";\",allowemptycell=True)\n",
    "if fout>0:\n",
    "    print \"Rows in csv do not have the same lenght. Please check the following row(s) index(es).\"\n",
    "    print \"/n\".join(fout)\n",
    "else:\n",
    "    print \"The csv looks good.\""
   ]
  },
  {
   "cell_type": "markdown",
   "metadata": {
    "collapsed": true
   },
   "source": [
    "### Replace current delimiter by ';'"
   ]
  },
  {
   "cell_type": "code",
   "execution_count": null,
   "metadata": {
    "collapsed": true
   },
   "outputs": [],
   "source": [
    "import csv\n",
    "reader=csv.reader(open(outfile,'r'),delimiter=\"|\")\n",
    "newfile=[]\n",
    "for row in reader:\n",
    "    newline=[]\n",
    "    [newline.append(x) for x in row]\n",
    "    newfile.append(newline)\n",
    "writer=csv.writer(open(outfile,'w'),delimiter=\";\")\n",
    "writer.writerows(newfile)"
   ]
  },
  {
   "cell_type": "code",
   "execution_count": null,
   "metadata": {
    "collapsed": true
   },
   "outputs": [],
   "source": [
    "import csv\n",
    "reader=csv.reader(open(outfile_withoutnull,'r'),delimiter=\"|\")\n",
    "newfile=[]\n",
    "for row in reader:\n",
    "    newline=[]\n",
    "    [newline.append(x) for x in row]\n",
    "    newfile.append(newline)\n",
    "writer=csv.writer(open(outfile_withoutnull,'w'),delimiter=\";\")\n",
    "writer.writerows(newfile)"
   ]
  },
  {
   "cell_type": "markdown",
   "metadata": {},
   "source": [
    "### Display the .csv using pandas"
   ]
  },
  {
   "cell_type": "code",
   "execution_count": null,
   "metadata": {
    "scrolled": true
   },
   "outputs": [],
   "source": [
    "import pandas as pd\n",
    "# Load the .csv file in a pandas dataframe\n",
    "df=pd.read_csv(outfile_withoutnull, sep=';',header=0)\n",
    "# Display the dataframe\n",
    "df"
   ]
  },
  {
   "cell_type": "markdown",
   "metadata": {
    "collapsed": true
   },
   "source": [
    "### Move files to dedicated folder"
   ]
  },
  {
   "cell_type": "markdown",
   "metadata": {
    "collapsed": true
   },
   "source": [
    "**Configuration files**"
   ]
  },
  {
   "cell_type": "code",
   "execution_count": null,
   "metadata": {
    "collapsed": true
   },
   "outputs": [],
   "source": [
    "# Set the folder where to move the configuration files\n",
    "finalfolder='/home/tais/Documents/GRASSDATA_Spie2017subset_Ouaga/Results_spatial_metrics/rli_config'"
   ]
  },
  {
   "cell_type": "code",
   "execution_count": null,
   "metadata": {
    "scrolled": true
   },
   "outputs": [],
   "source": [
    "## Create the folder if does not exists\n",
    "if not os.path.exists(finalfolder):\n",
    "    os.makedirs(finalfolder)\n",
    "    print \"Folder '\"+finalfolder+\"' created\"\n",
    "## Copy the files to the final folder and remove them from the original folder\n",
    "for configfile in list_configfile:\n",
    "    shutil.copy2(configfile,finalfolder)\n",
    "    os.remove(configfile)"
   ]
  },
  {
   "cell_type": "markdown",
   "metadata": {
    "collapsed": true
   },
   "source": [
    "**Result files**"
   ]
  },
  {
   "cell_type": "code",
   "execution_count": null,
   "metadata": {
    "collapsed": true
   },
   "outputs": [],
   "source": [
    "# Set the folder where to move the configuration files\n",
    "finalfolder='/home/tais/Documents/GRASSDATA_Spie2017subset_Ouaga/Results_spatial_metrics/rli_results'"
   ]
  },
  {
   "cell_type": "code",
   "execution_count": null,
   "metadata": {
    "scrolled": true
   },
   "outputs": [],
   "source": [
    "## Create the folder if does not exists\n",
    "if not os.path.exists(finalfolder):\n",
    "    os.makedirs(finalfolder)\n",
    "    print \"Folder '\"+finalfolder+\"' created\"\n",
    "## Copy the files to the final folder and remove them from the original folder\n",
    "for res_file in resultfiles:\n",
    "    shutil.copy2(res_file,finalfolder)\n",
    "    os.remove(res_file)"
   ]
  },
  {
   "cell_type": "code",
   "execution_count": null,
   "metadata": {
    "collapsed": true
   },
   "outputs": [],
   "source": [
    "# Copy the final csv file with all the results\n",
    "shutil.copy2(outfile,finalfolder)\n",
    "os.remove(outfile)\n",
    "shutil.copy2(outfile+'t',finalfolder)\n",
    "os.remove(outfile+'t')"
   ]
  },
  {
   "cell_type": "code",
   "execution_count": null,
   "metadata": {
    "collapsed": true
   },
   "outputs": [],
   "source": [
    "# Reasign the new path to the variable\n",
    "outfile=os.path.join(finalfolder,os.path.split(outfile)[-1])"
   ]
  },
  {
   "cell_type": "code",
   "execution_count": null,
   "metadata": {
    "collapsed": true
   },
   "outputs": [],
   "source": [
    "# Copy the final csv file with all the results\n",
    "shutil.copy2(outfile_withoutnull,finalfolder)\n",
    "os.remove(outfile_withoutnull)\n",
    "shutil.copy2(outfile_withoutnull+'t',finalfolder)\n",
    "os.remove(outfile_withoutnull+'t')"
   ]
  },
  {
   "cell_type": "code",
   "execution_count": null,
   "metadata": {
    "collapsed": true
   },
   "outputs": [],
   "source": [
    "# Reasign the new path to the variable\n",
    "outfile_withoutnull=os.path.join(finalfolder,os.path.split(outfile_withoutnull)[-1])"
   ]
  },
  {
   "cell_type": "markdown",
   "metadata": {
    "collapsed": true
   },
   "source": [
    "## Export the landscape polygons (with 'cat' column) as shapefile"
   ]
  },
  {
   "cell_type": "code",
   "execution_count": null,
   "metadata": {
    "collapsed": true
   },
   "outputs": [],
   "source": [
    "# Define the name of the shapefile with landscape units and the 'cat' column\n",
    "outputshp='/home/tais/Documents/GRASSDATA_Spie2017subset_Ouaga/Results_spatial_metrics/shapefile/Ouaga_subset_streetblocks.shp'"
   ]
  },
  {
   "cell_type": "code",
   "execution_count": null,
   "metadata": {
    "scrolled": true
   },
   "outputs": [],
   "source": [
    "## Create the folder if does not exists\n",
    "dirname=os.path.dirname(outputshp)\n",
    "if not os.path.exists(dirname):\n",
    "    os.makedirs(dirname)\n",
    "    print \"Folder '\"+dirname+\"' created\""
   ]
  },
  {
   "cell_type": "code",
   "execution_count": null,
   "metadata": {},
   "outputs": [],
   "source": [
    "# Export vector layer as shapefile\n",
    "gscript.run_command('v.out.ogr', flags='cem', overwrite=True, \n",
    "                    input=landscape_polygons, output=outputshp, format='ESRI_Shapefile')"
   ]
  },
  {
   "cell_type": "markdown",
   "metadata": {
    "collapsed": true
   },
   "source": [
    "## Join the .csv file to the landscape unit polygon layer"
   ]
  },
  {
   "cell_type": "code",
   "execution_count": null,
   "metadata": {
    "scrolled": true
   },
   "outputs": [],
   "source": [
    "# Import .csv as new table in GRASS\n",
    "csvfile=outfile\n",
    "gscript.run_command('db.in.ogr', overwrite=True, quiet=True, input=csvfile, output='spatial_metrics_table')"
   ]
  },
  {
   "cell_type": "code",
   "execution_count": null,
   "metadata": {},
   "outputs": [],
   "source": [
    "# Join the vector layer with the new table\n",
    "gscript.run_command('v.db.join', quiet=True, map=landscape_polygons, column='cat', \n",
    "                    other_table='spatial_metrics_table', other_column='cat_')"
   ]
  },
  {
   "cell_type": "code",
   "execution_count": null,
   "metadata": {
    "collapsed": true
   },
   "outputs": [],
   "source": []
  },
  {
   "cell_type": "code",
   "execution_count": null,
   "metadata": {
    "collapsed": true
   },
   "outputs": [],
   "source": []
  },
  {
   "cell_type": "code",
   "execution_count": null,
   "metadata": {
    "collapsed": true
   },
   "outputs": [],
   "source": []
  },
  {
   "cell_type": "code",
   "execution_count": null,
   "metadata": {
    "collapsed": true
   },
   "outputs": [],
   "source": []
  },
  {
   "cell_type": "code",
   "execution_count": null,
   "metadata": {
    "collapsed": true
   },
   "outputs": [],
   "source": []
  },
  {
   "cell_type": "code",
   "execution_count": 185,
   "metadata": {},
   "outputs": [
    {
     "ename": "SyntaxError",
     "evalue": "invalid syntax (<ipython-input-185-ebf05269556d>, line 1)",
     "output_type": "error",
     "traceback": [
      "\u001b[0;36m  File \u001b[0;32m\"<ipython-input-185-ebf05269556d>\"\u001b[0;36m, line \u001b[0;32m1\u001b[0m\n\u001b[0;31m    remove temp_streetblocks raster layer\u001b[0m\n\u001b[0m                           ^\u001b[0m\n\u001b[0;31mSyntaxError\u001b[0m\u001b[0;31m:\u001b[0m invalid syntax\n"
     ]
    }
   ],
   "source": [
    "remove temp_streetblocks raster layer"
   ]
  },
  {
   "cell_type": "code",
   "execution_count": null,
   "metadata": {
    "collapsed": true
   },
   "outputs": [],
   "source": []
  },
  {
   "cell_type": "markdown",
   "metadata": {},
   "source": [
    "**-_-_-_-_-_-_-_-_-_-_-_-_-_-_-_-_-_-_-_-_-_-_-_-_-_-_-_-_-_-_-_-_-_-_-_-_-_-_-_-_-_-_-_-_-_-_-_-_-_-_-_-_-_-_-_-_-_-_-_-_-**"
   ]
  }
 ],
 "metadata": {
  "anaconda-cloud": {},
  "kernelspec": {
   "display_name": "Python 2",
   "language": "python",
   "name": "python2"
  },
  "language_info": {
   "codemirror_mode": {
    "name": "ipython",
    "version": 2
   },
   "file_extension": ".py",
   "mimetype": "text/x-python",
   "name": "python",
   "nbconvert_exporter": "python",
   "pygments_lexer": "ipython2",
   "version": "2.7.12"
  }
 },
 "nbformat": 4,
 "nbformat_minor": 1
}
